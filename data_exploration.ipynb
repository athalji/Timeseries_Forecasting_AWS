{
 "cells": [
  {
   "cell_type": "markdown",
   "metadata": {},
   "source": [
    "# Data exploration and visualization"
   ]
  },
  {
   "cell_type": "markdown",
   "metadata": {},
   "source": [
    "This dataset is a 4G LTE mobile network counters data for a major MENA operator on Huawei infra. The dataset being worked on is a subset of the full dataset focused on countes used to calcualte high level performance KPIs for a period of one week. This notebook is an initial data exploration and visualization for this dataset before jumping into any forecasting modeling"
   ]
  },
  {
   "cell_type": "markdown",
   "metadata": {},
   "source": [
    "### Load libraries required for the analysis"
   ]
  },
  {
   "cell_type": "code",
   "execution_count": null,
   "metadata": {},
   "outputs": [],
   "source": [
    "import pandas as pd\n",
    "import numpy as np\n",
    "from statsmodels.tsa.holtwinters import SimpleExpSmoothing\n",
    "from statsmodels.tsa.holtwinters import Holt\n",
    "from statsmodels.tsa.holtwinters import ExponentialSmoothing\n",
    "from sklearn.metrics import mean_squared_error\n",
    "from sklearn.metrics import r2_score\n",
    "import itertools\n",
    "import seaborn as sns\n",
    "import matplotlib.pyplot as plt\n",
    "\n",
    "from datetime import date\n",
    "import calendar\n",
    "from pandas.api.types import CategoricalDtype\n",
    "import statsmodels.api as sm"
   ]
  },
  {
   "cell_type": "markdown",
   "metadata": {},
   "source": [
    "### Load the dataset and check the data type"
   ]
  },
  {
   "cell_type": "code",
   "execution_count": 893,
   "metadata": {},
   "outputs": [
    {
     "data": {
      "text/html": [
       "<div>\n",
       "<style scoped>\n",
       "    .dataframe tbody tr th:only-of-type {\n",
       "        vertical-align: middle;\n",
       "    }\n",
       "\n",
       "    .dataframe tbody tr th {\n",
       "        vertical-align: top;\n",
       "    }\n",
       "\n",
       "    .dataframe thead th {\n",
       "        text-align: right;\n",
       "    }\n",
       "</style>\n",
       "<table border=\"1\" class=\"dataframe\">\n",
       "  <thead>\n",
       "    <tr style=\"text-align: right;\">\n",
       "      <th></th>\n",
       "      <th>Start Time</th>\n",
       "      <th>Cell</th>\n",
       "      <th>L.Traffic.UL.SCH.QPSK.ErrTB.Ibler (None)</th>\n",
       "      <th>L.Traffic.UL.SCH.QPSK.ErrTB.Rbler (None)</th>\n",
       "      <th>L.Traffic.UL.SCH.QPSK.TB (None)</th>\n",
       "      <th>L.Traffic.UL.SCH.QPSK.TB.bits (bit)</th>\n",
       "      <th>L.Traffic.UL.SCH.QPSK.TB.Retrans (None)</th>\n",
       "      <th>L.Traffic.UL.SCH.QPSK.TB.Retrans.bits (bit)</th>\n",
       "      <th>L.Traffic.DL.PktDelay.Num.QCI.9 (packet)</th>\n",
       "      <th>L.Traffic.DL.PktDelay.Time.QCI.9 (ms)</th>\n",
       "      <th>...</th>\n",
       "      <th>L.Traffic.UL.SCH.16QAM.TB (None)</th>\n",
       "      <th>L.Traffic.UL.SCH.16QAM.TB.bits (bit)</th>\n",
       "      <th>L.Traffic.UL.SCH.16QAM.TB.Retrans (None)</th>\n",
       "      <th>L.Traffic.UL.SCH.16QAM.TB.Retrans.bits (bit)</th>\n",
       "      <th>L.Traffic.UL.SCH.64QAM.ErrTB.Ibler (None)</th>\n",
       "      <th>L.Traffic.UL.SCH.64QAM.ErrTB.Rbler (None)</th>\n",
       "      <th>L.Traffic.UL.SCH.64QAM.TB (None)</th>\n",
       "      <th>L.Traffic.UL.SCH.64QAM.TB.bits (bit)</th>\n",
       "      <th>L.Traffic.UL.SCH.64QAM.TB.Retrans (None)</th>\n",
       "      <th>L.Traffic.UL.SCH.64QAM.TB.Retrans.bits (bit)</th>\n",
       "    </tr>\n",
       "  </thead>\n",
       "  <tbody>\n",
       "    <tr>\n",
       "      <th>0</th>\n",
       "      <td>2013-08-28</td>\n",
       "      <td>Local cell identity=2, Cell Name=eNB_2786_2</td>\n",
       "      <td>16296</td>\n",
       "      <td>2631</td>\n",
       "      <td>153575</td>\n",
       "      <td>101906552</td>\n",
       "      <td>26414</td>\n",
       "      <td>15092480</td>\n",
       "      <td>785527</td>\n",
       "      <td>190975757</td>\n",
       "      <td>...</td>\n",
       "      <td>513181</td>\n",
       "      <td>1215761008</td>\n",
       "      <td>40201</td>\n",
       "      <td>98515328</td>\n",
       "      <td>0</td>\n",
       "      <td>0</td>\n",
       "      <td>0</td>\n",
       "      <td>0</td>\n",
       "      <td>0</td>\n",
       "      <td>0</td>\n",
       "    </tr>\n",
       "    <tr>\n",
       "      <th>1</th>\n",
       "      <td>2013-08-28</td>\n",
       "      <td>Local cell identity=1, Cell Name=eNB_2282_1</td>\n",
       "      <td>12856</td>\n",
       "      <td>433</td>\n",
       "      <td>111023</td>\n",
       "      <td>87983752</td>\n",
       "      <td>15671</td>\n",
       "      <td>10747464</td>\n",
       "      <td>1428194</td>\n",
       "      <td>753605164</td>\n",
       "      <td>...</td>\n",
       "      <td>670664</td>\n",
       "      <td>1167179360</td>\n",
       "      <td>47727</td>\n",
       "      <td>94020520</td>\n",
       "      <td>0</td>\n",
       "      <td>0</td>\n",
       "      <td>0</td>\n",
       "      <td>0</td>\n",
       "      <td>0</td>\n",
       "      <td>0</td>\n",
       "    </tr>\n",
       "    <tr>\n",
       "      <th>2</th>\n",
       "      <td>2013-08-28</td>\n",
       "      <td>Local cell identity=0, Cell Name=eNB_2786_0</td>\n",
       "      <td>13636</td>\n",
       "      <td>641</td>\n",
       "      <td>132016</td>\n",
       "      <td>89939024</td>\n",
       "      <td>17448</td>\n",
       "      <td>10200736</td>\n",
       "      <td>1002134</td>\n",
       "      <td>290990065</td>\n",
       "      <td>...</td>\n",
       "      <td>819410</td>\n",
       "      <td>1921970648</td>\n",
       "      <td>49922</td>\n",
       "      <td>117234944</td>\n",
       "      <td>0</td>\n",
       "      <td>0</td>\n",
       "      <td>0</td>\n",
       "      <td>0</td>\n",
       "      <td>0</td>\n",
       "      <td>0</td>\n",
       "    </tr>\n",
       "    <tr>\n",
       "      <th>3</th>\n",
       "      <td>2013-08-28</td>\n",
       "      <td>Local cell identity=0, Cell Name=eNB_5265_0</td>\n",
       "      <td>11903</td>\n",
       "      <td>82</td>\n",
       "      <td>126081</td>\n",
       "      <td>151564696</td>\n",
       "      <td>12790</td>\n",
       "      <td>20082880</td>\n",
       "      <td>617281</td>\n",
       "      <td>98672335</td>\n",
       "      <td>...</td>\n",
       "      <td>969115</td>\n",
       "      <td>1215749536</td>\n",
       "      <td>38963</td>\n",
       "      <td>53750968</td>\n",
       "      <td>0</td>\n",
       "      <td>0</td>\n",
       "      <td>0</td>\n",
       "      <td>0</td>\n",
       "      <td>0</td>\n",
       "      <td>0</td>\n",
       "    </tr>\n",
       "    <tr>\n",
       "      <th>4</th>\n",
       "      <td>2013-08-28</td>\n",
       "      <td>Local cell identity=2, Cell Name=eNB_5265_2</td>\n",
       "      <td>41385</td>\n",
       "      <td>7867</td>\n",
       "      <td>259625</td>\n",
       "      <td>183131112</td>\n",
       "      <td>76076</td>\n",
       "      <td>32228320</td>\n",
       "      <td>1121723</td>\n",
       "      <td>510453204</td>\n",
       "      <td>...</td>\n",
       "      <td>561853</td>\n",
       "      <td>1208172496</td>\n",
       "      <td>44483</td>\n",
       "      <td>105478408</td>\n",
       "      <td>0</td>\n",
       "      <td>0</td>\n",
       "      <td>0</td>\n",
       "      <td>0</td>\n",
       "      <td>0</td>\n",
       "      <td>0</td>\n",
       "    </tr>\n",
       "  </tbody>\n",
       "</table>\n",
       "<p>5 rows × 82 columns</p>\n",
       "</div>"
      ],
      "text/plain": [
       "  Start Time                                         Cell  \\\n",
       "0 2013-08-28  Local cell identity=2, Cell Name=eNB_2786_2   \n",
       "1 2013-08-28  Local cell identity=1, Cell Name=eNB_2282_1   \n",
       "2 2013-08-28  Local cell identity=0, Cell Name=eNB_2786_0   \n",
       "3 2013-08-28  Local cell identity=0, Cell Name=eNB_5265_0   \n",
       "4 2013-08-28  Local cell identity=2, Cell Name=eNB_5265_2   \n",
       "\n",
       "   L.Traffic.UL.SCH.QPSK.ErrTB.Ibler (None)  \\\n",
       "0                                     16296   \n",
       "1                                     12856   \n",
       "2                                     13636   \n",
       "3                                     11903   \n",
       "4                                     41385   \n",
       "\n",
       "   L.Traffic.UL.SCH.QPSK.ErrTB.Rbler (None)  L.Traffic.UL.SCH.QPSK.TB (None)  \\\n",
       "0                                      2631                           153575   \n",
       "1                                       433                           111023   \n",
       "2                                       641                           132016   \n",
       "3                                        82                           126081   \n",
       "4                                      7867                           259625   \n",
       "\n",
       "   L.Traffic.UL.SCH.QPSK.TB.bits (bit)  \\\n",
       "0                            101906552   \n",
       "1                             87983752   \n",
       "2                             89939024   \n",
       "3                            151564696   \n",
       "4                            183131112   \n",
       "\n",
       "   L.Traffic.UL.SCH.QPSK.TB.Retrans (None)  \\\n",
       "0                                    26414   \n",
       "1                                    15671   \n",
       "2                                    17448   \n",
       "3                                    12790   \n",
       "4                                    76076   \n",
       "\n",
       "   L.Traffic.UL.SCH.QPSK.TB.Retrans.bits (bit)  \\\n",
       "0                                     15092480   \n",
       "1                                     10747464   \n",
       "2                                     10200736   \n",
       "3                                     20082880   \n",
       "4                                     32228320   \n",
       "\n",
       "   L.Traffic.DL.PktDelay.Num.QCI.9 (packet)  \\\n",
       "0                                    785527   \n",
       "1                                   1428194   \n",
       "2                                   1002134   \n",
       "3                                    617281   \n",
       "4                                   1121723   \n",
       "\n",
       "   L.Traffic.DL.PktDelay.Time.QCI.9 (ms)  ...  \\\n",
       "0                              190975757  ...   \n",
       "1                              753605164  ...   \n",
       "2                              290990065  ...   \n",
       "3                               98672335  ...   \n",
       "4                              510453204  ...   \n",
       "\n",
       "   L.Traffic.UL.SCH.16QAM.TB (None)  L.Traffic.UL.SCH.16QAM.TB.bits (bit)  \\\n",
       "0                            513181                            1215761008   \n",
       "1                            670664                            1167179360   \n",
       "2                            819410                            1921970648   \n",
       "3                            969115                            1215749536   \n",
       "4                            561853                            1208172496   \n",
       "\n",
       "   L.Traffic.UL.SCH.16QAM.TB.Retrans (None)  \\\n",
       "0                                     40201   \n",
       "1                                     47727   \n",
       "2                                     49922   \n",
       "3                                     38963   \n",
       "4                                     44483   \n",
       "\n",
       "   L.Traffic.UL.SCH.16QAM.TB.Retrans.bits (bit)  \\\n",
       "0                                      98515328   \n",
       "1                                      94020520   \n",
       "2                                     117234944   \n",
       "3                                      53750968   \n",
       "4                                     105478408   \n",
       "\n",
       "  L.Traffic.UL.SCH.64QAM.ErrTB.Ibler (None)  \\\n",
       "0                                         0   \n",
       "1                                         0   \n",
       "2                                         0   \n",
       "3                                         0   \n",
       "4                                         0   \n",
       "\n",
       "   L.Traffic.UL.SCH.64QAM.ErrTB.Rbler (None)  \\\n",
       "0                                          0   \n",
       "1                                          0   \n",
       "2                                          0   \n",
       "3                                          0   \n",
       "4                                          0   \n",
       "\n",
       "   L.Traffic.UL.SCH.64QAM.TB (None)  L.Traffic.UL.SCH.64QAM.TB.bits (bit)  \\\n",
       "0                                 0                                     0   \n",
       "1                                 0                                     0   \n",
       "2                                 0                                     0   \n",
       "3                                 0                                     0   \n",
       "4                                 0                                     0   \n",
       "\n",
       "   L.Traffic.UL.SCH.64QAM.TB.Retrans (None)  \\\n",
       "0                                         0   \n",
       "1                                         0   \n",
       "2                                         0   \n",
       "3                                         0   \n",
       "4                                         0   \n",
       "\n",
       "   L.Traffic.UL.SCH.64QAM.TB.Retrans.bits (bit)  \n",
       "0                                             0  \n",
       "1                                             0  \n",
       "2                                             0  \n",
       "3                                             0  \n",
       "4                                             0  \n",
       "\n",
       "[5 rows x 82 columns]"
      ]
     },
     "execution_count": 893,
     "metadata": {},
     "output_type": "execute_result"
    }
   ],
   "source": [
    "df=pd.read_excel('Traffic.xlsx')\n",
    "df.head()"
   ]
  },
  {
   "cell_type": "markdown",
   "metadata": {},
   "source": [
    "What are we dealing with here? it's a dataset that has a time stamp, along with the name of the cell. The cells are the 4G LTE sites that provide coverage to the service area. Each cell has a reading every 15 minutes as seen below (taken for one cell as an example). There are 768 readings for each cell which amounts to a full week's data. As seen in the head results, each column has numeric values for each reading. Each column is called a \"counter\" as it counts/calculates one variable every 15 mins and records it in the the dataset"
   ]
  },
  {
   "cell_type": "code",
   "execution_count": 894,
   "metadata": {},
   "outputs": [
    {
     "data": {
      "text/plain": [
       "0        2013-08-28 00:00:00\n",
       "484      2013-08-28 00:15:00\n",
       "564      2013-08-28 00:30:00\n",
       "824      2013-08-28 00:45:00\n",
       "1190     2013-08-28 01:00:00\n",
       "                 ...        \n",
       "209057   2013-09-04 22:45:00\n",
       "209331   2013-09-04 23:00:00\n",
       "209605   2013-09-04 23:15:00\n",
       "209879   2013-09-04 23:30:00\n",
       "210153   2013-09-04 23:45:00\n",
       "Name: Start Time, Length: 768, dtype: datetime64[ns]"
      ]
     },
     "execution_count": 894,
     "metadata": {},
     "output_type": "execute_result"
    }
   ],
   "source": [
    "df['Start Time'] = pd.to_datetime(df['Start Time'])\n",
    "df_subset=df[df['Cell']=='Local cell identity=2, Cell Name=eNB_2786_2']\n",
    "df_subset['Start Time']"
   ]
  },
  {
   "cell_type": "markdown",
   "metadata": {},
   "source": [
    "Ok. What columns are we dealing with? Let's have a look"
   ]
  },
  {
   "cell_type": "code",
   "execution_count": 895,
   "metadata": {},
   "outputs": [
    {
     "data": {
      "text/plain": [
       "Index(['Start Time', 'Cell', 'L.Traffic.UL.SCH.QPSK.ErrTB.Ibler (None)',\n",
       "       'L.Traffic.UL.SCH.QPSK.ErrTB.Rbler (None)',\n",
       "       'L.Traffic.UL.SCH.QPSK.TB (None)',\n",
       "       'L.Traffic.UL.SCH.QPSK.TB.bits (bit)',\n",
       "       'L.Traffic.UL.SCH.QPSK.TB.Retrans (None)',\n",
       "       'L.Traffic.UL.SCH.QPSK.TB.Retrans.bits (bit)',\n",
       "       'L.Traffic.DL.PktDelay.Num.QCI.9 (packet)',\n",
       "       'L.Traffic.DL.PktDelay.Time.QCI.9 (ms)',\n",
       "       'L.Traffic.DL.PktUuLoss.Loss.QCI.9 (packet)',\n",
       "       'L.Traffic.DL.PktUuLoss.Tot.QCI.9 (packet)',\n",
       "       'L.Traffic.UL.PktLoss.Loss.QCI.9 (packet)',\n",
       "       'L.Traffic.UL.PktLoss.Tot.QCI.9 (packet)', 'DL RBLER (%)',\n",
       "       'L.PDCP.DL.RoHC.HdrCompRatio (%)', 'L.PDCP.DL.RoHC.PktCompRatio (%)',\n",
       "       'L.PDCP.Tx.Disc.Trf.SDU.QCI.9 (packet)',\n",
       "       'L.PDCP.Tx.TotRev.Trf.SDU.QCI.9 (packet)',\n",
       "       'L.PDCP.UL.RoHC.FailDecompRatio (%)', 'L.Traffic.CEU.Avg (None)',\n",
       "       'L.Traffic.User.ULData.Avg (None)', 'L.Traffic.User.DLData.Avg (None)',\n",
       "       'L.Traffic.User.Max (None)', 'L.Traffic.User.DLData.Max (None)',\n",
       "       'L.Traffic.User.Avg (None)', 'L.Traffic.CEU.Max (None)',\n",
       "       'L.Traffic.User.ULData.Max (None)', 'L.E-RAB.SessionTime.QCI9 (s)',\n",
       "       'L.E-RAB.SessionTime.UE (s)', 'L.Thrp.bits.DL (bit)',\n",
       "       'L.Thrp.bits.DL.Max (bit)', 'L.Thrp.bits.DL.QCI.9 (bit)',\n",
       "       'L.Thrp.bits.DL.QCI.9.Max (bit)', 'L.Thrp.bits.DL.SRB (bit)',\n",
       "       'L.Thrp.bits.UL (bit)', 'L.Thrp.bits.UL.Max (bit)',\n",
       "       'L.Thrp.bits.UL.QCI.9 (bit)', 'L.Thrp.bits.UL.SRB (bit)',\n",
       "       'L.Thrp.bits.UL.QCI.9.Max (bit)', 'L.Thrp.Time.Cell.DL (s)',\n",
       "       'L.Thrp.Time.Cell.UL (s)', 'L.Thrp.Time.DL (ms)',\n",
       "       'L.Thrp.Time.DL.QCI.9 (ms)', 'L.Thrp.Time.UL (ms)',\n",
       "       'L.Thrp.Time.UL.QCI.9 (ms)', 'L.UECNTX.AbnormRel (times)',\n",
       "       'L.UECNTX.NormRel (times)', 'L.Traffic.DRB (None)',\n",
       "       'L.Traffic.DRB.QCI.9 (None)', 'L.Traffic.BCH.TB.bits (bit)',\n",
       "       'L.Traffic.DL.SCH.16QAM.ErrTB.Ibler (None)',\n",
       "       'L.Traffic.DL.SCH.16QAM.ErrTB.Rbler (None)',\n",
       "       'L.Traffic.DL.SCH.16QAM.TB (None)',\n",
       "       'L.Traffic.DL.SCH.16QAM.TB.bits (bit)',\n",
       "       'L.Traffic.DL.SCH.16QAM.TB.Retrans (None)',\n",
       "       'L.Traffic.DL.SCH.16QAM.TB.Retrans.bits (bit)',\n",
       "       'L.Traffic.DL.SCH.64QAM.ErrTB.Ibler (None)',\n",
       "       'L.Traffic.DL.SCH.64QAM.ErrTB.Rbler (None)',\n",
       "       'L.Traffic.DL.SCH.64QAM.TB (None)',\n",
       "       'L.Traffic.DL.SCH.64QAM.TB.bits (bit)',\n",
       "       'L.Traffic.DL.SCH.64QAM.TB.Retrans (None)',\n",
       "       'L.Traffic.DL.SCH.64QAM.TB.Retrans.bits (bit)',\n",
       "       'L.Traffic.DL.SCH.QPSK.ErrTB.Ibler (None)',\n",
       "       'L.Traffic.DL.SCH.QPSK.ErrTB.Rbler (None)',\n",
       "       'L.Traffic.DL.SCH.QPSK.TB (None)',\n",
       "       'L.Traffic.DL.SCH.QPSK.TB.bits (bit)',\n",
       "       'L.Traffic.DL.SCH.QPSK.TB.Retrans (None)',\n",
       "       'L.Traffic.DL.SCH.QPSK.TB.Retrans.bits (bit)',\n",
       "       'L.Traffic.PCH.TB.bits (bit)',\n",
       "       'L.Traffic.UL.SCH.16QAM.ErrTB.Ibler (None)',\n",
       "       'L.Traffic.UL.SCH.16QAM.ErrTB.Rbler (None)',\n",
       "       'L.Traffic.UL.SCH.16QAM.TB (None)',\n",
       "       'L.Traffic.UL.SCH.16QAM.TB.bits (bit)',\n",
       "       'L.Traffic.UL.SCH.16QAM.TB.Retrans (None)',\n",
       "       'L.Traffic.UL.SCH.16QAM.TB.Retrans.bits (bit)',\n",
       "       'L.Traffic.UL.SCH.64QAM.ErrTB.Ibler (None)',\n",
       "       'L.Traffic.UL.SCH.64QAM.ErrTB.Rbler (None)',\n",
       "       'L.Traffic.UL.SCH.64QAM.TB (None)',\n",
       "       'L.Traffic.UL.SCH.64QAM.TB.bits (bit)',\n",
       "       'L.Traffic.UL.SCH.64QAM.TB.Retrans (None)',\n",
       "       'L.Traffic.UL.SCH.64QAM.TB.Retrans.bits (bit)'],\n",
       "      dtype='object')"
      ]
     },
     "execution_count": 895,
     "metadata": {},
     "output_type": "execute_result"
    }
   ],
   "source": [
    "df.columns"
   ]
  },
  {
   "cell_type": "markdown",
   "metadata": {},
   "source": [
    "There are a number of counters here. Counters included in the dataset are for each layer in the tech stack of 4G LTE airinterface. We are dealing in particular with PHY (bits transmitted/received, time to send/receive, block error rate for each modulation type etc..), MAC (packets transmitted/received), PDCP (Packets count, packets loss, PDCP compression stats), and NAS (Non-access startum session timers and counters). These counters and be used by themselves or in combination to come up with KPIs to monitor the performance/functionality of the 4G LTE network\n",
    "\n",
    "What are the types of columns that we have? the expectation is to be dealing with numeric data. is that what we see?"
   ]
  },
  {
   "cell_type": "code",
   "execution_count": 896,
   "metadata": {},
   "outputs": [
    {
     "data": {
      "text/plain": [
       "Start Time                                      datetime64[ns]\n",
       "Cell                                                    object\n",
       "L.Traffic.UL.SCH.QPSK.ErrTB.Ibler (None)                 int64\n",
       "L.Traffic.UL.SCH.QPSK.ErrTB.Rbler (None)                 int64\n",
       "L.Traffic.UL.SCH.QPSK.TB (None)                          int64\n",
       "                                                     ...      \n",
       "L.Traffic.UL.SCH.64QAM.ErrTB.Rbler (None)                int64\n",
       "L.Traffic.UL.SCH.64QAM.TB (None)                         int64\n",
       "L.Traffic.UL.SCH.64QAM.TB.bits (bit)                     int64\n",
       "L.Traffic.UL.SCH.64QAM.TB.Retrans (None)                 int64\n",
       "L.Traffic.UL.SCH.64QAM.TB.Retrans.bits (bit)             int64\n",
       "Length: 82, dtype: object"
      ]
     },
     "execution_count": 896,
     "metadata": {},
     "output_type": "execute_result"
    }
   ],
   "source": [
    "df.dtypes"
   ]
  },
  {
   "cell_type": "markdown",
   "metadata": {},
   "source": [
    "Looks like the majority of the columns are numeric as expected. Cell name is an object as expected. Start time, which is a time stamp, was read correctly as datetime. Let's set Start time as the index of the dataframe as we are interested in analyzing the dataset as timeseries data. Also let's check the count of each data type in the dataset"
   ]
  },
  {
   "cell_type": "code",
   "execution_count": 897,
   "metadata": {},
   "outputs": [],
   "source": [
    "df.set_index('Start Time',drop=False,inplace=True)"
   ]
  },
  {
   "cell_type": "code",
   "execution_count": 898,
   "metadata": {},
   "outputs": [
    {
     "data": {
      "text/plain": [
       "int64             74\n",
       "float64            5\n",
       "object             2\n",
       "datetime64[ns]     1\n",
       "dtype: int64"
      ]
     },
     "execution_count": 898,
     "metadata": {},
     "output_type": "execute_result"
    }
   ],
   "source": [
    "df.dtypes.value_counts()"
   ]
  },
  {
   "cell_type": "markdown",
   "metadata": {},
   "source": [
    "Seems like there are two object columns, which is not expected. We expect to have one only (Cell name). Let's check what the second one is"
   ]
  },
  {
   "cell_type": "code",
   "execution_count": 899,
   "metadata": {},
   "outputs": [
    {
     "data": {
      "text/plain": [
       "['Cell', 'DL RBLER (%)']"
      ]
     },
     "execution_count": 899,
     "metadata": {},
     "output_type": "execute_result"
    }
   ],
   "source": [
    "obj_cols = []\n",
    "for col in df.columns:\n",
    "    if df[col].dtypes == 'object':\n",
    "        obj_cols.append(col)\n",
    "        \n",
    "obj_cols"
   ]
  },
  {
   "cell_type": "markdown",
   "metadata": {},
   "source": [
    "DL BLER (Block error rate) was read as an objet for some reason. This is not expected as we should be dealing with a float here (values from 0 to 1). Are there any missing values that were read as strings for example in the dataset? let's check the unique values"
   ]
  },
  {
   "cell_type": "code",
   "execution_count": 901,
   "metadata": {
    "collapsed": true
   },
   "outputs": [
    {
     "data": {
      "text/plain": [
       "array([0.069, 0.095, 0.048, 0.006, 0.075, 0.057, 0.046, 0.161, 0.03,\n",
       "       0.064, 0.084, 0.142, 0.032, 0.101, 0.041, 0.11, 0.068, 0.031,\n",
       "       0.133, 0.102, 0.056, 0.086, 0.189, 0.155, 0.288, 0.053, 0.067,\n",
       "       0.026, 0.109, 0.134, 0.18, 0.06, 0.021, 0.028, 0.02, 0.003, 0.025,\n",
       "       0.043, 0.035, 0.098, 0.113, 0.033, 0.151, 0.125, 0.112, 0.091,\n",
       "       0.106, 0.038, 0.047, 0.12, 0.062, 0.104, 0.094, 0.054, 0.082,\n",
       "       0.185, 0.127, 0.226, 0.011, 0.128, 0.044, 0.141, 0.213, 0.117,\n",
       "       0.178, 0.081, 0.024, 0.05, 0.066, 0.059, 0.045, 0.039, 0.206,\n",
       "       0.183, 0.221, 0.266, 0.118, 0.096, 0.007, 0.089, 0.237, 0.301,\n",
       "       0.019, 0.215, 0.076, 0.013, 0.015, 0.051, 0.002, 0.153, 0.135,\n",
       "       0.14, 0.146, 0.023, 0.04, 0.014, 0.08, 0.242, 0.093, 0.136, 0.099,\n",
       "       0.037, 0.19, 0.073, 0.131, 0.144, 0.012, 0.071, 0.157, 0.042,\n",
       "       0.191, 0.23, 0.018, 0.065, 0.119, 0.171, 0.13, 0.083, 0.126, 0.058,\n",
       "       0.129, 0.077, 0.052, 0.034, 0.061, 0.156, 0.027, 0.105, 0.158,\n",
       "       0.167, 0.25, 0.074, 0.063, 0.016, 0.07, 0.022, 0.036, 0.148, 0.235,\n",
       "       0.137, 0.008, 0.212, 0.029, 0.009, 0.017, 0.088, 0.079, 0.078,\n",
       "       0.154, 0.097, 0.291, 0.116, 0.196, 0.202, 0.233, 0.257, 0.305,\n",
       "       0.004, 0.108, 0.187, 0.15, 0.249, 0.143, 0.072, 0.201, 0.103, 0.2,\n",
       "       0.09, 0.179, 0.166, 0.335, 0.216, 0.124, 0.049, 0.111, 0.147, 0.01,\n",
       "       0.055, 0.165, 0.192, 0.122, 0.188, 0.22, 0.236, 0.001, 0.255,\n",
       "       0.114, 0.121, 0.214, 0.234, 0.207, 0.123, 0.168, 0.204, 0.245,\n",
       "       0.252, 0.163, 0.152, 0.29, 0.1, 0.238, 0.184, 0.271, 0.208, 0.174,\n",
       "       0.149, 0.294, 0.231, 0.251, 0.268, 0.092, 0.17, 0.087, 0.209,\n",
       "       0.333, 0.107, 0.115, 0.205, 0.172, 0.173, 0.169, 0.243, 0.005,\n",
       "       0.186, 0.182, 0.225, 0.536, 0.325, 0.244, 0.239, 0.195, 0.253,\n",
       "       0.322, 0.193, 0.343, 0.085, 0.21, 0.164, 0.363, 0.145, 0.286,\n",
       "       0.228, 0.177, 0.3, 0.274, 0.324, 0.452, 0.219, 0.254, 0.139, 0.279,\n",
       "       0.176, 0.26, 0.16, 0.467, 0.439, 0.262, 0.323, 0.425, 0.292, 0.198,\n",
       "       0.132, 0.315, 0.631, 0.162, 0.338, 0.313, 0.247, 0.227, 0.256,\n",
       "       0.138, 0.194, 0.199, 0.272, 0.159, 0.263, 0.223, 0.377, 0.248,\n",
       "       0.175, 0.329, 0.391, 0.713, 0.306, 0.69, 0.275, 0.258, 0.397,\n",
       "       0.218, 0.409, 0.34, 0.312, 0.348, 0.321, 0.283, 0.395, 0.293,\n",
       "       0.222, 0.229, 0.298, 0.353, 0.527, 0.27, 0.354, 0.232, 0.282,\n",
       "       0.277, 0.197, 0.264, 0.273, 0.224, 0.211, 0.422, 0.37, 0.374,\n",
       "       0.269, 0.181, 0.446, 0.281, 0.246, 0.307, 0.379, 0.351, 0.297,\n",
       "       0.369, 0.368, 0.331, 0.506, 0.203, 0.427, 0.658, 0.287, 0.241,\n",
       "       0.278, 0.543, 0.28, 0.302, 0.308, 0.432, 0.429, 0.284, 0.24, 0.447,\n",
       "       0.352, 0.382, 0.327, 0.217, 0.408, 0.407, 0.433, 0.267, 0.311,\n",
       "       0.296, 0.398, 0.488, 0.339, 0.355, 0, 0.51, 0.276, 0.326, 0.295,\n",
       "       0.469, 0.319, 0.328, 0.39, 0.52, 0.401, 0.367, 0.358, 0.299, 0.405,\n",
       "       0.32, 0.341, 0.758, 0.632, 0.318, 0.515, 0.458, 0.436, 0.35, 0.714,\n",
       "       0.466, 0.265, 0.542, 1.292, 0.285, 0.535, 0.479, 0.309, 0.388,\n",
       "       0.602, 0.554, 0.496, 0.386, 0.332, 0.336, 0.414, 0.36, 0.314,\n",
       "       0.349, 0.487, 0.406, 0.347, 0.558, 0.57, 0.561, 0.724, 0.417,\n",
       "       0.259, 0.387, 'NIL', 0.31, 0.656, 0.261, 0.43, 0.42, 0.537, 0.421,\n",
       "       0.418, 0.303, 0.796, 0.393, 0.383, 0.435, 0.289, 0.317, 0.499,\n",
       "       0.431, 0.403, 0.549, 0.346, 0.814, 0.667, 2.475, 0.381, 0.451,\n",
       "       1.554, 0.976, 1.391, 0.366, 0.601, 0.575, 0.523, 0.473, 0.375,\n",
       "       1.546, 0.448, 0.688, 0.508, 0.633, 0.512, 0.304, 0.627, 0.356,\n",
       "       0.371, 0.468, 0.413, 0.437, 0.474, 0.365, 0.518, 0.362, 0.463,\n",
       "       0.526, 0.64, 0.394, 0.49, 0.477, 0.359, 0.564, 0.706, 0.334, 0.691,\n",
       "       0.531, 0.316, 0.404, 0.373, 0.626, 0.428, 0.637, 0.453, 0.344,\n",
       "       0.481, 0.56, 0.746, 0.38, 0.582, 0.54, 0.392, 0.574, 0.573, 0.689,\n",
       "       0.456, 0.345, 0.372, 0.438, 1.173, 0.492, 0.63, 0.465, 0.449,\n",
       "       0.337, 0.676, 0.625, 0.455, 0.661, 0.695, 0.378, 0.459, 1.034, 0.4,\n",
       "       0.696, 0.6, 0.389, 0.516, 0.33, 0.804, 0.703, 0.593, 0.908, 0.674,\n",
       "       0.544, 0.797, 0.423, 0.357, 0.716, 0.634, 0.416, 0.361, 0.411,\n",
       "       0.441, 0.376, 0.592, 0.578, 0.45, 0.444, 0.491, 0.46, 0.399, 0.384,\n",
       "       0.396, 0.635, 0.752, 0.914, 0.47, 0.445, 0.55, 0.687, 0.805, 0.443,\n",
       "       0.426, 0.586, 0.577, 0.784, 0.532, 0.556, 0.511, 0.476, 0.424,\n",
       "       1.222, 0.489, 0.509, 0.462, 0.604, 0.583, 0.61, 0.559, 0.472, 0.91,\n",
       "       1.207, 0.851, 0.553, 0.44, 0.67, 0.442, 0.608, 0.783, 0.629, 0.507,\n",
       "       0.402, 0.48, 0.342, 0.572, 0.478, 0.521, 0.415, 0.802, 0.524,\n",
       "       0.364, 0.385, 0.567, 0.712, 0.486, 0.763, 0.596, 1.029, 0.534,\n",
       "       0.648, 0.502, 0.457, 0.454, 0.41, 0.513, 0.555, 0.419, 0.498,\n",
       "       0.505, 0.672, 1.094, 0.471, 0.493, 0.557, 0.485, 1.128, 0.529,\n",
       "       1.373, 0.754, 0.785, 0.551, 1.012, 0.538, 0.563, 0.495, 0.484,\n",
       "       0.753, 0.677, 0.757, 0.755, 1.619, 1.048, 0.951, 1.212, 0.985,\n",
       "       1.674, 2.053, 0.749, 0.678, 0.973, 0.591, 0.53, 0.729, 0.683,\n",
       "       0.609, 0.684, 0.901, 0.494, 0.594, 0.734, 0.859, 0.675, 0.412,\n",
       "       0.722, 0.702, 0.821, 0.483, 0.517, 0.519, 0.621, 1.483, 0.628,\n",
       "       0.461, 0.503, 0.681, 0.475, 0.898, 0.645, 0.434, 0.497, 0.569,\n",
       "       0.587, 0.818, 0.539, 0.83, 0.646, 1.019, 0.607, 0.624, 2.305,\n",
       "       4.031, 0.736, 0.82, 0.562, 1.319, 0.653, 1.577, 0.614, 1.08, 0.642,\n",
       "       0.926, 0.528, 0.651, 0.615, 0.605, 0.579, 0.58, 0.897, 0.568,\n",
       "       0.893, 0.731, 0.649, 0.73, 0.8, 0.482, 0.942, 1.576, 0.735, 1.227,\n",
       "       0.909, 0.545, 0.597, 1.49, 0.693, 2.057, 0.617, 0.541, 0.668,\n",
       "       0.891, 1.143, 0.844, 1.046, 0.533, 0.76, 1.144, 0.522, 0.793,\n",
       "       0.606, 0.552, 0.599, 0.759, 0.868, 0.927, 0.464, 1.16, 0.945,\n",
       "       1.264, 0.772, 1.022, 0.59, 0.585, 0.566, 1.226, 0.906, 2.188,\n",
       "       5.408, 0.671, 0.811, 1.96, 1.606, 0.666, 1.036, 0.874, 1.19, 1.434,\n",
       "       0.748, 0.654, 1.138, 1.428, 1.567, 1.118, 0.848, 0.669, 0.826,\n",
       "       1.367, 0.995, 2.429, 1.251, 0.794, 1.815, 1.539, 1.178, 1.18,\n",
       "       0.923, 0.547, 0.764, 0.88, 0.912, 0.665, 0.819, 1.114, 0.781,\n",
       "       0.686, 0.934, 1.444, 1.156, 1.265, 0.956, 0.581, 0.892, 0.835,\n",
       "       0.565, 0.618, 0.576, 0.756, 1.161, 0.584, 0.616, 0.75, 0.989,\n",
       "       0.647, 0.571, 0.782, 0.77, 0.643, 1.041, 0.72, 0.833, 0.697, 0.598,\n",
       "       0.659, 0.699, 0.769, 0.742, 0.504, 0.994, 1.273, 0.65, 0.886,\n",
       "       0.801, 1.052, 1.392, 1.799, 1.247, 0.921, 0.636, 0.62, 2.404,\n",
       "       0.619, 0.705, 0.747, 1.635, 1.458, 1.107, 1.509, 1.271, 1.537,\n",
       "       1.29, 4.836, 1.192, 0.904, 0.986, 1.45, 0.613, 0.548, 0.955, 0.5,\n",
       "       1.397, 0.761, 0.745, 0.685, 0.603, 2.828, 1.711, 0.849, 1.079,\n",
       "       0.902, 1.359, 0.933, 0.673, 0.774, 0.595], dtype=object)"
      ]
     },
     "execution_count": 901,
     "metadata": {},
     "output_type": "execute_result"
    }
   ],
   "source": [
    "df['DL RBLER (%)'].unique()"
   ]
  },
  {
   "cell_type": "markdown",
   "metadata": {},
   "source": [
    "Ok...Now it makes sense. There is a value that was read as 'NIL'. Not clear where that came from. But we'll simply set it as na then fill it with the median value in the dataset. Let's also check the non numeric objects' count again"
   ]
  },
  {
   "cell_type": "code",
   "execution_count": 902,
   "metadata": {},
   "outputs": [
    {
     "data": {
      "text/plain": [
       "['Cell']"
      ]
     },
     "execution_count": 902,
     "metadata": {},
     "output_type": "execute_result"
    }
   ],
   "source": [
    "df['DL RBLER (%)']=df['DL RBLER (%)'].replace('NIL',np.nan)\n",
    "df['DL RBLER (%)']=df['DL RBLER (%)'].astype(float)\n",
    "df['DL RBLER (%)'].fillna(df['DL RBLER (%)'].median(),inplace=True)\n",
    "obj_cols = []\n",
    "for col in df.columns:\n",
    "    if df[col].dtypes == 'object':\n",
    "        obj_cols.append(col)\n",
    "        \n",
    "obj_cols"
   ]
  },
  {
   "cell_type": "markdown",
   "metadata": {},
   "source": [
    "DL BLER is numeric now. Mssion accomplished!\n",
    "\n",
    "A quick look at the Huawei LTE KPI reference shows that some of the user perceived performance KPIs are not found in the counters out of the box and require some calculations. Two of the most important are Downlink user throughput in Mbps (download speed) and total downlink cell throughput in Mbps (total download speed of the cell). The KPI definition defines those two KPIs as seen below (refer to document eNodeB V100R005C00 KPI Reference issue date 2012-03-30)\n",
    "\n"
   ]
  },
  {
   "cell_type": "code",
   "execution_count": 903,
   "metadata": {},
   "outputs": [],
   "source": [
    "df['DL user tput']=df['L.Thrp.bits.DL.QCI.9 (bit)']/(df['L.Thrp.Time.DL.QCI.9 (ms)']*1000)\n",
    "df['DL cell tput']=df['L.Thrp.bits.DL (bit)']/(df['L.Thrp.Time.Cell.DL (s)']*1000000)\n"
   ]
  },
  {
   "cell_type": "markdown",
   "metadata": {},
   "source": [
    "After adding the two important KPIs, it good to check for any missing values"
   ]
  },
  {
   "cell_type": "code",
   "execution_count": 915,
   "metadata": {},
   "outputs": [
    {
     "data": {
      "text/plain": [
       "Start Time                                      0\n",
       "Cell                                            0\n",
       "L.Traffic.UL.SCH.QPSK.ErrTB.Ibler (None)        0\n",
       "L.Traffic.UL.SCH.QPSK.ErrTB.Rbler (None)        0\n",
       "L.Traffic.UL.SCH.QPSK.TB (None)                 0\n",
       "                                               ..\n",
       "L.Traffic.UL.SCH.64QAM.TB.bits (bit)            0\n",
       "L.Traffic.UL.SCH.64QAM.TB.Retrans (None)        0\n",
       "L.Traffic.UL.SCH.64QAM.TB.Retrans.bits (bit)    0\n",
       "DL user tput                                    0\n",
       "DL cell tput                                    0\n",
       "Length: 84, dtype: int64"
      ]
     },
     "execution_count": 915,
     "metadata": {},
     "output_type": "execute_result"
    }
   ],
   "source": [
    "df.isna().sum()"
   ]
  },
  {
   "cell_type": "markdown",
   "metadata": {},
   "source": [
    "There are 196 missing values for both DL user throughput and DL cell throughput. Let's check the raw data"
   ]
  },
  {
   "cell_type": "code",
   "execution_count": 910,
   "metadata": {
    "collapsed": true
   },
   "outputs": [
    {
     "data": {
      "text/html": [
       "<div>\n",
       "<style scoped>\n",
       "    .dataframe tbody tr th:only-of-type {\n",
       "        vertical-align: middle;\n",
       "    }\n",
       "\n",
       "    .dataframe tbody tr th {\n",
       "        vertical-align: top;\n",
       "    }\n",
       "\n",
       "    .dataframe thead th {\n",
       "        text-align: right;\n",
       "    }\n",
       "</style>\n",
       "<table border=\"1\" class=\"dataframe\">\n",
       "  <thead>\n",
       "    <tr style=\"text-align: right;\">\n",
       "      <th></th>\n",
       "      <th>L.Thrp.bits.DL.QCI.9 (bit)</th>\n",
       "      <th>L.Thrp.Time.DL.QCI.9 (ms)</th>\n",
       "    </tr>\n",
       "    <tr>\n",
       "      <th>Start Time</th>\n",
       "      <th></th>\n",
       "      <th></th>\n",
       "    </tr>\n",
       "  </thead>\n",
       "  <tbody>\n",
       "    <tr>\n",
       "      <th>2013-08-28 09:30:00</th>\n",
       "      <td>0</td>\n",
       "      <td>0</td>\n",
       "    </tr>\n",
       "    <tr>\n",
       "      <th>2013-08-28 09:30:00</th>\n",
       "      <td>0</td>\n",
       "      <td>0</td>\n",
       "    </tr>\n",
       "    <tr>\n",
       "      <th>2013-08-28 09:30:00</th>\n",
       "      <td>0</td>\n",
       "      <td>0</td>\n",
       "    </tr>\n",
       "    <tr>\n",
       "      <th>2013-08-28 09:30:00</th>\n",
       "      <td>0</td>\n",
       "      <td>0</td>\n",
       "    </tr>\n",
       "    <tr>\n",
       "      <th>2013-08-28 09:45:00</th>\n",
       "      <td>0</td>\n",
       "      <td>0</td>\n",
       "    </tr>\n",
       "    <tr>\n",
       "      <th>...</th>\n",
       "      <td>...</td>\n",
       "      <td>...</td>\n",
       "    </tr>\n",
       "    <tr>\n",
       "      <th>2013-09-01 08:45:00</th>\n",
       "      <td>0</td>\n",
       "      <td>0</td>\n",
       "    </tr>\n",
       "    <tr>\n",
       "      <th>2013-09-02 01:15:00</th>\n",
       "      <td>0</td>\n",
       "      <td>0</td>\n",
       "    </tr>\n",
       "    <tr>\n",
       "      <th>2013-09-02 05:15:00</th>\n",
       "      <td>0</td>\n",
       "      <td>0</td>\n",
       "    </tr>\n",
       "    <tr>\n",
       "      <th>2013-09-03 05:45:00</th>\n",
       "      <td>0</td>\n",
       "      <td>0</td>\n",
       "    </tr>\n",
       "    <tr>\n",
       "      <th>2013-09-03 19:15:00</th>\n",
       "      <td>0</td>\n",
       "      <td>0</td>\n",
       "    </tr>\n",
       "  </tbody>\n",
       "</table>\n",
       "<p>196 rows × 2 columns</p>\n",
       "</div>"
      ],
      "text/plain": [
       "                     L.Thrp.bits.DL.QCI.9 (bit)  L.Thrp.Time.DL.QCI.9 (ms)\n",
       "Start Time                                                                \n",
       "2013-08-28 09:30:00                           0                          0\n",
       "2013-08-28 09:30:00                           0                          0\n",
       "2013-08-28 09:30:00                           0                          0\n",
       "2013-08-28 09:30:00                           0                          0\n",
       "2013-08-28 09:45:00                           0                          0\n",
       "...                                         ...                        ...\n",
       "2013-09-01 08:45:00                           0                          0\n",
       "2013-09-02 01:15:00                           0                          0\n",
       "2013-09-02 05:15:00                           0                          0\n",
       "2013-09-03 05:45:00                           0                          0\n",
       "2013-09-03 19:15:00                           0                          0\n",
       "\n",
       "[196 rows x 2 columns]"
      ]
     },
     "execution_count": 910,
     "metadata": {},
     "output_type": "execute_result"
    }
   ],
   "source": [
    "df[df['DL user tput'].isna()][['L.Thrp.bits.DL.QCI.9 (bit)','L.Thrp.Time.DL.QCI.9 (ms)']]"
   ]
  },
  {
   "cell_type": "markdown",
   "metadata": {},
   "source": [
    "The NA's are due to the counters being all zeros. There were no connected users or traffic going on. Since that is the reason we can replace the NA's with zeros."
   ]
  },
  {
   "cell_type": "code",
   "execution_count": 914,
   "metadata": {},
   "outputs": [],
   "source": [
    "df['DL user tput']=df['DL user tput'].replace(np.nan,0)\n",
    "df['DL cell tput']=df['DL cell tput'].replace(np.nan,0)"
   ]
  },
  {
   "cell_type": "markdown",
   "metadata": {},
   "source": [
    "### Add dattime related features"
   ]
  },
  {
   "cell_type": "markdown",
   "metadata": {},
   "source": [
    "Some very useful features to add for timeseries analysis are datetime related features such as day of the week and time of the day. Below we add those features. First day of week is added. to maintain order of days we make sure we set ordered argument to true"
   ]
  },
  {
   "cell_type": "code",
   "execution_count": 918,
   "metadata": {},
   "outputs": [
    {
     "data": {
      "text/plain": [
       "[Wednesday, Thursday, Friday, Saturday, Sunday, Monday, Tuesday]\n",
       "Categories (7, object): [Monday < Tuesday < Wednesday < Thursday < Friday < Saturday < Sunday]"
      ]
     },
     "execution_count": 918,
     "metadata": {},
     "output_type": "execute_result"
    }
   ],
   "source": [
    "df['day_of_week']=df['Start Time'].dt.day_name()\n",
    "\n",
    "cats = [ 'Monday', 'Tuesday', 'Wednesday', 'Thursday', 'Friday', 'Saturday', 'Sunday']\n",
    "\n",
    "cat_type = CategoricalDtype(categories=cats, ordered=True)\n",
    "df['day_of_week'] = df['day_of_week'].astype(cat_type)\n",
    "\n",
    "df['day_of_week'].unique()"
   ]
  },
  {
   "cell_type": "markdown",
   "metadata": {},
   "source": [
    "Time of the day is also added in the form of hour (24 hour format)\n"
   ]
  },
  {
   "cell_type": "code",
   "execution_count": 921,
   "metadata": {},
   "outputs": [
    {
     "data": {
      "text/plain": [
       "array(['00', '01', '02', '03', '04', '05', '06', '07', '08', '09', '10',\n",
       "       '11', '12', '13', '14', '15', '16', '17', '18', '19', '20', '21',\n",
       "       '22', '23'], dtype=object)"
      ]
     },
     "execution_count": 921,
     "metadata": {},
     "output_type": "execute_result"
    }
   ],
   "source": [
    "df['hour_of_day']=df['Start Time'].dt.strftime('%H')\n",
    "df['hour_of_day'].unique()"
   ]
  },
  {
   "cell_type": "markdown",
   "metadata": {},
   "source": [
    "### User Download Throughput analysis"
   ]
  },
  {
   "cell_type": "markdown",
   "metadata": {},
   "source": [
    "On of the major KPIs for user perceived service quality is average user downlink throughput. To understand how this KPI changes over time it is good to aggregate the KPI over different time periods (day of week and hour of day)"
   ]
  },
  {
   "cell_type": "code",
   "execution_count": 922,
   "metadata": {},
   "outputs": [],
   "source": [
    "plotdays=df.groupby(['day_of_week'])['DL user tput'].mean()\n",
    "plothours=df.groupby(['hour_of_day'])['DL user tput'].mean()\n",
    "plotUdays=df.groupby(['day_of_week'])['L.Traffic.User.Avg (None)'].mean()\n",
    "plotUhours=df.groupby(['hour_of_day'])['L.Traffic.User.Avg (None)'].mean()"
   ]
  },
  {
   "cell_type": "code",
   "execution_count": 923,
   "metadata": {},
   "outputs": [],
   "source": [
    "plotdays=pd.DataFrame(plotdays)\n",
    "plotdays['day_of_week']=plotdays.index\n",
    "plotdays.reset_index(level=None, drop=True, inplace=True)\n",
    "\n",
    "plothours=pd.DataFrame(plothours)\n",
    "plothours['hour_of_day']=plothours.index\n",
    "plothours.reset_index(level=None, drop=True, inplace=True)\n",
    "\n",
    "\n",
    "plotUdays=pd.DataFrame(plotUdays)\n",
    "plotUdays['day_of_week']=plotUdays.index\n",
    "plotUdays.reset_index(level=None, drop=True, inplace=True)\n",
    "\n",
    "\n",
    "plotUhours=pd.DataFrame(plotUhours)\n",
    "plotUhours['hour_of_day']=plotUhours.index\n",
    "\n",
    "\n",
    "plotUhours.reset_index(level=None, drop=True, inplace=True)\n"
   ]
  },
  {
   "cell_type": "code",
   "execution_count": 925,
   "metadata": {},
   "outputs": [
    {
     "data": {
      "image/png": "[encoded data removed]",
      "text/plain": [
       "<Figure size 432x288 with 2 Axes>"
      ]
     },
     "metadata": {},
     "output_type": "display_data"
    }
   ],
   "source": [
    "# create figure and axis objects with subplots()\n",
    "fig,ax = plt.subplots()\n",
    "\n",
    "plt.title('User Download Throughput Across Days',fontsize=20);\n",
    "# make a plot\n",
    "ax.plot(plotdays['day_of_week'],\n",
    "        plotdays['DL user tput'],\n",
    "        color=\"red\", \n",
    "        marker=\"o\")\n",
    "\n",
    "# set x-axis label\n",
    "ax.set_xlabel(\"Day of week\", fontsize = 12)\n",
    "\n",
    "# set y-axis label\n",
    "ax.set_ylabel(\"User download throughput\",\n",
    "              color=\"red\",\n",
    "              fontsize=12)\n",
    "\n",
    "\n",
    "\n",
    "# twin object for two different y-axis on the sample plot\n",
    "ax2=ax.twinx()\n",
    "# make a plot with different y-axis using second axis object\n",
    "ax2.plot(plotUdays['day_of_week'], plotUdays['L.Traffic.User.Avg (None)'],color=\"blue\",marker=\"o\")\n",
    "ax2.set_ylabel(\"Average number of connected users\",color=\"blue\",fontsize=12)\n",
    "plt.xticks(np.arange(7), ('Mon', 'Tues', 'Wed', 'Thurs', 'Fri', 'Sat', 'Sun'), fontsize=12);\n",
    "plt.show()\n",
    "\n"
   ]
  },
  {
   "cell_type": "code",
   "execution_count": 926,
   "metadata": {},
   "outputs": [
    {
     "data": {
      "image/png": "[encoded data removed]",
      "text/plain": [
       "<Figure size 432x288 with 2 Axes>"
      ]
     },
     "metadata": {},
     "output_type": "display_data"
    }
   ],
   "source": [
    "# create figure and axis objects with subplots()\n",
    "fig,ax = plt.subplots()\n",
    "\n",
    "plt.title('User Download Throughput Across hour of the day',fontsize=20);\n",
    "# make a plot\n",
    "ax.plot(plothours['hour_of_day'],\n",
    "        plothours['DL user tput'],\n",
    "        color=\"red\", \n",
    "        marker=\"o\")\n",
    "\n",
    "# set x-axis label\n",
    "ax.set_xlabel(\"hour of day\", fontsize = 12)\n",
    "\n",
    "# set y-axis label\n",
    "ax.set_ylabel(\"User download throughput\",\n",
    "              color=\"red\",\n",
    "              fontsize=12)\n",
    "\n",
    "\n",
    "\n",
    "# twin object for two different y-axis on the sample plot\n",
    "ax2=ax.twinx()\n",
    "# make a plot with different y-axis using second axis object\n",
    "ax2.plot(plotUhours['hour_of_day'], plotUhours['L.Traffic.User.Avg (None)'],color=\"blue\",marker=\"o\")\n",
    "ax2.set_ylabel(\"Average number of connected users\",color=\"blue\",fontsize=12)\n",
    "#plt.xticks(np.arange(7), ('Mon', 'Tues', 'Wed', 'Thurs', 'Fri', 'Sat', 'Sun'), fontsize=12);\n",
    "plt.show()"
   ]
  },
  {
   "cell_type": "markdown",
   "metadata": {},
   "source": [
    "## Unsupervised Cell analysis"
   ]
  },
  {
   "cell_type": "markdown",
   "metadata": {},
   "source": [
    "#### safsafd"
   ]
  },
  {
   "cell_type": "code",
   "execution_count": 252,
   "metadata": {},
   "outputs": [],
   "source": [
    "import matplotlib.pyplot as plt\n",
    "#from kneed import KneeLocator\n",
    "#from sklearn.datasets import make_blobs\n",
    "from sklearn.cluster import KMeans\n",
    "from sklearn.metrics import silhouette_score\n",
    "from sklearn.preprocessing import StandardScaler\n",
    "from sklearn.preprocessing import MinMaxScaler"
   ]
  },
  {
   "cell_type": "code",
   "execution_count": 519,
   "metadata": {
    "collapsed": true
   },
   "outputs": [
    {
     "data": {
      "text/plain": [
       "Index(['Start Time', 'Cell', 'L.Traffic.UL.SCH.QPSK.ErrTB.Ibler (None)',\n",
       "       'L.Traffic.UL.SCH.QPSK.ErrTB.Rbler (None)',\n",
       "       'L.Traffic.UL.SCH.QPSK.TB (None)',\n",
       "       'L.Traffic.UL.SCH.QPSK.TB.bits (bit)',\n",
       "       'L.Traffic.UL.SCH.QPSK.TB.Retrans (None)',\n",
       "       'L.Traffic.UL.SCH.QPSK.TB.Retrans.bits (bit)',\n",
       "       'L.Traffic.DL.PktDelay.Num.QCI.9 (packet)',\n",
       "       'L.Traffic.DL.PktDelay.Time.QCI.9 (ms)',\n",
       "       'L.Traffic.DL.PktUuLoss.Loss.QCI.9 (packet)',\n",
       "       'L.Traffic.DL.PktUuLoss.Tot.QCI.9 (packet)',\n",
       "       'L.Traffic.UL.PktLoss.Loss.QCI.9 (packet)',\n",
       "       'L.Traffic.UL.PktLoss.Tot.QCI.9 (packet)', 'DL RBLER (%)',\n",
       "       'L.PDCP.DL.RoHC.HdrCompRatio (%)', 'L.PDCP.DL.RoHC.PktCompRatio (%)',\n",
       "       'L.PDCP.Tx.Disc.Trf.SDU.QCI.9 (packet)',\n",
       "       'L.PDCP.Tx.TotRev.Trf.SDU.QCI.9 (packet)',\n",
       "       'L.PDCP.UL.RoHC.FailDecompRatio (%)', 'L.Traffic.CEU.Avg (None)',\n",
       "       'L.Traffic.User.ULData.Avg (None)', 'L.Traffic.User.DLData.Avg (None)',\n",
       "       'L.Traffic.User.Max (None)', 'L.Traffic.User.DLData.Max (None)',\n",
       "       'L.Traffic.User.Avg (None)', 'L.Traffic.CEU.Max (None)',\n",
       "       'L.Traffic.User.ULData.Max (None)', 'L.E-RAB.SessionTime.QCI9 (s)',\n",
       "       'L.E-RAB.SessionTime.UE (s)', 'L.Thrp.bits.DL (bit)',\n",
       "       'L.Thrp.bits.DL.Max (bit)', 'L.Thrp.bits.DL.QCI.9 (bit)',\n",
       "       'L.Thrp.bits.DL.QCI.9.Max (bit)', 'L.Thrp.bits.DL.SRB (bit)',\n",
       "       'L.Thrp.bits.UL (bit)', 'L.Thrp.bits.UL.Max (bit)',\n",
       "       'L.Thrp.bits.UL.QCI.9 (bit)', 'L.Thrp.bits.UL.SRB (bit)',\n",
       "       'L.Thrp.bits.UL.QCI.9.Max (bit)', 'L.Thrp.Time.Cell.DL (s)',\n",
       "       'L.Thrp.Time.Cell.UL (s)', 'L.Thrp.Time.DL (ms)',\n",
       "       'L.Thrp.Time.DL.QCI.9 (ms)', 'L.Thrp.Time.UL (ms)',\n",
       "       'L.Thrp.Time.UL.QCI.9 (ms)', 'L.UECNTX.AbnormRel (times)',\n",
       "       'L.UECNTX.NormRel (times)', 'L.Traffic.DRB (None)',\n",
       "       'L.Traffic.DRB.QCI.9 (None)', 'L.Traffic.BCH.TB.bits (bit)',\n",
       "       'L.Traffic.DL.SCH.16QAM.ErrTB.Ibler (None)',\n",
       "       'L.Traffic.DL.SCH.16QAM.ErrTB.Rbler (None)',\n",
       "       'L.Traffic.DL.SCH.16QAM.TB (None)',\n",
       "       'L.Traffic.DL.SCH.16QAM.TB.bits (bit)',\n",
       "       'L.Traffic.DL.SCH.16QAM.TB.Retrans (None)',\n",
       "       'L.Traffic.DL.SCH.16QAM.TB.Retrans.bits (bit)',\n",
       "       'L.Traffic.DL.SCH.64QAM.ErrTB.Ibler (None)',\n",
       "       'L.Traffic.DL.SCH.64QAM.ErrTB.Rbler (None)',\n",
       "       'L.Traffic.DL.SCH.64QAM.TB (None)',\n",
       "       'L.Traffic.DL.SCH.64QAM.TB.bits (bit)',\n",
       "       'L.Traffic.DL.SCH.64QAM.TB.Retrans (None)',\n",
       "       'L.Traffic.DL.SCH.64QAM.TB.Retrans.bits (bit)',\n",
       "       'L.Traffic.DL.SCH.QPSK.ErrTB.Ibler (None)',\n",
       "       'L.Traffic.DL.SCH.QPSK.ErrTB.Rbler (None)',\n",
       "       'L.Traffic.DL.SCH.QPSK.TB (None)',\n",
       "       'L.Traffic.DL.SCH.QPSK.TB.bits (bit)',\n",
       "       'L.Traffic.DL.SCH.QPSK.TB.Retrans (None)',\n",
       "       'L.Traffic.DL.SCH.QPSK.TB.Retrans.bits (bit)',\n",
       "       'L.Traffic.PCH.TB.bits (bit)',\n",
       "       'L.Traffic.UL.SCH.16QAM.ErrTB.Ibler (None)',\n",
       "       'L.Traffic.UL.SCH.16QAM.ErrTB.Rbler (None)',\n",
       "       'L.Traffic.UL.SCH.16QAM.TB (None)',\n",
       "       'L.Traffic.UL.SCH.16QAM.TB.bits (bit)',\n",
       "       'L.Traffic.UL.SCH.16QAM.TB.Retrans (None)',\n",
       "       'L.Traffic.UL.SCH.16QAM.TB.Retrans.bits (bit)',\n",
       "       'L.Traffic.UL.SCH.64QAM.ErrTB.Ibler (None)',\n",
       "       'L.Traffic.UL.SCH.64QAM.ErrTB.Rbler (None)',\n",
       "       'L.Traffic.UL.SCH.64QAM.TB (None)',\n",
       "       'L.Traffic.UL.SCH.64QAM.TB.bits (bit)',\n",
       "       'L.Traffic.UL.SCH.64QAM.TB.Retrans (None)',\n",
       "       'L.Traffic.UL.SCH.64QAM.TB.Retrans.bits (bit)', 'Name_of_day',\n",
       "       'hour of day', 'DL user tput', 'DL cell tput'],\n",
       "      dtype='object')"
      ]
     },
     "execution_count": 519,
     "metadata": {},
     "output_type": "execute_result"
    }
   ],
   "source": [
    "df.columns"
   ]
  },
  {
   "cell_type": "code",
   "execution_count": 663,
   "metadata": {
    "collapsed": true
   },
   "outputs": [
    {
     "name": "stderr",
     "output_type": "stream",
     "text": [
      "C:\\Users\\Ahmad\\Anaconda3\\lib\\site-packages\\ipykernel_launcher.py:3: SettingWithCopyWarning: \n",
      "A value is trying to be set on a copy of a slice from a DataFrame.\n",
      "Try using .loc[row_indexer,col_indexer] = value instead\n",
      "\n",
      "See the caveats in the documentation: http://pandas.pydata.org/pandas-docs/stable/user_guide/indexing.html#returning-a-view-versus-a-copy\n",
      "  This is separate from the ipykernel package so we can avoid doing imports until\n",
      "C:\\Users\\Ahmad\\Anaconda3\\lib\\site-packages\\ipykernel_launcher.py:5: SettingWithCopyWarning: \n",
      "A value is trying to be set on a copy of a slice from a DataFrame.\n",
      "Try using .loc[row_indexer,col_indexer] = value instead\n",
      "\n",
      "See the caveats in the documentation: http://pandas.pydata.org/pandas-docs/stable/user_guide/indexing.html#returning-a-view-versus-a-copy\n",
      "  \"\"\"\n",
      "C:\\Users\\Ahmad\\Anaconda3\\lib\\site-packages\\ipykernel_launcher.py:7: SettingWithCopyWarning: \n",
      "A value is trying to be set on a copy of a slice from a DataFrame.\n",
      "Try using .loc[row_indexer,col_indexer] = value instead\n",
      "\n",
      "See the caveats in the documentation: http://pandas.pydata.org/pandas-docs/stable/user_guide/indexing.html#returning-a-view-versus-a-copy\n",
      "  import sys\n"
     ]
    }
   ],
   "source": [
    "df_cluster=df[['Cell','DL user tput','DL cell tput','hour of day','L.Traffic.User.Avg (None)','L.Thrp.bits.DL (bit)']]\n",
    "df_cluster.reset_index(level=None, drop=True, inplace=True)\n",
    "df_cluster['hour of day']=df_cluster['hour of day'].astype(int)\n",
    "\n",
    "df_cluster['L.Traffic.User.Avg (None)']=df_cluster['L.Traffic.User.Avg (None)'].replace(0.0,1.0)\n",
    "\n",
    "df_cluster['Traffic Vol per user']=df_cluster['L.Thrp.bits.DL (bit)']/(df_cluster['L.Traffic.User.Avg (None)']*1000000)\n",
    "\n",
    "#df_cluster"
   ]
  },
  {
   "cell_type": "code",
   "execution_count": 669,
   "metadata": {
    "collapsed": true
   },
   "outputs": [
    {
     "data": {
      "text/html": [
       "<div>\n",
       "<style scoped>\n",
       "    .dataframe tbody tr th:only-of-type {\n",
       "        vertical-align: middle;\n",
       "    }\n",
       "\n",
       "    .dataframe tbody tr th {\n",
       "        vertical-align: top;\n",
       "    }\n",
       "\n",
       "    .dataframe thead th {\n",
       "        text-align: right;\n",
       "    }\n",
       "</style>\n",
       "<table border=\"1\" class=\"dataframe\">\n",
       "  <thead>\n",
       "    <tr style=\"text-align: right;\">\n",
       "      <th></th>\n",
       "      <th>Cell</th>\n",
       "      <th>DL user tput</th>\n",
       "      <th>DL cell tput</th>\n",
       "      <th>hour of day</th>\n",
       "      <th>L.Traffic.User.Avg (None)</th>\n",
       "      <th>L.Thrp.bits.DL (bit)</th>\n",
       "      <th>Traffic Vol per user</th>\n",
       "      <th>time of day</th>\n",
       "    </tr>\n",
       "  </thead>\n",
       "  <tbody>\n",
       "    <tr>\n",
       "      <th>0</th>\n",
       "      <td>Local cell identity=2, Cell Name=eNB_2786_2</td>\n",
       "      <td>0.874756</td>\n",
       "      <td>5.615273</td>\n",
       "      <td>0</td>\n",
       "      <td>47.820</td>\n",
       "      <td>5053745384</td>\n",
       "      <td>105.682672</td>\n",
       "      <td>EV</td>\n",
       "    </tr>\n",
       "    <tr>\n",
       "      <th>1</th>\n",
       "      <td>Local cell identity=1, Cell Name=eNB_2282_1</td>\n",
       "      <td>0.465525</td>\n",
       "      <td>13.046722</td>\n",
       "      <td>0</td>\n",
       "      <td>88.716</td>\n",
       "      <td>11742049736</td>\n",
       "      <td>132.355491</td>\n",
       "      <td>EV</td>\n",
       "    </tr>\n",
       "    <tr>\n",
       "      <th>2</th>\n",
       "      <td>Local cell identity=0, Cell Name=eNB_2786_0</td>\n",
       "      <td>1.126516</td>\n",
       "      <td>7.423029</td>\n",
       "      <td>0</td>\n",
       "      <td>43.926</td>\n",
       "      <td>6680726256</td>\n",
       "      <td>152.090476</td>\n",
       "      <td>EV</td>\n",
       "    </tr>\n",
       "    <tr>\n",
       "      <th>3</th>\n",
       "      <td>Local cell identity=0, Cell Name=eNB_5265_0</td>\n",
       "      <td>1.195236</td>\n",
       "      <td>6.139347</td>\n",
       "      <td>0</td>\n",
       "      <td>27.219</td>\n",
       "      <td>5525412696</td>\n",
       "      <td>202.998372</td>\n",
       "      <td>EV</td>\n",
       "    </tr>\n",
       "    <tr>\n",
       "      <th>4</th>\n",
       "      <td>Local cell identity=2, Cell Name=eNB_5265_2</td>\n",
       "      <td>0.727086</td>\n",
       "      <td>10.693363</td>\n",
       "      <td>0</td>\n",
       "      <td>63.032</td>\n",
       "      <td>9624026832</td>\n",
       "      <td>152.684776</td>\n",
       "      <td>EV</td>\n",
       "    </tr>\n",
       "    <tr>\n",
       "      <th>...</th>\n",
       "      <td>...</td>\n",
       "      <td>...</td>\n",
       "      <td>...</td>\n",
       "      <td>...</td>\n",
       "      <td>...</td>\n",
       "      <td>...</td>\n",
       "      <td>...</td>\n",
       "      <td>...</td>\n",
       "    </tr>\n",
       "    <tr>\n",
       "      <th>256488</th>\n",
       "      <td>Local cell identity=1, Cell Name=eNB_3894-1</td>\n",
       "      <td>2.473142</td>\n",
       "      <td>4.012635</td>\n",
       "      <td>23</td>\n",
       "      <td>20.160</td>\n",
       "      <td>3611371328</td>\n",
       "      <td>179.135483</td>\n",
       "      <td>EV</td>\n",
       "    </tr>\n",
       "    <tr>\n",
       "      <th>256489</th>\n",
       "      <td>Local cell identity=2, Cell Name=eNB_2462-2</td>\n",
       "      <td>2.187025</td>\n",
       "      <td>4.323894</td>\n",
       "      <td>23</td>\n",
       "      <td>21.517</td>\n",
       "      <td>3887180416</td>\n",
       "      <td>180.656245</td>\n",
       "      <td>EV</td>\n",
       "    </tr>\n",
       "    <tr>\n",
       "      <th>256490</th>\n",
       "      <td>Local cell identity=1, Cell Name=eNB_2157-1</td>\n",
       "      <td>1.639771</td>\n",
       "      <td>6.142340</td>\n",
       "      <td>23</td>\n",
       "      <td>25.619</td>\n",
       "      <td>5528105968</td>\n",
       "      <td>215.781489</td>\n",
       "      <td>EV</td>\n",
       "    </tr>\n",
       "    <tr>\n",
       "      <th>256491</th>\n",
       "      <td>Local cell identity=1, Cell Name=eNB_2169-1</td>\n",
       "      <td>1.468915</td>\n",
       "      <td>8.567474</td>\n",
       "      <td>23</td>\n",
       "      <td>30.619</td>\n",
       "      <td>7710727048</td>\n",
       "      <td>251.828180</td>\n",
       "      <td>EV</td>\n",
       "    </tr>\n",
       "    <tr>\n",
       "      <th>256492</th>\n",
       "      <td>Local cell identity=0, Cell Name=eNB_2316-0</td>\n",
       "      <td>1.183338</td>\n",
       "      <td>8.759579</td>\n",
       "      <td>23</td>\n",
       "      <td>41.297</td>\n",
       "      <td>7883621072</td>\n",
       "      <td>190.900576</td>\n",
       "      <td>EV</td>\n",
       "    </tr>\n",
       "  </tbody>\n",
       "</table>\n",
       "<p>256493 rows × 8 columns</p>\n",
       "</div>"
      ],
      "text/plain": [
       "                                               Cell  DL user tput  \\\n",
       "0       Local cell identity=2, Cell Name=eNB_2786_2      0.874756   \n",
       "1       Local cell identity=1, Cell Name=eNB_2282_1      0.465525   \n",
       "2       Local cell identity=0, Cell Name=eNB_2786_0      1.126516   \n",
       "3       Local cell identity=0, Cell Name=eNB_5265_0      1.195236   \n",
       "4       Local cell identity=2, Cell Name=eNB_5265_2      0.727086   \n",
       "...                                             ...           ...   \n",
       "256488  Local cell identity=1, Cell Name=eNB_3894-1      2.473142   \n",
       "256489  Local cell identity=2, Cell Name=eNB_2462-2      2.187025   \n",
       "256490  Local cell identity=1, Cell Name=eNB_2157-1      1.639771   \n",
       "256491  Local cell identity=1, Cell Name=eNB_2169-1      1.468915   \n",
       "256492  Local cell identity=0, Cell Name=eNB_2316-0      1.183338   \n",
       "\n",
       "        DL cell tput  hour of day  L.Traffic.User.Avg (None)  \\\n",
       "0           5.615273            0                     47.820   \n",
       "1          13.046722            0                     88.716   \n",
       "2           7.423029            0                     43.926   \n",
       "3           6.139347            0                     27.219   \n",
       "4          10.693363            0                     63.032   \n",
       "...              ...          ...                        ...   \n",
       "256488      4.012635           23                     20.160   \n",
       "256489      4.323894           23                     21.517   \n",
       "256490      6.142340           23                     25.619   \n",
       "256491      8.567474           23                     30.619   \n",
       "256492      8.759579           23                     41.297   \n",
       "\n",
       "        L.Thrp.bits.DL (bit)  Traffic Vol per user time of day  \n",
       "0                 5053745384            105.682672          EV  \n",
       "1                11742049736            132.355491          EV  \n",
       "2                 6680726256            152.090476          EV  \n",
       "3                 5525412696            202.998372          EV  \n",
       "4                 9624026832            152.684776          EV  \n",
       "...                      ...                   ...         ...  \n",
       "256488            3611371328            179.135483          EV  \n",
       "256489            3887180416            180.656245          EV  \n",
       "256490            5528105968            215.781489          EV  \n",
       "256491            7710727048            251.828180          EV  \n",
       "256492            7883621072            190.900576          EV  \n",
       "\n",
       "[256493 rows x 8 columns]"
      ]
     },
     "execution_count": 669,
     "metadata": {},
     "output_type": "execute_result"
    }
   ],
   "source": [
    "df_cluster"
   ]
  },
  {
   "cell_type": "code",
   "execution_count": 665,
   "metadata": {
    "collapsed": true
   },
   "outputs": [
    {
     "name": "stderr",
     "output_type": "stream",
     "text": [
      "C:\\Users\\Ahmad\\Anaconda3\\lib\\site-packages\\ipykernel_launcher.py:13: SettingWithCopyWarning: \n",
      "A value is trying to be set on a copy of a slice from a DataFrame.\n",
      "Try using .loc[row_indexer,col_indexer] = value instead\n",
      "\n",
      "See the caveats in the documentation: http://pandas.pydata.org/pandas-docs/stable/user_guide/indexing.html#returning-a-view-versus-a-copy\n",
      "  del sys.path[0]\n"
     ]
    }
   ],
   "source": [
    "conditions = [\n",
    "    (df_cluster['hour of day'] >= 1) & (df_cluster['hour of day'] < 5),\n",
    "    (df_cluster['hour of day'] >= 5) & (df_cluster['hour of day'] < 9),\n",
    "    (df_cluster['hour of day'] >= 9) & (df_cluster['hour of day'] < 16),\n",
    "    (df_cluster['hour of day'] >= 16) & (df_cluster['hour of day'] < 21),\n",
    "    (df_cluster['hour of day'] >= 21) | (df_cluster['hour of day'] == 0)\n",
    "]\n",
    "\n",
    "\n",
    "\n",
    "values = ['NO', 'EB', 'WH', 'AW','EV']\n",
    "\n",
    "df_cluster['time of day'] = np.select(conditions, values)\n"
   ]
  },
  {
   "cell_type": "code",
   "execution_count": 666,
   "metadata": {
    "collapsed": true
   },
   "outputs": [
    {
     "data": {
      "text/html": [
       "<div>\n",
       "<style scoped>\n",
       "    .dataframe tbody tr th:only-of-type {\n",
       "        vertical-align: middle;\n",
       "    }\n",
       "\n",
       "    .dataframe tbody tr th {\n",
       "        vertical-align: top;\n",
       "    }\n",
       "\n",
       "    .dataframe thead th {\n",
       "        text-align: right;\n",
       "    }\n",
       "</style>\n",
       "<table border=\"1\" class=\"dataframe\">\n",
       "  <thead>\n",
       "    <tr style=\"text-align: right;\">\n",
       "      <th></th>\n",
       "      <th>L.Traffic.User.Avg (None)</th>\n",
       "    </tr>\n",
       "    <tr>\n",
       "      <th>Cell</th>\n",
       "      <th></th>\n",
       "    </tr>\n",
       "  </thead>\n",
       "  <tbody>\n",
       "    <tr>\n",
       "      <th>Local cell identity=0, Cell Name=eNB_2014-0</th>\n",
       "      <td>66.713497</td>\n",
       "    </tr>\n",
       "    <tr>\n",
       "      <th>Local cell identity=0, Cell Name=eNB_2077-0</th>\n",
       "      <td>47.065283</td>\n",
       "    </tr>\n",
       "    <tr>\n",
       "      <th>Local cell identity=0, Cell Name=eNB_2080_0</th>\n",
       "      <td>21.381023</td>\n",
       "    </tr>\n",
       "    <tr>\n",
       "      <th>Local cell identity=0, Cell Name=eNB_2151-0</th>\n",
       "      <td>112.719250</td>\n",
       "    </tr>\n",
       "    <tr>\n",
       "      <th>Local cell identity=0, Cell Name=eNB_2152-0</th>\n",
       "      <td>49.159100</td>\n",
       "    </tr>\n",
       "    <tr>\n",
       "      <th>...</th>\n",
       "      <td>...</td>\n",
       "    </tr>\n",
       "    <tr>\n",
       "      <th>Local cell identity=2, Cell Name=eNB_5057_2</th>\n",
       "      <td>27.241456</td>\n",
       "    </tr>\n",
       "    <tr>\n",
       "      <th>Local cell identity=2, Cell Name=eNB_5067_2</th>\n",
       "      <td>54.425004</td>\n",
       "    </tr>\n",
       "    <tr>\n",
       "      <th>Local cell identity=2, Cell Name=eNB_5250_2</th>\n",
       "      <td>50.004503</td>\n",
       "    </tr>\n",
       "    <tr>\n",
       "      <th>Local cell identity=2, Cell Name=eNB_5264_2</th>\n",
       "      <td>49.338763</td>\n",
       "    </tr>\n",
       "    <tr>\n",
       "      <th>Local cell identity=2, Cell Name=eNB_5265_2</th>\n",
       "      <td>55.263997</td>\n",
       "    </tr>\n",
       "  </tbody>\n",
       "</table>\n",
       "<p>334 rows × 1 columns</p>\n",
       "</div>"
      ],
      "text/plain": [
       "                                             L.Traffic.User.Avg (None)\n",
       "Cell                                                                  \n",
       "Local cell identity=0, Cell Name=eNB_2014-0                  66.713497\n",
       "Local cell identity=0, Cell Name=eNB_2077-0                  47.065283\n",
       "Local cell identity=0, Cell Name=eNB_2080_0                  21.381023\n",
       "Local cell identity=0, Cell Name=eNB_2151-0                 112.719250\n",
       "Local cell identity=0, Cell Name=eNB_2152-0                  49.159100\n",
       "...                                                                ...\n",
       "Local cell identity=2, Cell Name=eNB_5057_2                  27.241456\n",
       "Local cell identity=2, Cell Name=eNB_5067_2                  54.425004\n",
       "Local cell identity=2, Cell Name=eNB_5250_2                  50.004503\n",
       "Local cell identity=2, Cell Name=eNB_5264_2                  49.338763\n",
       "Local cell identity=2, Cell Name=eNB_5265_2                  55.263997\n",
       "\n",
       "[334 rows x 1 columns]"
      ]
     },
     "execution_count": 666,
     "metadata": {},
     "output_type": "execute_result"
    }
   ],
   "source": [
    "\n",
    "cluster_dltput=pd.DataFrame(df_cluster.groupby(['Cell'])['DL user tput'].mean())\n",
    "cluster_avguser=pd.DataFrame(df_cluster.groupby(['Cell'])['L.Traffic.User.Avg (None)'].mean())\n",
    "cluster_celltput=pd.DataFrame(df_cluster.groupby(['Cell'])['DL cell tput'].mean())\n",
    "cluster_traffic=pd.DataFrame(df_cluster.groupby(['Cell'])['Traffic Vol per user'].mean())\n",
    "cluster_avguser"
   ]
  },
  {
   "cell_type": "code",
   "execution_count": 842,
   "metadata": {},
   "outputs": [],
   "source": [
    "\n",
    "cluster_dltput=pd.DataFrame(df_cluster.groupby(['Cell'])['DL user tput'].mean())\n",
    "cluster_avguser=pd.DataFrame(df_cluster.groupby(['Cell'])['L.Traffic.User.Avg (None)'].mean())\n",
    "cluster_celltput=pd.DataFrame(df_cluster.groupby(['Cell'])['DL cell tput'].mean())\n",
    "cluster_traffic=pd.DataFrame(df_cluster.groupby(['Cell','time of day'])['Traffic Vol per user'].mean())\n",
    "\n",
    "#cluster_dltput=cluster_dltput.unstack()\n",
    "#cluster_avguser=cluster_avguser.unstack()\n",
    "#cluster_celltput=cluster_celltput.unstack()\n",
    "cluster_traffic=cluster_traffic.unstack()\n",
    "\n",
    "#cluster_dltput.columns=['AW_tput','EB_tput','NO_tput','WH_tput','EV_tput']\n",
    "#cluster_avguser.columns=['AW_users','EB_users','NO_users','WH_users','EV_users']\n",
    "#cluster_celltput.columns=['AW_cell_tput','EB_cell_tput','EV_cell_tput','NO_cell_tput','WH_cell_tput']\n",
    "cluster_traffic.columns=['AW_TV','EB_TV','EV_TV','NO_TV','WH_TV']\n",
    "\n",
    "cluster_dltput['Cell']=cluster_dltput.index\n",
    "cluster_dltput.reset_index(level=None, drop=True, inplace=True)\n",
    "cluster_avguser['Cell']=cluster_avguser.index\n",
    "cluster_avguser.reset_index(level=None, drop=True, inplace=True)\n",
    "\n",
    "\n",
    "cluster_merge=pd.merge(cluster_dltput, cluster_avguser, on=\"Cell\")\n",
    "cluster_merge=pd.merge(cluster_merge, cluster_celltput, on=\"Cell\")\n",
    "cluster_merge=pd.merge(cluster_merge, cluster_traffic, on=\"Cell\")\n",
    "\n",
    "#cluster_merge['low_to_high_ratio']=cluster_merge['EB_users']/cluster_merge['NO_users']\n",
    "\n",
    "\n"
   ]
  },
  {
   "cell_type": "code",
   "execution_count": 745,
   "metadata": {
    "collapsed": true
   },
   "outputs": [
    {
     "data": {
      "text/html": [
       "<div>\n",
       "<style scoped>\n",
       "    .dataframe tbody tr th:only-of-type {\n",
       "        vertical-align: middle;\n",
       "    }\n",
       "\n",
       "    .dataframe tbody tr th {\n",
       "        vertical-align: top;\n",
       "    }\n",
       "\n",
       "    .dataframe thead th {\n",
       "        text-align: right;\n",
       "    }\n",
       "</style>\n",
       "<table border=\"1\" class=\"dataframe\">\n",
       "  <thead>\n",
       "    <tr style=\"text-align: right;\">\n",
       "      <th></th>\n",
       "      <th>DL user tput</th>\n",
       "      <th>Cell</th>\n",
       "      <th>L.Traffic.User.Avg (None)</th>\n",
       "      <th>DL cell tput</th>\n",
       "      <th>AW_TV</th>\n",
       "      <th>EB_TV</th>\n",
       "      <th>EV_TV</th>\n",
       "      <th>NO_TV</th>\n",
       "      <th>WH_TV</th>\n",
       "    </tr>\n",
       "  </thead>\n",
       "  <tbody>\n",
       "    <tr>\n",
       "      <th>0</th>\n",
       "      <td>1.103360</td>\n",
       "      <td>Local cell identity=0, Cell Name=eNB_2014-0</td>\n",
       "      <td>66.713497</td>\n",
       "      <td>11.155545</td>\n",
       "      <td>140.373862</td>\n",
       "      <td>153.026912</td>\n",
       "      <td>147.252525</td>\n",
       "      <td>151.927306</td>\n",
       "      <td>159.374173</td>\n",
       "    </tr>\n",
       "    <tr>\n",
       "      <th>1</th>\n",
       "      <td>1.599800</td>\n",
       "      <td>Local cell identity=0, Cell Name=eNB_2077-0</td>\n",
       "      <td>47.065283</td>\n",
       "      <td>7.519939</td>\n",
       "      <td>147.818109</td>\n",
       "      <td>154.055717</td>\n",
       "      <td>145.116804</td>\n",
       "      <td>146.214131</td>\n",
       "      <td>136.174092</td>\n",
       "    </tr>\n",
       "    <tr>\n",
       "      <th>2</th>\n",
       "      <td>1.892283</td>\n",
       "      <td>Local cell identity=0, Cell Name=eNB_2080_0</td>\n",
       "      <td>21.381023</td>\n",
       "      <td>5.336236</td>\n",
       "      <td>226.789031</td>\n",
       "      <td>157.999599</td>\n",
       "      <td>286.228206</td>\n",
       "      <td>211.733405</td>\n",
       "      <td>217.523486</td>\n",
       "    </tr>\n",
       "    <tr>\n",
       "      <th>3</th>\n",
       "      <td>0.752215</td>\n",
       "      <td>Local cell identity=0, Cell Name=eNB_2151-0</td>\n",
       "      <td>112.719250</td>\n",
       "      <td>10.579933</td>\n",
       "      <td>83.408103</td>\n",
       "      <td>88.225904</td>\n",
       "      <td>80.848359</td>\n",
       "      <td>78.290517</td>\n",
       "      <td>92.056703</td>\n",
       "    </tr>\n",
       "    <tr>\n",
       "      <th>4</th>\n",
       "      <td>1.966447</td>\n",
       "      <td>Local cell identity=0, Cell Name=eNB_2152-0</td>\n",
       "      <td>49.159100</td>\n",
       "      <td>9.560230</td>\n",
       "      <td>167.187647</td>\n",
       "      <td>164.191439</td>\n",
       "      <td>189.340946</td>\n",
       "      <td>185.237201</td>\n",
       "      <td>169.319420</td>\n",
       "    </tr>\n",
       "    <tr>\n",
       "      <th>...</th>\n",
       "      <td>...</td>\n",
       "      <td>...</td>\n",
       "      <td>...</td>\n",
       "      <td>...</td>\n",
       "      <td>...</td>\n",
       "      <td>...</td>\n",
       "      <td>...</td>\n",
       "      <td>...</td>\n",
       "      <td>...</td>\n",
       "    </tr>\n",
       "    <tr>\n",
       "      <th>329</th>\n",
       "      <td>2.040793</td>\n",
       "      <td>Local cell identity=2, Cell Name=eNB_5057_2</td>\n",
       "      <td>27.241456</td>\n",
       "      <td>6.120542</td>\n",
       "      <td>229.491047</td>\n",
       "      <td>129.675423</td>\n",
       "      <td>239.872866</td>\n",
       "      <td>181.679507</td>\n",
       "      <td>203.656092</td>\n",
       "    </tr>\n",
       "    <tr>\n",
       "      <th>330</th>\n",
       "      <td>1.942831</td>\n",
       "      <td>Local cell identity=2, Cell Name=eNB_5067_2</td>\n",
       "      <td>54.425004</td>\n",
       "      <td>10.121535</td>\n",
       "      <td>166.627839</td>\n",
       "      <td>165.829025</td>\n",
       "      <td>165.827576</td>\n",
       "      <td>168.052548</td>\n",
       "      <td>167.652736</td>\n",
       "    </tr>\n",
       "    <tr>\n",
       "      <th>331</th>\n",
       "      <td>0.914901</td>\n",
       "      <td>Local cell identity=2, Cell Name=eNB_5250_2</td>\n",
       "      <td>50.004503</td>\n",
       "      <td>7.748157</td>\n",
       "      <td>139.008284</td>\n",
       "      <td>152.576353</td>\n",
       "      <td>129.072772</td>\n",
       "      <td>137.620535</td>\n",
       "      <td>142.346614</td>\n",
       "    </tr>\n",
       "    <tr>\n",
       "      <th>332</th>\n",
       "      <td>1.884600</td>\n",
       "      <td>Local cell identity=2, Cell Name=eNB_5264_2</td>\n",
       "      <td>49.338763</td>\n",
       "      <td>8.530458</td>\n",
       "      <td>150.895001</td>\n",
       "      <td>165.243491</td>\n",
       "      <td>163.304389</td>\n",
       "      <td>149.951775</td>\n",
       "      <td>154.028362</td>\n",
       "    </tr>\n",
       "    <tr>\n",
       "      <th>333</th>\n",
       "      <td>1.216200</td>\n",
       "      <td>Local cell identity=2, Cell Name=eNB_5265_2</td>\n",
       "      <td>55.263997</td>\n",
       "      <td>9.103532</td>\n",
       "      <td>137.886118</td>\n",
       "      <td>157.186371</td>\n",
       "      <td>142.088759</td>\n",
       "      <td>155.285204</td>\n",
       "      <td>150.962608</td>\n",
       "    </tr>\n",
       "  </tbody>\n",
       "</table>\n",
       "<p>334 rows × 9 columns</p>\n",
       "</div>"
      ],
      "text/plain": [
       "     DL user tput                                         Cell  \\\n",
       "0        1.103360  Local cell identity=0, Cell Name=eNB_2014-0   \n",
       "1        1.599800  Local cell identity=0, Cell Name=eNB_2077-0   \n",
       "2        1.892283  Local cell identity=0, Cell Name=eNB_2080_0   \n",
       "3        0.752215  Local cell identity=0, Cell Name=eNB_2151-0   \n",
       "4        1.966447  Local cell identity=0, Cell Name=eNB_2152-0   \n",
       "..            ...                                          ...   \n",
       "329      2.040793  Local cell identity=2, Cell Name=eNB_5057_2   \n",
       "330      1.942831  Local cell identity=2, Cell Name=eNB_5067_2   \n",
       "331      0.914901  Local cell identity=2, Cell Name=eNB_5250_2   \n",
       "332      1.884600  Local cell identity=2, Cell Name=eNB_5264_2   \n",
       "333      1.216200  Local cell identity=2, Cell Name=eNB_5265_2   \n",
       "\n",
       "     L.Traffic.User.Avg (None)  DL cell tput       AW_TV       EB_TV  \\\n",
       "0                    66.713497     11.155545  140.373862  153.026912   \n",
       "1                    47.065283      7.519939  147.818109  154.055717   \n",
       "2                    21.381023      5.336236  226.789031  157.999599   \n",
       "3                   112.719250     10.579933   83.408103   88.225904   \n",
       "4                    49.159100      9.560230  167.187647  164.191439   \n",
       "..                         ...           ...         ...         ...   \n",
       "329                  27.241456      6.120542  229.491047  129.675423   \n",
       "330                  54.425004     10.121535  166.627839  165.829025   \n",
       "331                  50.004503      7.748157  139.008284  152.576353   \n",
       "332                  49.338763      8.530458  150.895001  165.243491   \n",
       "333                  55.263997      9.103532  137.886118  157.186371   \n",
       "\n",
       "          EV_TV       NO_TV       WH_TV  \n",
       "0    147.252525  151.927306  159.374173  \n",
       "1    145.116804  146.214131  136.174092  \n",
       "2    286.228206  211.733405  217.523486  \n",
       "3     80.848359   78.290517   92.056703  \n",
       "4    189.340946  185.237201  169.319420  \n",
       "..          ...         ...         ...  \n",
       "329  239.872866  181.679507  203.656092  \n",
       "330  165.827576  168.052548  167.652736  \n",
       "331  129.072772  137.620535  142.346614  \n",
       "332  163.304389  149.951775  154.028362  \n",
       "333  142.088759  155.285204  150.962608  \n",
       "\n",
       "[334 rows x 9 columns]"
      ]
     },
     "execution_count": 745,
     "metadata": {},
     "output_type": "execute_result"
    }
   ],
   "source": [
    "\n",
    "#cluster_dltput=df_cluster.groupby(['Cell','time of day'])['DL user tput'].mean()\n",
    "#cluster_avguser=df_cluster.groupby(['Cell','time of day'])['L.Traffic.User.Avg (None)'].mean()\n",
    "\n",
    "#cluster_merge=pd.merge(cluster_dltput, cluster_avguser, on=\"Cell\")\n",
    "cluster_merge"
   ]
  },
  {
   "cell_type": "code",
   "execution_count": 622,
   "metadata": {
    "collapsed": true
   },
   "outputs": [
    {
     "data": {
      "text/html": [
       "<div>\n",
       "<style scoped>\n",
       "    .dataframe tbody tr th:only-of-type {\n",
       "        vertical-align: middle;\n",
       "    }\n",
       "\n",
       "    .dataframe tbody tr th {\n",
       "        vertical-align: top;\n",
       "    }\n",
       "\n",
       "    .dataframe thead th {\n",
       "        text-align: right;\n",
       "    }\n",
       "</style>\n",
       "<table border=\"1\" class=\"dataframe\">\n",
       "  <thead>\n",
       "    <tr style=\"text-align: right;\">\n",
       "      <th></th>\n",
       "      <th>DL user tput</th>\n",
       "      <th>Cell</th>\n",
       "      <th>L.Traffic.User.Avg (None)</th>\n",
       "      <th>DL cell tput</th>\n",
       "      <th>Traffic per user</th>\n",
       "    </tr>\n",
       "  </thead>\n",
       "  <tbody>\n",
       "    <tr>\n",
       "      <th>0</th>\n",
       "      <td>1.103360</td>\n",
       "      <td>Local cell identity=0, Cell Name=eNB_2014-0</td>\n",
       "      <td>66.713497</td>\n",
       "      <td>11.155545</td>\n",
       "      <td>151.096479</td>\n",
       "    </tr>\n",
       "    <tr>\n",
       "      <th>1</th>\n",
       "      <td>1.599800</td>\n",
       "      <td>Local cell identity=0, Cell Name=eNB_2077-0</td>\n",
       "      <td>47.065283</td>\n",
       "      <td>7.519939</td>\n",
       "      <td>144.743992</td>\n",
       "    </tr>\n",
       "    <tr>\n",
       "      <th>2</th>\n",
       "      <td>1.892283</td>\n",
       "      <td>Local cell identity=0, Cell Name=eNB_2080_0</td>\n",
       "      <td>21.381023</td>\n",
       "      <td>5.336236</td>\n",
       "      <td>220.018933</td>\n",
       "    </tr>\n",
       "    <tr>\n",
       "      <th>3</th>\n",
       "      <td>0.752215</td>\n",
       "      <td>Local cell identity=0, Cell Name=eNB_2151-0</td>\n",
       "      <td>112.719250</td>\n",
       "      <td>10.579933</td>\n",
       "      <td>85.454023</td>\n",
       "    </tr>\n",
       "    <tr>\n",
       "      <th>4</th>\n",
       "      <td>1.966447</td>\n",
       "      <td>Local cell identity=0, Cell Name=eNB_2152-0</td>\n",
       "      <td>49.159100</td>\n",
       "      <td>9.560230</td>\n",
       "      <td>174.010522</td>\n",
       "    </tr>\n",
       "    <tr>\n",
       "      <th>...</th>\n",
       "      <td>...</td>\n",
       "      <td>...</td>\n",
       "      <td>...</td>\n",
       "      <td>...</td>\n",
       "      <td>...</td>\n",
       "    </tr>\n",
       "    <tr>\n",
       "      <th>329</th>\n",
       "      <td>2.040793</td>\n",
       "      <td>Local cell identity=2, Cell Name=eNB_5057_2</td>\n",
       "      <td>27.241456</td>\n",
       "      <td>6.120542</td>\n",
       "      <td>199.081628</td>\n",
       "    </tr>\n",
       "    <tr>\n",
       "      <th>330</th>\n",
       "      <td>1.942831</td>\n",
       "      <td>Local cell identity=2, Cell Name=eNB_5067_2</td>\n",
       "      <td>54.425004</td>\n",
       "      <td>10.121535</td>\n",
       "      <td>166.897706</td>\n",
       "    </tr>\n",
       "    <tr>\n",
       "      <th>331</th>\n",
       "      <td>0.914901</td>\n",
       "      <td>Local cell identity=2, Cell Name=eNB_5250_2</td>\n",
       "      <td>50.004503</td>\n",
       "      <td>7.748157</td>\n",
       "      <td>140.356098</td>\n",
       "    </tr>\n",
       "    <tr>\n",
       "      <th>332</th>\n",
       "      <td>1.884600</td>\n",
       "      <td>Local cell identity=2, Cell Name=eNB_5264_2</td>\n",
       "      <td>49.338763</td>\n",
       "      <td>8.530458</td>\n",
       "      <td>156.111340</td>\n",
       "    </tr>\n",
       "    <tr>\n",
       "      <th>333</th>\n",
       "      <td>1.216200</td>\n",
       "      <td>Local cell identity=2, Cell Name=eNB_5265_2</td>\n",
       "      <td>55.263997</td>\n",
       "      <td>9.103532</td>\n",
       "      <td>148.517091</td>\n",
       "    </tr>\n",
       "  </tbody>\n",
       "</table>\n",
       "<p>334 rows × 5 columns</p>\n",
       "</div>"
      ],
      "text/plain": [
       "     DL user tput                                         Cell  \\\n",
       "0        1.103360  Local cell identity=0, Cell Name=eNB_2014-0   \n",
       "1        1.599800  Local cell identity=0, Cell Name=eNB_2077-0   \n",
       "2        1.892283  Local cell identity=0, Cell Name=eNB_2080_0   \n",
       "3        0.752215  Local cell identity=0, Cell Name=eNB_2151-0   \n",
       "4        1.966447  Local cell identity=0, Cell Name=eNB_2152-0   \n",
       "..            ...                                          ...   \n",
       "329      2.040793  Local cell identity=2, Cell Name=eNB_5057_2   \n",
       "330      1.942831  Local cell identity=2, Cell Name=eNB_5067_2   \n",
       "331      0.914901  Local cell identity=2, Cell Name=eNB_5250_2   \n",
       "332      1.884600  Local cell identity=2, Cell Name=eNB_5264_2   \n",
       "333      1.216200  Local cell identity=2, Cell Name=eNB_5265_2   \n",
       "\n",
       "     L.Traffic.User.Avg (None)  DL cell tput  Traffic per user  \n",
       "0                    66.713497     11.155545        151.096479  \n",
       "1                    47.065283      7.519939        144.743992  \n",
       "2                    21.381023      5.336236        220.018933  \n",
       "3                   112.719250     10.579933         85.454023  \n",
       "4                    49.159100      9.560230        174.010522  \n",
       "..                         ...           ...               ...  \n",
       "329                  27.241456      6.120542        199.081628  \n",
       "330                  54.425004     10.121535        166.897706  \n",
       "331                  50.004503      7.748157        140.356098  \n",
       "332                  49.338763      8.530458        156.111340  \n",
       "333                  55.263997      9.103532        148.517091  \n",
       "\n",
       "[334 rows x 5 columns]"
      ]
     },
     "execution_count": 622,
     "metadata": {},
     "output_type": "execute_result"
    }
   ],
   "source": [
    "cluster_merge"
   ]
  },
  {
   "cell_type": "code",
   "execution_count": 466,
   "metadata": {
    "collapsed": true
   },
   "outputs": [
    {
     "data": {
      "text/plain": [
       "<matplotlib.axes._subplots.AxesSubplot at 0x3625ecc0>"
      ]
     },
     "execution_count": 466,
     "metadata": {},
     "output_type": "execute_result"
    },
    {
     "data": {
      "image/png": "[encoded data removed]",
      "text/plain": [
       "<Figure size 432x288 with 1 Axes>"
      ]
     },
     "metadata": {},
     "output_type": "display_data"
    }
   ],
   "source": [
    "from scipy.stats import pearsonr\n",
    "sns.regplot(cluster_merge['L.Traffic.User.Avg (None)'],cluster_merge['DL user tput'])\n",
    "#pearsonr(df_cluster['L.Traffic.User.Avg (None)'],df_cluster['DL user tput'])"
   ]
  },
  {
   "cell_type": "code",
   "execution_count": 843,
   "metadata": {},
   "outputs": [],
   "source": [
    "cluster_merge=cluster_merge.set_index('Cell')\n",
    "\n",
    "bin_labels_tput = [1,2,3,4,5]\n",
    "bin_labels_users = [1,2,3,4,5]\n",
    "cluster_merge['bins_DL_user_tput'] = pd.qcut(cluster_merge['DL user tput'],q=[0, .2, .4, .6, .8, 1],labels=bin_labels_tput)\n",
    "cluster_merge['bins_users'] = pd.qcut(cluster_merge['L.Traffic.User.Avg (None)'],q=[0, .2, .4, .6, .8, 1],labels=bin_labels_tput)\n",
    "cluster_merge['bins_cell_tput'] = pd.qcut(cluster_merge['DL cell tput'],q=[0, .2, .4, .6, .8, 1],labels=bin_labels_tput)\n",
    "cluster_merge['bins_AW_TV'] = pd.qcut(cluster_merge['AW_TV'],q=[0, .2, .4, .6, .8, 1],labels=bin_labels_tput)\n",
    "cluster_merge['bins_EB_TV'] = pd.qcut(cluster_merge['EB_TV'],q=[0, .2, .4, .6, .8, 1],labels=bin_labels_tput)\n",
    "cluster_merge['bins_EV_TV'] = pd.qcut(cluster_merge['EV_TV'],q=[0, .2, .4, .6, .8, 1],labels=bin_labels_tput)\n",
    "cluster_merge['bins_NO_TV'] = pd.qcut(cluster_merge['NO_TV'],q=[0, .2, .4, .6, .8, 1],labels=bin_labels_tput)\n",
    "cluster_merge['bins_WH_TV'] = pd.qcut(cluster_merge['WH_TV'],q=[0, .2, .4, .6, .8, 1],labels=bin_labels_tput)\n",
    "\n",
    "scaled=cluster_merge[['bins_DL_user_tput','bins_users','bins_cell_tput','bins_AW_TV','bins_EB_TV','bins_EV_TV',\n",
    "                     'bins_NO_TV','bins_WH_TV']]\n",
    "\n",
    "#,'bins_AW_users','bins_EB_users','bins_NO_users','bins_WH_users','bins_EV_users'\n",
    "#'bins_AW_tput','bins_EB_tput','bins_NO_tput','bins_WH_tput','bins_EV_tput'\n"
   ]
  },
  {
   "cell_type": "code",
   "execution_count": 673,
   "metadata": {
    "collapsed": true
   },
   "outputs": [
    {
     "data": {
      "text/html": [
       "<div>\n",
       "<style scoped>\n",
       "    .dataframe tbody tr th:only-of-type {\n",
       "        vertical-align: middle;\n",
       "    }\n",
       "\n",
       "    .dataframe tbody tr th {\n",
       "        vertical-align: top;\n",
       "    }\n",
       "\n",
       "    .dataframe thead th {\n",
       "        text-align: right;\n",
       "    }\n",
       "</style>\n",
       "<table border=\"1\" class=\"dataframe\">\n",
       "  <thead>\n",
       "    <tr style=\"text-align: right;\">\n",
       "      <th></th>\n",
       "      <th>bins_DL_user_tput</th>\n",
       "      <th>bins_users</th>\n",
       "      <th>bins_cell_tput</th>\n",
       "      <th>bins_traffic_vol</th>\n",
       "    </tr>\n",
       "    <tr>\n",
       "      <th>Cell</th>\n",
       "      <th></th>\n",
       "      <th></th>\n",
       "      <th></th>\n",
       "      <th></th>\n",
       "    </tr>\n",
       "  </thead>\n",
       "  <tbody>\n",
       "    <tr>\n",
       "      <th>Local cell identity=0, Cell Name=eNB_2014-0</th>\n",
       "      <td>1</td>\n",
       "      <td>5</td>\n",
       "      <td>5</td>\n",
       "      <td>2</td>\n",
       "    </tr>\n",
       "    <tr>\n",
       "      <th>Local cell identity=0, Cell Name=eNB_2077-0</th>\n",
       "      <td>3</td>\n",
       "      <td>4</td>\n",
       "      <td>3</td>\n",
       "      <td>2</td>\n",
       "    </tr>\n",
       "    <tr>\n",
       "      <th>Local cell identity=0, Cell Name=eNB_2080_0</th>\n",
       "      <td>4</td>\n",
       "      <td>1</td>\n",
       "      <td>1</td>\n",
       "      <td>5</td>\n",
       "    </tr>\n",
       "    <tr>\n",
       "      <th>Local cell identity=0, Cell Name=eNB_2151-0</th>\n",
       "      <td>1</td>\n",
       "      <td>5</td>\n",
       "      <td>5</td>\n",
       "      <td>1</td>\n",
       "    </tr>\n",
       "    <tr>\n",
       "      <th>Local cell identity=0, Cell Name=eNB_2152-0</th>\n",
       "      <td>4</td>\n",
       "      <td>4</td>\n",
       "      <td>5</td>\n",
       "      <td>4</td>\n",
       "    </tr>\n",
       "    <tr>\n",
       "      <th>...</th>\n",
       "      <td>...</td>\n",
       "      <td>...</td>\n",
       "      <td>...</td>\n",
       "      <td>...</td>\n",
       "    </tr>\n",
       "    <tr>\n",
       "      <th>Local cell identity=2, Cell Name=eNB_5057_2</th>\n",
       "      <td>4</td>\n",
       "      <td>2</td>\n",
       "      <td>2</td>\n",
       "      <td>5</td>\n",
       "    </tr>\n",
       "    <tr>\n",
       "      <th>Local cell identity=2, Cell Name=eNB_5067_2</th>\n",
       "      <td>4</td>\n",
       "      <td>4</td>\n",
       "      <td>5</td>\n",
       "      <td>3</td>\n",
       "    </tr>\n",
       "    <tr>\n",
       "      <th>Local cell identity=2, Cell Name=eNB_5250_2</th>\n",
       "      <td>1</td>\n",
       "      <td>4</td>\n",
       "      <td>3</td>\n",
       "      <td>2</td>\n",
       "    </tr>\n",
       "    <tr>\n",
       "      <th>Local cell identity=2, Cell Name=eNB_5264_2</th>\n",
       "      <td>4</td>\n",
       "      <td>4</td>\n",
       "      <td>4</td>\n",
       "      <td>2</td>\n",
       "    </tr>\n",
       "    <tr>\n",
       "      <th>Local cell identity=2, Cell Name=eNB_5265_2</th>\n",
       "      <td>1</td>\n",
       "      <td>4</td>\n",
       "      <td>4</td>\n",
       "      <td>2</td>\n",
       "    </tr>\n",
       "  </tbody>\n",
       "</table>\n",
       "<p>334 rows × 4 columns</p>\n",
       "</div>"
      ],
      "text/plain": [
       "                                            bins_DL_user_tput bins_users  \\\n",
       "Cell                                                                       \n",
       "Local cell identity=0, Cell Name=eNB_2014-0                 1          5   \n",
       "Local cell identity=0, Cell Name=eNB_2077-0                 3          4   \n",
       "Local cell identity=0, Cell Name=eNB_2080_0                 4          1   \n",
       "Local cell identity=0, Cell Name=eNB_2151-0                 1          5   \n",
       "Local cell identity=0, Cell Name=eNB_2152-0                 4          4   \n",
       "...                                                       ...        ...   \n",
       "Local cell identity=2, Cell Name=eNB_5057_2                 4          2   \n",
       "Local cell identity=2, Cell Name=eNB_5067_2                 4          4   \n",
       "Local cell identity=2, Cell Name=eNB_5250_2                 1          4   \n",
       "Local cell identity=2, Cell Name=eNB_5264_2                 4          4   \n",
       "Local cell identity=2, Cell Name=eNB_5265_2                 1          4   \n",
       "\n",
       "                                            bins_cell_tput bins_traffic_vol  \n",
       "Cell                                                                         \n",
       "Local cell identity=0, Cell Name=eNB_2014-0              5                2  \n",
       "Local cell identity=0, Cell Name=eNB_2077-0              3                2  \n",
       "Local cell identity=0, Cell Name=eNB_2080_0              1                5  \n",
       "Local cell identity=0, Cell Name=eNB_2151-0              5                1  \n",
       "Local cell identity=0, Cell Name=eNB_2152-0              5                4  \n",
       "...                                                    ...              ...  \n",
       "Local cell identity=2, Cell Name=eNB_5057_2              2                5  \n",
       "Local cell identity=2, Cell Name=eNB_5067_2              5                3  \n",
       "Local cell identity=2, Cell Name=eNB_5250_2              3                2  \n",
       "Local cell identity=2, Cell Name=eNB_5264_2              4                2  \n",
       "Local cell identity=2, Cell Name=eNB_5265_2              4                2  \n",
       "\n",
       "[334 rows x 4 columns]"
      ]
     },
     "execution_count": 673,
     "metadata": {},
     "output_type": "execute_result"
    }
   ],
   "source": [
    "scaled"
   ]
  },
  {
   "cell_type": "code",
   "execution_count": 838,
   "metadata": {
    "collapsed": true
   },
   "outputs": [
    {
     "data": {
      "text/html": [
       "<div>\n",
       "<style scoped>\n",
       "    .dataframe tbody tr th:only-of-type {\n",
       "        vertical-align: middle;\n",
       "    }\n",
       "\n",
       "    .dataframe tbody tr th {\n",
       "        vertical-align: top;\n",
       "    }\n",
       "\n",
       "    .dataframe thead th {\n",
       "        text-align: right;\n",
       "    }\n",
       "</style>\n",
       "<table border=\"1\" class=\"dataframe\">\n",
       "  <thead>\n",
       "    <tr style=\"text-align: right;\">\n",
       "      <th></th>\n",
       "      <th>bins_DL_user_tput</th>\n",
       "      <th>bins_users</th>\n",
       "      <th>DL cell tput</th>\n",
       "      <th>AW_TV</th>\n",
       "      <th>EB_TV</th>\n",
       "      <th>EV_TV</th>\n",
       "      <th>NO_TV</th>\n",
       "      <th>WH_TV</th>\n",
       "    </tr>\n",
       "  </thead>\n",
       "  <tbody>\n",
       "    <tr>\n",
       "      <th>0</th>\n",
       "      <td>-1.186186</td>\n",
       "      <td>1.163458</td>\n",
       "      <td>1.715154</td>\n",
       "      <td>-0.612779</td>\n",
       "      <td>0.036273</td>\n",
       "      <td>-0.594818</td>\n",
       "      <td>-0.427695</td>\n",
       "      <td>-0.096989</td>\n",
       "    </tr>\n",
       "    <tr>\n",
       "      <th>1</th>\n",
       "      <td>-0.258721</td>\n",
       "      <td>0.169994</td>\n",
       "      <td>0.044561</td>\n",
       "      <td>-0.396079</td>\n",
       "      <td>0.070946</td>\n",
       "      <td>-0.648116</td>\n",
       "      <td>-0.579753</td>\n",
       "      <td>-0.802356</td>\n",
       "    </tr>\n",
       "    <tr>\n",
       "      <th>2</th>\n",
       "      <td>0.287704</td>\n",
       "      <td>-1.128668</td>\n",
       "      <td>-0.958869</td>\n",
       "      <td>1.902746</td>\n",
       "      <td>0.203864</td>\n",
       "      <td>2.873397</td>\n",
       "      <td>1.164057</td>\n",
       "      <td>1.670963</td>\n",
       "    </tr>\n",
       "    <tr>\n",
       "      <th>3</th>\n",
       "      <td>-1.842207</td>\n",
       "      <td>3.489627</td>\n",
       "      <td>1.450655</td>\n",
       "      <td>-2.271039</td>\n",
       "      <td>-2.147675</td>\n",
       "      <td>-2.251971</td>\n",
       "      <td>-2.387554</td>\n",
       "      <td>-2.143687</td>\n",
       "    </tr>\n",
       "    <tr>\n",
       "      <th>4</th>\n",
       "      <td>0.426261</td>\n",
       "      <td>0.275863</td>\n",
       "      <td>0.982092</td>\n",
       "      <td>0.167764</td>\n",
       "      <td>0.412544</td>\n",
       "      <td>0.455522</td>\n",
       "      <td>0.458855</td>\n",
       "      <td>0.205383</td>\n",
       "    </tr>\n",
       "    <tr>\n",
       "      <th>...</th>\n",
       "      <td>...</td>\n",
       "      <td>...</td>\n",
       "      <td>...</td>\n",
       "      <td>...</td>\n",
       "      <td>...</td>\n",
       "      <td>...</td>\n",
       "      <td>...</td>\n",
       "      <td>...</td>\n",
       "    </tr>\n",
       "    <tr>\n",
       "      <th>329</th>\n",
       "      <td>0.565155</td>\n",
       "      <td>-0.832349</td>\n",
       "      <td>-0.598474</td>\n",
       "      <td>1.981401</td>\n",
       "      <td>-0.750728</td>\n",
       "      <td>1.716574</td>\n",
       "      <td>0.364166</td>\n",
       "      <td>1.249344</td>\n",
       "    </tr>\n",
       "    <tr>\n",
       "      <th>330</th>\n",
       "      <td>0.382140</td>\n",
       "      <td>0.542120</td>\n",
       "      <td>1.240017</td>\n",
       "      <td>0.151468</td>\n",
       "      <td>0.467734</td>\n",
       "      <td>-0.131268</td>\n",
       "      <td>0.001481</td>\n",
       "      <td>0.154710</td>\n",
       "    </tr>\n",
       "    <tr>\n",
       "      <th>331</th>\n",
       "      <td>-1.538272</td>\n",
       "      <td>0.318609</td>\n",
       "      <td>0.149429</td>\n",
       "      <td>-0.652531</td>\n",
       "      <td>0.021088</td>\n",
       "      <td>-1.048504</td>\n",
       "      <td>-0.808473</td>\n",
       "      <td>-0.614689</td>\n",
       "    </tr>\n",
       "    <tr>\n",
       "      <th>332</th>\n",
       "      <td>0.273350</td>\n",
       "      <td>0.284947</td>\n",
       "      <td>0.508903</td>\n",
       "      <td>-0.306511</td>\n",
       "      <td>0.448000</td>\n",
       "      <td>-0.194235</td>\n",
       "      <td>-0.480275</td>\n",
       "      <td>-0.259521</td>\n",
       "    </tr>\n",
       "    <tr>\n",
       "      <th>333</th>\n",
       "      <td>-0.975376</td>\n",
       "      <td>0.584542</td>\n",
       "      <td>0.772236</td>\n",
       "      <td>-0.685197</td>\n",
       "      <td>0.176456</td>\n",
       "      <td>-0.723683</td>\n",
       "      <td>-0.338324</td>\n",
       "      <td>-0.352731</td>\n",
       "    </tr>\n",
       "  </tbody>\n",
       "</table>\n",
       "<p>334 rows × 8 columns</p>\n",
       "</div>"
      ],
      "text/plain": [
       "     bins_DL_user_tput  bins_users  DL cell tput     AW_TV     EB_TV  \\\n",
       "0            -1.186186    1.163458      1.715154 -0.612779  0.036273   \n",
       "1            -0.258721    0.169994      0.044561 -0.396079  0.070946   \n",
       "2             0.287704   -1.128668     -0.958869  1.902746  0.203864   \n",
       "3            -1.842207    3.489627      1.450655 -2.271039 -2.147675   \n",
       "4             0.426261    0.275863      0.982092  0.167764  0.412544   \n",
       "..                 ...         ...           ...       ...       ...   \n",
       "329           0.565155   -0.832349     -0.598474  1.981401 -0.750728   \n",
       "330           0.382140    0.542120      1.240017  0.151468  0.467734   \n",
       "331          -1.538272    0.318609      0.149429 -0.652531  0.021088   \n",
       "332           0.273350    0.284947      0.508903 -0.306511  0.448000   \n",
       "333          -0.975376    0.584542      0.772236 -0.685197  0.176456   \n",
       "\n",
       "        EV_TV     NO_TV     WH_TV  \n",
       "0   -0.594818 -0.427695 -0.096989  \n",
       "1   -0.648116 -0.579753 -0.802356  \n",
       "2    2.873397  1.164057  1.670963  \n",
       "3   -2.251971 -2.387554 -2.143687  \n",
       "4    0.455522  0.458855  0.205383  \n",
       "..        ...       ...       ...  \n",
       "329  1.716574  0.364166  1.249344  \n",
       "330 -0.131268  0.001481  0.154710  \n",
       "331 -1.048504 -0.808473 -0.614689  \n",
       "332 -0.194235 -0.480275 -0.259521  \n",
       "333 -0.723683 -0.338324 -0.352731  \n",
       "\n",
       "[334 rows x 8 columns]"
      ]
     },
     "execution_count": 838,
     "metadata": {},
     "output_type": "execute_result"
    }
   ],
   "source": [
    "cluster_merge=cluster_merge.set_index('Cell')\n",
    "\n",
    "#StandardScaler\n",
    "#MinMaxScaler\n",
    "\n",
    "scaler = StandardScaler()\n",
    "# transform data\n",
    "scaled = scaler.fit_transform(cluster_merge)\n",
    "scaled=pd.DataFrame(scaled)\n",
    "scaled.columns=['bins_DL_user_tput','bins_users','DL cell tput','AW_TV','EB_TV','EV_TV','NO_TV','WH_TV']\n",
    "scaled"
   ]
  },
  {
   "cell_type": "code",
   "execution_count": 844,
   "metadata": {},
   "outputs": [],
   "source": [
    "\n",
    "#'bins_DL_user_tput','bins_users','bins_cell_tput','bins_AW_TV','bins_EB_TV','bins_EV_TV','bins_NO_TV','bins_WH_TV'\n",
    "#'bins_DL_user_tput','bins_users','bins_cell_tput','bins_AW_TV','bins_EB_TV','bins_EV_TV','bins_NO_TV','bins_WH_TV'\n",
    "\n",
    "scaled=scaled[['bins_DL_user_tput','bins_users','bins_cell_tput','bins_AW_TV','bins_EB_TV','bins_EV_TV','bins_NO_TV','bins_WH_TV']]\n",
    "model = KMeans(n_clusters=4,random_state=100) \n",
    "kmeans = model.fit(scaled)\n"
   ]
  },
  {
   "cell_type": "code",
   "execution_count": 845,
   "metadata": {
    "scrolled": true
   },
   "outputs": [
    {
     "data": {
      "text/html": [
       "<div>\n",
       "<style scoped>\n",
       "    .dataframe tbody tr th:only-of-type {\n",
       "        vertical-align: middle;\n",
       "    }\n",
       "\n",
       "    .dataframe tbody tr th {\n",
       "        vertical-align: top;\n",
       "    }\n",
       "\n",
       "    .dataframe thead th {\n",
       "        text-align: right;\n",
       "    }\n",
       "</style>\n",
       "<table border=\"1\" class=\"dataframe\">\n",
       "  <thead>\n",
       "    <tr style=\"text-align: right;\">\n",
       "      <th></th>\n",
       "      <th>DL user tput</th>\n",
       "      <th>L.Traffic.User.Avg (None)</th>\n",
       "      <th>DL cell tput</th>\n",
       "      <th>AW_TV</th>\n",
       "      <th>EB_TV</th>\n",
       "      <th>EV_TV</th>\n",
       "      <th>NO_TV</th>\n",
       "      <th>WH_TV</th>\n",
       "    </tr>\n",
       "    <tr>\n",
       "      <th>cluster</th>\n",
       "      <th></th>\n",
       "      <th></th>\n",
       "      <th></th>\n",
       "      <th></th>\n",
       "      <th></th>\n",
       "      <th></th>\n",
       "      <th></th>\n",
       "      <th></th>\n",
       "    </tr>\n",
       "  </thead>\n",
       "  <tbody>\n",
       "    <tr>\n",
       "      <th>0</th>\n",
       "      <td>1.221484</td>\n",
       "      <td>64.797163</td>\n",
       "      <td>8.894389</td>\n",
       "      <td>124.700548</td>\n",
       "      <td>126.821677</td>\n",
       "      <td>127.743744</td>\n",
       "      <td>129.046675</td>\n",
       "      <td>128.423355</td>\n",
       "    </tr>\n",
       "    <tr>\n",
       "      <th>1</th>\n",
       "      <td>2.120843</td>\n",
       "      <td>27.742232</td>\n",
       "      <td>6.131273</td>\n",
       "      <td>194.354885</td>\n",
       "      <td>180.218945</td>\n",
       "      <td>213.789998</td>\n",
       "      <td>207.973344</td>\n",
       "      <td>197.076590</td>\n",
       "    </tr>\n",
       "    <tr>\n",
       "      <th>2</th>\n",
       "      <td>2.127679</td>\n",
       "      <td>29.696033</td>\n",
       "      <td>5.450955</td>\n",
       "      <td>169.597405</td>\n",
       "      <td>137.919423</td>\n",
       "      <td>178.381332</td>\n",
       "      <td>165.763387</td>\n",
       "      <td>161.467071</td>\n",
       "    </tr>\n",
       "    <tr>\n",
       "      <th>3</th>\n",
       "      <td>1.607327</td>\n",
       "      <td>48.003868</td>\n",
       "      <td>8.722796</td>\n",
       "      <td>160.221341</td>\n",
       "      <td>159.341936</td>\n",
       "      <td>166.737066</td>\n",
       "      <td>168.966748</td>\n",
       "      <td>163.397904</td>\n",
       "    </tr>\n",
       "  </tbody>\n",
       "</table>\n",
       "</div>"
      ],
      "text/plain": [
       "         DL user tput  L.Traffic.User.Avg (None)  DL cell tput       AW_TV  \\\n",
       "cluster                                                                      \n",
       "0            1.221484                  64.797163      8.894389  124.700548   \n",
       "1            2.120843                  27.742232      6.131273  194.354885   \n",
       "2            2.127679                  29.696033      5.450955  169.597405   \n",
       "3            1.607327                  48.003868      8.722796  160.221341   \n",
       "\n",
       "              EB_TV       EV_TV       NO_TV       WH_TV  \n",
       "cluster                                                  \n",
       "0        126.821677  127.743744  129.046675  128.423355  \n",
       "1        180.218945  213.789998  207.973344  197.076590  \n",
       "2        137.919423  178.381332  165.763387  161.467071  \n",
       "3        159.341936  166.737066  168.966748  163.397904  "
      ]
     },
     "execution_count": 845,
     "metadata": {},
     "output_type": "execute_result"
    }
   ],
   "source": [
    "cluster_merge['cluster']=kmeans.labels_\n",
    "\n",
    "\n",
    "\n",
    "cluster_merge_stats=cluster_merge.groupby(['cluster'])['DL user tput','L.Traffic.User.Avg (None)','DL cell tput','AW_TV','EB_TV','EV_TV','NO_TV','WH_TV'].mean()\n",
    "\n",
    "cluster_merge_stats[['DL user tput','L.Traffic.User.Avg (None)','DL cell tput','AW_TV','EB_TV','EV_TV','NO_TV','WH_TV']]\n",
    "#.plot()"
   ]
  },
  {
   "cell_type": "code",
   "execution_count": 718,
   "metadata": {},
   "outputs": [
    {
     "data": {
      "text/plain": [
       "<matplotlib.axes._subplots.AxesSubplot at 0x535cda20>"
      ]
     },
     "execution_count": 718,
     "metadata": {},
     "output_type": "execute_result"
    },
    {
     "data": {
      "image/png": "[encoded data removed]",
      "text/plain": [
       "<Figure size 432x288 with 1 Axes>"
      ]
     },
     "metadata": {},
     "output_type": "display_data"
    }
   ],
   "source": [
    "sns.regplot(cluster_merge['L.Traffic.User.Avg (None)'],cluster_merge['DL cell tput'])"
   ]
  },
  {
   "cell_type": "code",
   "execution_count": 816,
   "metadata": {},
   "outputs": [],
   "source": [
    "from sklearn.decomposition import PCA\n",
    "pca_cells = PCA(n_components=4)\n",
    "principalComponents_cells = pca_cells.fit_transform(scaled)\n",
    "\n",
    "\n",
    "principal_cells_Df = pd.DataFrame(data = principalComponents_cells\n",
    "             , columns = ['principal component 1', 'principal component 2','principal component 3','principal component 4'])"
   ]
  },
  {
   "cell_type": "code",
   "execution_count": 817,
   "metadata": {},
   "outputs": [
    {
     "name": "stdout",
     "output_type": "stream",
     "text": [
      "Explained variation per principal component: [0.67181022 0.14088283 0.06889172 0.05093976]\n"
     ]
    }
   ],
   "source": [
    "print('Explained variation per principal component: {}'.format(pca_cells.explained_variance_ratio_))"
   ]
  },
  {
   "cell_type": "code",
   "execution_count": 818,
   "metadata": {},
   "outputs": [
    {
     "data": {
      "text/html": [
       "<div>\n",
       "<style scoped>\n",
       "    .dataframe tbody tr th:only-of-type {\n",
       "        vertical-align: middle;\n",
       "    }\n",
       "\n",
       "    .dataframe tbody tr th {\n",
       "        vertical-align: top;\n",
       "    }\n",
       "\n",
       "    .dataframe thead th {\n",
       "        text-align: right;\n",
       "    }\n",
       "</style>\n",
       "<table border=\"1\" class=\"dataframe\">\n",
       "  <thead>\n",
       "    <tr style=\"text-align: right;\">\n",
       "      <th></th>\n",
       "      <th>PC1</th>\n",
       "      <th>PC2</th>\n",
       "      <th>PC3</th>\n",
       "      <th>PC4</th>\n",
       "    </tr>\n",
       "    <tr>\n",
       "      <th>feature_names</th>\n",
       "      <th></th>\n",
       "      <th></th>\n",
       "      <th></th>\n",
       "      <th></th>\n",
       "    </tr>\n",
       "  </thead>\n",
       "  <tbody>\n",
       "    <tr>\n",
       "      <th>bins_DL_user_tput</th>\n",
       "      <td>0.322905</td>\n",
       "      <td>0.198059</td>\n",
       "      <td>0.603001</td>\n",
       "      <td>-0.682197</td>\n",
       "    </tr>\n",
       "    <tr>\n",
       "      <th>bins_users</th>\n",
       "      <td>-0.371570</td>\n",
       "      <td>-0.405960</td>\n",
       "      <td>0.241361</td>\n",
       "      <td>-0.067958</td>\n",
       "    </tr>\n",
       "    <tr>\n",
       "      <th>bins_cell_tput</th>\n",
       "      <td>-0.272295</td>\n",
       "      <td>-0.670333</td>\n",
       "      <td>0.366640</td>\n",
       "      <td>-0.009245</td>\n",
       "    </tr>\n",
       "    <tr>\n",
       "      <th>bins_AW_TV</th>\n",
       "      <td>0.387280</td>\n",
       "      <td>-0.126239</td>\n",
       "      <td>0.296863</td>\n",
       "      <td>0.356939</td>\n",
       "    </tr>\n",
       "    <tr>\n",
       "      <th>bins_EB_TV</th>\n",
       "      <td>0.292181</td>\n",
       "      <td>-0.463956</td>\n",
       "      <td>-0.558898</td>\n",
       "      <td>-0.498092</td>\n",
       "    </tr>\n",
       "    <tr>\n",
       "      <th>bins_EV_TV</th>\n",
       "      <td>0.402958</td>\n",
       "      <td>-0.095861</td>\n",
       "      <td>0.191902</td>\n",
       "      <td>0.246314</td>\n",
       "    </tr>\n",
       "    <tr>\n",
       "      <th>bins_NO_TV</th>\n",
       "      <td>0.376380</td>\n",
       "      <td>-0.230127</td>\n",
       "      <td>-0.079066</td>\n",
       "      <td>-0.039107</td>\n",
       "    </tr>\n",
       "    <tr>\n",
       "      <th>bins_WH_TV</th>\n",
       "      <td>0.379647</td>\n",
       "      <td>-0.230830</td>\n",
       "      <td>-0.011681</td>\n",
       "      <td>0.303648</td>\n",
       "    </tr>\n",
       "  </tbody>\n",
       "</table>\n",
       "</div>"
      ],
      "text/plain": [
       "                        PC1       PC2       PC3       PC4\n",
       "feature_names                                            \n",
       "bins_DL_user_tput  0.322905  0.198059  0.603001 -0.682197\n",
       "bins_users        -0.371570 -0.405960  0.241361 -0.067958\n",
       "bins_cell_tput    -0.272295 -0.670333  0.366640 -0.009245\n",
       "bins_AW_TV         0.387280 -0.126239  0.296863  0.356939\n",
       "bins_EB_TV         0.292181 -0.463956 -0.558898 -0.498092\n",
       "bins_EV_TV         0.402958 -0.095861  0.191902  0.246314\n",
       "bins_NO_TV         0.376380 -0.230127 -0.079066 -0.039107\n",
       "bins_WH_TV         0.379647 -0.230830 -0.011681  0.303648"
      ]
     },
     "execution_count": 818,
     "metadata": {},
     "output_type": "execute_result"
    }
   ],
   "source": [
    "# Principal components correlation coefficients\n",
    "loadings = pca_cells.components_\n",
    " \n",
    "# Number of features before PCA\n",
    "n_features = pca_cells.n_features_\n",
    " \n",
    "# Feature names before PCA\n",
    "feature_names = scaled.columns\n",
    " \n",
    "# PC names\n",
    "pc_list = [f'PC{i}' for i in list(range(1, n_features + 1))]\n",
    " \n",
    "# Match PC names to loadings\n",
    "pc_loadings = dict(zip(pc_list, loadings))\n",
    " \n",
    "# Matrix of corr coefs between feature names and PCs\n",
    "loadings_df = pd.DataFrame.from_dict(pc_loadings)\n",
    "loadings_df['feature_names'] = feature_names\n",
    "loadings_df = loadings_df.set_index('feature_names')\n",
    "loadings_df"
   ]
  },
  {
   "cell_type": "code",
   "execution_count": 413,
   "metadata": {
    "collapsed": true
   },
   "outputs": [
    {
     "name": "stderr",
     "output_type": "stream",
     "text": [
      "C:\\Users\\Ahmad\\Anaconda3\\lib\\site-packages\\ipykernel_launcher.py:3: SettingWithCopyWarning: \n",
      "A value is trying to be set on a copy of a slice from a DataFrame.\n",
      "Try using .loc[row_indexer,col_indexer] = value instead\n",
      "\n",
      "See the caveats in the documentation: http://pandas.pydata.org/pandas-docs/stable/user_guide/indexing.html#returning-a-view-versus-a-copy\n",
      "  This is separate from the ipykernel package so we can avoid doing imports until\n"
     ]
    },
    {
     "data": {
      "text/html": [
       "<div>\n",
       "<style scoped>\n",
       "    .dataframe tbody tr th:only-of-type {\n",
       "        vertical-align: middle;\n",
       "    }\n",
       "\n",
       "    .dataframe tbody tr th {\n",
       "        vertical-align: top;\n",
       "    }\n",
       "\n",
       "    .dataframe thead th {\n",
       "        text-align: right;\n",
       "    }\n",
       "</style>\n",
       "<table border=\"1\" class=\"dataframe\">\n",
       "  <thead>\n",
       "    <tr style=\"text-align: right;\">\n",
       "      <th></th>\n",
       "      <th>Cell</th>\n",
       "      <th>DL user tput</th>\n",
       "      <th>Name_of_day</th>\n",
       "      <th>L.Traffic.User.Avg (None)</th>\n",
       "    </tr>\n",
       "  </thead>\n",
       "  <tbody>\n",
       "    <tr>\n",
       "      <th>0</th>\n",
       "      <td>Local cell identity=2, Cell Name=eNB_2786_2</td>\n",
       "      <td>0.874756</td>\n",
       "      <td>Wednesday</td>\n",
       "      <td>47.820</td>\n",
       "    </tr>\n",
       "    <tr>\n",
       "      <th>1</th>\n",
       "      <td>Local cell identity=1, Cell Name=eNB_2282_1</td>\n",
       "      <td>0.465525</td>\n",
       "      <td>Wednesday</td>\n",
       "      <td>88.716</td>\n",
       "    </tr>\n",
       "    <tr>\n",
       "      <th>2</th>\n",
       "      <td>Local cell identity=0, Cell Name=eNB_2786_0</td>\n",
       "      <td>1.126516</td>\n",
       "      <td>Wednesday</td>\n",
       "      <td>43.926</td>\n",
       "    </tr>\n",
       "    <tr>\n",
       "      <th>3</th>\n",
       "      <td>Local cell identity=0, Cell Name=eNB_5265_0</td>\n",
       "      <td>1.195236</td>\n",
       "      <td>Wednesday</td>\n",
       "      <td>27.219</td>\n",
       "    </tr>\n",
       "    <tr>\n",
       "      <th>4</th>\n",
       "      <td>Local cell identity=2, Cell Name=eNB_5265_2</td>\n",
       "      <td>0.727086</td>\n",
       "      <td>Wednesday</td>\n",
       "      <td>63.032</td>\n",
       "    </tr>\n",
       "    <tr>\n",
       "      <th>...</th>\n",
       "      <td>...</td>\n",
       "      <td>...</td>\n",
       "      <td>...</td>\n",
       "      <td>...</td>\n",
       "    </tr>\n",
       "    <tr>\n",
       "      <th>256488</th>\n",
       "      <td>Local cell identity=1, Cell Name=eNB_3894-1</td>\n",
       "      <td>2.473142</td>\n",
       "      <td>Wednesday</td>\n",
       "      <td>20.160</td>\n",
       "    </tr>\n",
       "    <tr>\n",
       "      <th>256489</th>\n",
       "      <td>Local cell identity=2, Cell Name=eNB_2462-2</td>\n",
       "      <td>2.187025</td>\n",
       "      <td>Wednesday</td>\n",
       "      <td>21.517</td>\n",
       "    </tr>\n",
       "    <tr>\n",
       "      <th>256490</th>\n",
       "      <td>Local cell identity=1, Cell Name=eNB_2157-1</td>\n",
       "      <td>1.639771</td>\n",
       "      <td>Wednesday</td>\n",
       "      <td>25.619</td>\n",
       "    </tr>\n",
       "    <tr>\n",
       "      <th>256491</th>\n",
       "      <td>Local cell identity=1, Cell Name=eNB_2169-1</td>\n",
       "      <td>1.468915</td>\n",
       "      <td>Wednesday</td>\n",
       "      <td>30.619</td>\n",
       "    </tr>\n",
       "    <tr>\n",
       "      <th>256492</th>\n",
       "      <td>Local cell identity=0, Cell Name=eNB_2316-0</td>\n",
       "      <td>1.183338</td>\n",
       "      <td>Wednesday</td>\n",
       "      <td>41.297</td>\n",
       "    </tr>\n",
       "  </tbody>\n",
       "</table>\n",
       "<p>256493 rows × 4 columns</p>\n",
       "</div>"
      ],
      "text/plain": [
       "                                               Cell  DL user tput Name_of_day  \\\n",
       "0       Local cell identity=2, Cell Name=eNB_2786_2      0.874756   Wednesday   \n",
       "1       Local cell identity=1, Cell Name=eNB_2282_1      0.465525   Wednesday   \n",
       "2       Local cell identity=0, Cell Name=eNB_2786_0      1.126516   Wednesday   \n",
       "3       Local cell identity=0, Cell Name=eNB_5265_0      1.195236   Wednesday   \n",
       "4       Local cell identity=2, Cell Name=eNB_5265_2      0.727086   Wednesday   \n",
       "...                                             ...           ...         ...   \n",
       "256488  Local cell identity=1, Cell Name=eNB_3894-1      2.473142   Wednesday   \n",
       "256489  Local cell identity=2, Cell Name=eNB_2462-2      2.187025   Wednesday   \n",
       "256490  Local cell identity=1, Cell Name=eNB_2157-1      1.639771   Wednesday   \n",
       "256491  Local cell identity=1, Cell Name=eNB_2169-1      1.468915   Wednesday   \n",
       "256492  Local cell identity=0, Cell Name=eNB_2316-0      1.183338   Wednesday   \n",
       "\n",
       "        L.Traffic.User.Avg (None)  \n",
       "0                          47.820  \n",
       "1                          88.716  \n",
       "2                          43.926  \n",
       "3                          27.219  \n",
       "4                          63.032  \n",
       "...                           ...  \n",
       "256488                     20.160  \n",
       "256489                     21.517  \n",
       "256490                     25.619  \n",
       "256491                     30.619  \n",
       "256492                     41.297  \n",
       "\n",
       "[256493 rows x 4 columns]"
      ]
     },
     "execution_count": 413,
     "metadata": {},
     "output_type": "execute_result"
    }
   ],
   "source": [
    "df_cluster=df[['Cell','DL user tput','Name_of_day','L.Traffic.User.Avg (None)']]\n",
    "df_cluster.reset_index(level=None, drop=True, inplace=True)\n",
    "df_cluster['Name_of_day']=df_cluster['Name_of_day'].astype(str)\n",
    "df_cluster"
   ]
  },
  {
   "cell_type": "code",
   "execution_count": 414,
   "metadata": {},
   "outputs": [],
   "source": [
    "\n",
    "cluster_dltput=df_cluster.groupby(['Cell','Name_of_day'])['DL user tput'].mean()\n",
    "cluster_avguser=df_cluster.groupby(['Cell','Name_of_day'])['L.Traffic.User.Avg (None)'].mean()\n",
    "cluster_dltput=cluster_dltput.unstack()\n",
    "cluster_avguser=cluster_avguser.unstack()\n",
    "\n",
    "\n",
    "cluster_dltput.columns=['Fri_tput','Mon_tput','Sat_tput','Sun_tput','Thu_tput','Tue_tput','Wed_tput']\n",
    "cluster_avguser.columns=['Fri_users','Mon_users','Sat_users','Sun_users','Thu_users','Tue_users','Wed_users']\n",
    "\n",
    "cluster_dltput['Cell']=cluster_dltput.index\n",
    "cluster_dltput.reset_index(level=None, drop=True, inplace=True)\n",
    "cluster_avguser['Cell']=cluster_avguser.index\n",
    "cluster_avguser.reset_index(level=None, drop=True, inplace=True)\n",
    "\n",
    "\n",
    "cluster_merge=pd.merge(cluster_dltput, cluster_avguser, on=\"Cell\")\n",
    "\n",
    "cluster_merge['low_to_high_ratio']=cluster_merge['Fri_tput']/cluster_merge['Mon_tput']"
   ]
  },
  {
   "cell_type": "code",
   "execution_count": 415,
   "metadata": {},
   "outputs": [],
   "source": [
    "cluster_merge=cluster_merge.set_index('Cell')\n",
    "\n",
    "bin_labels_tput = [1,2,3,4,5]\n",
    "bin_labels_users = [1,2,3,4,5]\n",
    "cluster_merge['bins_Fri_tput'] = pd.qcut(cluster_merge['Fri_tput'],q=[0, .2, .4, .6, .8, 1],labels=bin_labels_tput)\n",
    "cluster_merge['bins_Mon_tput'] = pd.qcut(cluster_merge['Mon_tput'],q=[0, .2, .4, .6, .8, 1],labels=bin_labels_tput)\n",
    "cluster_merge['bins_Sat_tput'] = pd.qcut(cluster_merge['Sat_tput'],q=[0, .2, .4, .6, .8, 1],labels=bin_labels_tput)\n",
    "cluster_merge['bins_Sun_tput'] = pd.qcut(cluster_merge['Sun_tput'],q=[0, .2, .4, .6, .8, 1],labels=bin_labels_tput)\n",
    "cluster_merge['bins_Thu_tput'] = pd.qcut(cluster_merge['Thu_tput'],q=[0, .2, .4, .6, .8, 1],labels=bin_labels_tput)\n",
    "cluster_merge['bins_Tue_tput'] = pd.qcut(cluster_merge['Tue_tput'],q=[0, .2, .4, .6, .8, 1],labels=bin_labels_tput)\n",
    "cluster_merge['bins_Wed_tput'] = pd.qcut(cluster_merge['Wed_tput'],q=[0, .2, .4, .6, .8, 1],labels=bin_labels_tput)\n",
    "\n",
    "cluster_merge['bins_Fri_users'] = pd.qcut(cluster_merge['Fri_users'],q=[0, .2, .4, .6, .8, 1],labels=bin_labels_tput)\n",
    "cluster_merge['bins_Mon_users'] = pd.qcut(cluster_merge['Mon_users'],q=[0, .2, .4, .6, .8, 1],labels=bin_labels_tput)\n",
    "cluster_merge['bins_Sat_users'] = pd.qcut(cluster_merge['Sat_users'],q=[0, .2, .4, .6, .8, 1],labels=bin_labels_tput)\n",
    "cluster_merge['bins_Sun_users'] = pd.qcut(cluster_merge['Sun_users'],q=[0, .2, .4, .6, .8, 1],labels=bin_labels_tput)\n",
    "cluster_merge['bins_Thu_users'] = pd.qcut(cluster_merge['Thu_users'],q=[0, .2, .4, .6, .8, 1],labels=bin_labels_tput)\n",
    "cluster_merge['bins_Tue_users'] = pd.qcut(cluster_merge['Tue_users'],q=[0, .2, .4, .6, .8, 1],labels=bin_labels_tput)\n",
    "cluster_merge['bins_Wed_users'] = pd.qcut(cluster_merge['Wed_users'],q=[0, .2, .4, .6, .8, 1],labels=bin_labels_tput)\n",
    "\n",
    "scaled=cluster_merge[['bins_Fri_tput','bins_Mon_tput','bins_Sat_tput','bins_Sun_tput','bins_Thu_tput','bins_Tue_tput',\n",
    "                     'bins_Wed_tput','bins_Fri_users','bins_Mon_users','bins_Sat_users','bins_Sun_users','bins_Thu_users','bins_Tue_users','bins_Wed_users']]\n"
   ]
  },
  {
   "cell_type": "code",
   "execution_count": 404,
   "metadata": {
    "collapsed": true
   },
   "outputs": [
    {
     "data": {
      "text/html": [
       "<div>\n",
       "<style scoped>\n",
       "    .dataframe tbody tr th:only-of-type {\n",
       "        vertical-align: middle;\n",
       "    }\n",
       "\n",
       "    .dataframe tbody tr th {\n",
       "        vertical-align: top;\n",
       "    }\n",
       "\n",
       "    .dataframe thead th {\n",
       "        text-align: right;\n",
       "    }\n",
       "</style>\n",
       "<table border=\"1\" class=\"dataframe\">\n",
       "  <thead>\n",
       "    <tr style=\"text-align: right;\">\n",
       "      <th></th>\n",
       "      <th>Fri_tput</th>\n",
       "      <th>Mon_tput</th>\n",
       "      <th>Sat_tput</th>\n",
       "      <th>Sun_tput</th>\n",
       "      <th>Thu_tput</th>\n",
       "      <th>Tue_tput</th>\n",
       "      <th>Wed_tput</th>\n",
       "      <th>Fri_users</th>\n",
       "      <th>Mon_users</th>\n",
       "      <th>Sat_users</th>\n",
       "      <th>Sun_users</th>\n",
       "      <th>Thu_users</th>\n",
       "      <th>Tue_users</th>\n",
       "      <th>Wed_users</th>\n",
       "      <th>low_to_high_ratio</th>\n",
       "    </tr>\n",
       "  </thead>\n",
       "  <tbody>\n",
       "    <tr>\n",
       "      <th>0</th>\n",
       "      <td>0.176888</td>\n",
       "      <td>0.200128</td>\n",
       "      <td>0.128998</td>\n",
       "      <td>0.208566</td>\n",
       "      <td>0.208131</td>\n",
       "      <td>0.269756</td>\n",
       "      <td>0.173667</td>\n",
       "      <td>0.509582</td>\n",
       "      <td>0.459014</td>\n",
       "      <td>0.529432</td>\n",
       "      <td>0.504979</td>\n",
       "      <td>0.507408</td>\n",
       "      <td>0.488909</td>\n",
       "      <td>0.503058</td>\n",
       "      <td>0.322321</td>\n",
       "    </tr>\n",
       "    <tr>\n",
       "      <th>1</th>\n",
       "      <td>0.390327</td>\n",
       "      <td>0.309237</td>\n",
       "      <td>0.270687</td>\n",
       "      <td>0.386346</td>\n",
       "      <td>0.316927</td>\n",
       "      <td>0.283201</td>\n",
       "      <td>0.362412</td>\n",
       "      <td>0.316929</td>\n",
       "      <td>0.280630</td>\n",
       "      <td>0.368600</td>\n",
       "      <td>0.329418</td>\n",
       "      <td>0.335582</td>\n",
       "      <td>0.317197</td>\n",
       "      <td>0.308221</td>\n",
       "      <td>0.552311</td>\n",
       "    </tr>\n",
       "    <tr>\n",
       "      <th>2</th>\n",
       "      <td>0.413212</td>\n",
       "      <td>0.382780</td>\n",
       "      <td>0.352978</td>\n",
       "      <td>0.458994</td>\n",
       "      <td>0.474252</td>\n",
       "      <td>0.408391</td>\n",
       "      <td>0.425710</td>\n",
       "      <td>0.085951</td>\n",
       "      <td>0.087765</td>\n",
       "      <td>0.075286</td>\n",
       "      <td>0.079373</td>\n",
       "      <td>0.091269</td>\n",
       "      <td>0.089853</td>\n",
       "      <td>0.086440</td>\n",
       "      <td>0.449408</td>\n",
       "    </tr>\n",
       "    <tr>\n",
       "      <th>3</th>\n",
       "      <td>0.033587</td>\n",
       "      <td>0.107525</td>\n",
       "      <td>0.056394</td>\n",
       "      <td>0.111363</td>\n",
       "      <td>0.074842</td>\n",
       "      <td>0.134152</td>\n",
       "      <td>0.112605</td>\n",
       "      <td>0.935376</td>\n",
       "      <td>0.869778</td>\n",
       "      <td>0.977705</td>\n",
       "      <td>1.000000</td>\n",
       "      <td>0.924920</td>\n",
       "      <td>0.888963</td>\n",
       "      <td>0.892442</td>\n",
       "      <td>0.093076</td>\n",
       "    </tr>\n",
       "    <tr>\n",
       "      <th>4</th>\n",
       "      <td>0.391575</td>\n",
       "      <td>0.387347</td>\n",
       "      <td>0.310184</td>\n",
       "      <td>0.530661</td>\n",
       "      <td>0.419948</td>\n",
       "      <td>0.503823</td>\n",
       "      <td>0.485952</td>\n",
       "      <td>0.372871</td>\n",
       "      <td>0.309489</td>\n",
       "      <td>0.385665</td>\n",
       "      <td>0.306927</td>\n",
       "      <td>0.327666</td>\n",
       "      <td>0.342030</td>\n",
       "      <td>0.334086</td>\n",
       "      <td>0.405941</td>\n",
       "    </tr>\n",
       "    <tr>\n",
       "      <th>...</th>\n",
       "      <td>...</td>\n",
       "      <td>...</td>\n",
       "      <td>...</td>\n",
       "      <td>...</td>\n",
       "      <td>...</td>\n",
       "      <td>...</td>\n",
       "      <td>...</td>\n",
       "      <td>...</td>\n",
       "      <td>...</td>\n",
       "      <td>...</td>\n",
       "      <td>...</td>\n",
       "      <td>...</td>\n",
       "      <td>...</td>\n",
       "      <td>...</td>\n",
       "      <td>...</td>\n",
       "    </tr>\n",
       "    <tr>\n",
       "      <th>329</th>\n",
       "      <td>0.464335</td>\n",
       "      <td>0.421564</td>\n",
       "      <td>0.384999</td>\n",
       "      <td>0.452888</td>\n",
       "      <td>0.480251</td>\n",
       "      <td>0.432084</td>\n",
       "      <td>0.522745</td>\n",
       "      <td>0.169001</td>\n",
       "      <td>0.106175</td>\n",
       "      <td>0.174113</td>\n",
       "      <td>0.135210</td>\n",
       "      <td>0.144517</td>\n",
       "      <td>0.128402</td>\n",
       "      <td>0.126262</td>\n",
       "      <td>0.466802</td>\n",
       "    </tr>\n",
       "    <tr>\n",
       "      <th>330</th>\n",
       "      <td>0.376979</td>\n",
       "      <td>0.446410</td>\n",
       "      <td>0.292787</td>\n",
       "      <td>0.673870</td>\n",
       "      <td>0.369521</td>\n",
       "      <td>0.425865</td>\n",
       "      <td>0.432909</td>\n",
       "      <td>0.398951</td>\n",
       "      <td>0.340655</td>\n",
       "      <td>0.430832</td>\n",
       "      <td>0.351443</td>\n",
       "      <td>0.389157</td>\n",
       "      <td>0.394849</td>\n",
       "      <td>0.397345</td>\n",
       "      <td>0.299128</td>\n",
       "    </tr>\n",
       "    <tr>\n",
       "      <th>331</th>\n",
       "      <td>0.132275</td>\n",
       "      <td>0.139629</td>\n",
       "      <td>0.121956</td>\n",
       "      <td>0.116449</td>\n",
       "      <td>0.117028</td>\n",
       "      <td>0.172869</td>\n",
       "      <td>0.155793</td>\n",
       "      <td>0.375569</td>\n",
       "      <td>0.328961</td>\n",
       "      <td>0.333137</td>\n",
       "      <td>0.337771</td>\n",
       "      <td>0.355870</td>\n",
       "      <td>0.341774</td>\n",
       "      <td>0.353574</td>\n",
       "      <td>0.349435</td>\n",
       "    </tr>\n",
       "    <tr>\n",
       "      <th>332</th>\n",
       "      <td>0.363506</td>\n",
       "      <td>0.335960</td>\n",
       "      <td>0.316555</td>\n",
       "      <td>0.403079</td>\n",
       "      <td>0.501860</td>\n",
       "      <td>0.497599</td>\n",
       "      <td>0.458022</td>\n",
       "      <td>0.340642</td>\n",
       "      <td>0.355156</td>\n",
       "      <td>0.348208</td>\n",
       "      <td>0.380486</td>\n",
       "      <td>0.295480</td>\n",
       "      <td>0.350834</td>\n",
       "      <td>0.330786</td>\n",
       "      <td>0.446525</td>\n",
       "    </tr>\n",
       "    <tr>\n",
       "      <th>333</th>\n",
       "      <td>0.179796</td>\n",
       "      <td>0.224138</td>\n",
       "      <td>0.206617</td>\n",
       "      <td>0.274595</td>\n",
       "      <td>0.207512</td>\n",
       "      <td>0.225192</td>\n",
       "      <td>0.238793</td>\n",
       "      <td>0.437501</td>\n",
       "      <td>0.355111</td>\n",
       "      <td>0.439346</td>\n",
       "      <td>0.429520</td>\n",
       "      <td>0.382454</td>\n",
       "      <td>0.357733</td>\n",
       "      <td>0.382400</td>\n",
       "      <td>0.278173</td>\n",
       "    </tr>\n",
       "  </tbody>\n",
       "</table>\n",
       "<p>334 rows × 15 columns</p>\n",
       "</div>"
      ],
      "text/plain": [
       "     Fri_tput  Mon_tput  Sat_tput  Sun_tput  Thu_tput  Tue_tput  Wed_tput  \\\n",
       "0    0.176888  0.200128  0.128998  0.208566  0.208131  0.269756  0.173667   \n",
       "1    0.390327  0.309237  0.270687  0.386346  0.316927  0.283201  0.362412   \n",
       "2    0.413212  0.382780  0.352978  0.458994  0.474252  0.408391  0.425710   \n",
       "3    0.033587  0.107525  0.056394  0.111363  0.074842  0.134152  0.112605   \n",
       "4    0.391575  0.387347  0.310184  0.530661  0.419948  0.503823  0.485952   \n",
       "..        ...       ...       ...       ...       ...       ...       ...   \n",
       "329  0.464335  0.421564  0.384999  0.452888  0.480251  0.432084  0.522745   \n",
       "330  0.376979  0.446410  0.292787  0.673870  0.369521  0.425865  0.432909   \n",
       "331  0.132275  0.139629  0.121956  0.116449  0.117028  0.172869  0.155793   \n",
       "332  0.363506  0.335960  0.316555  0.403079  0.501860  0.497599  0.458022   \n",
       "333  0.179796  0.224138  0.206617  0.274595  0.207512  0.225192  0.238793   \n",
       "\n",
       "     Fri_users  Mon_users  Sat_users  Sun_users  Thu_users  Tue_users  \\\n",
       "0     0.509582   0.459014   0.529432   0.504979   0.507408   0.488909   \n",
       "1     0.316929   0.280630   0.368600   0.329418   0.335582   0.317197   \n",
       "2     0.085951   0.087765   0.075286   0.079373   0.091269   0.089853   \n",
       "3     0.935376   0.869778   0.977705   1.000000   0.924920   0.888963   \n",
       "4     0.372871   0.309489   0.385665   0.306927   0.327666   0.342030   \n",
       "..         ...        ...        ...        ...        ...        ...   \n",
       "329   0.169001   0.106175   0.174113   0.135210   0.144517   0.128402   \n",
       "330   0.398951   0.340655   0.430832   0.351443   0.389157   0.394849   \n",
       "331   0.375569   0.328961   0.333137   0.337771   0.355870   0.341774   \n",
       "332   0.340642   0.355156   0.348208   0.380486   0.295480   0.350834   \n",
       "333   0.437501   0.355111   0.439346   0.429520   0.382454   0.357733   \n",
       "\n",
       "     Wed_users  low_to_high_ratio  \n",
       "0     0.503058           0.322321  \n",
       "1     0.308221           0.552311  \n",
       "2     0.086440           0.449408  \n",
       "3     0.892442           0.093076  \n",
       "4     0.334086           0.405941  \n",
       "..         ...                ...  \n",
       "329   0.126262           0.466802  \n",
       "330   0.397345           0.299128  \n",
       "331   0.353574           0.349435  \n",
       "332   0.330786           0.446525  \n",
       "333   0.382400           0.278173  \n",
       "\n",
       "[334 rows x 15 columns]"
      ]
     },
     "execution_count": 404,
     "metadata": {},
     "output_type": "execute_result"
    }
   ],
   "source": [
    "cluster_merge=cluster_merge.set_index('Cell')\n",
    "\n",
    "#StandardScaler\n",
    "#MinMaxScaler\n",
    "\n",
    "scaler = MinMaxScaler()\n",
    "# transform data\n",
    "scaled = scaler.fit_transform(cluster_merge)\n",
    "scaled=pd.DataFrame(scaled)\n",
    "scaled.columns=['Fri_tput','Mon_tput','Sat_tput','Sun_tput','Thu_tput','Tue_tput','Wed_tput',\n",
    "                'Fri_users','Mon_users','Sat_users','Sun_users','Thu_users','Tue_users','Wed_users','low_to_high_ratio']\n",
    "scaled"
   ]
  },
  {
   "cell_type": "code",
   "execution_count": 814,
   "metadata": {},
   "outputs": [
    {
     "name": "stderr",
     "output_type": "stream",
     "text": [
      "C:\\Users\\Ahmad\\AppData\\Roaming\\Python\\Python36\\site-packages\\sklearn\\cluster\\_kmeans.py:882: UserWarning: KMeans is known to have a memory leak on Windows with MKL, when there are less chunks than available threads. You can avoid it by setting the environment variable OMP_NUM_THREADS=2.\n",
      "  f\"KMeans is known to have a memory leak on Windows \"\n"
     ]
    }
   ],
   "source": [
    "distortions = []\n",
    "K = range(1,10)\n",
    "for k in K:\n",
    "    kmeanModel = KMeans(n_clusters=k)\n",
    "    kmeanModel.fit(scaled)\n",
    "    distortions.append(kmeanModel.inertia_)"
   ]
  },
  {
   "cell_type": "code",
   "execution_count": 815,
   "metadata": {},
   "outputs": [
    {
     "data": {
      "image/png": "[encoded data removed]",
      "text/plain": [
       "<Figure size 1152x576 with 1 Axes>"
      ]
     },
     "metadata": {},
     "output_type": "display_data"
    }
   ],
   "source": [
    "plt.figure(figsize=(16,8))\n",
    "plt.plot(K, distortions, 'bx-')\n",
    "plt.xlabel('k')\n",
    "plt.ylabel('Distortion')\n",
    "plt.title('The Elbow Method showing the optimal k')\n",
    "plt.show()"
   ]
  },
  {
   "cell_type": "code",
   "execution_count": 418,
   "metadata": {},
   "outputs": [],
   "source": [
    "\n",
    "model = KMeans(n_clusters=2, random_state=42) \n",
    "kmeans = model.fit(scaled)"
   ]
  },
  {
   "cell_type": "code",
   "execution_count": 419,
   "metadata": {},
   "outputs": [
    {
     "data": {
      "text/html": [
       "<div>\n",
       "<style scoped>\n",
       "    .dataframe tbody tr th:only-of-type {\n",
       "        vertical-align: middle;\n",
       "    }\n",
       "\n",
       "    .dataframe tbody tr th {\n",
       "        vertical-align: top;\n",
       "    }\n",
       "\n",
       "    .dataframe thead th {\n",
       "        text-align: right;\n",
       "    }\n",
       "</style>\n",
       "<table border=\"1\" class=\"dataframe\">\n",
       "  <thead>\n",
       "    <tr style=\"text-align: right;\">\n",
       "      <th></th>\n",
       "      <th>Fri_tput</th>\n",
       "      <th>Mon_tput</th>\n",
       "      <th>Sat_tput</th>\n",
       "      <th>Sun_tput</th>\n",
       "      <th>Thu_tput</th>\n",
       "      <th>Tue_tput</th>\n",
       "      <th>Wed_tput</th>\n",
       "      <th>low_to_high_ratio</th>\n",
       "    </tr>\n",
       "    <tr>\n",
       "      <th>cluster</th>\n",
       "      <th></th>\n",
       "      <th></th>\n",
       "      <th></th>\n",
       "      <th></th>\n",
       "      <th></th>\n",
       "      <th></th>\n",
       "      <th></th>\n",
       "      <th></th>\n",
       "    </tr>\n",
       "  </thead>\n",
       "  <tbody>\n",
       "    <tr>\n",
       "      <th>0</th>\n",
       "      <td>1.118801</td>\n",
       "      <td>1.555189</td>\n",
       "      <td>1.153682</td>\n",
       "      <td>1.495646</td>\n",
       "      <td>1.209607</td>\n",
       "      <td>1.435505</td>\n",
       "      <td>1.360685</td>\n",
       "      <td>0.719878</td>\n",
       "    </tr>\n",
       "    <tr>\n",
       "      <th>1</th>\n",
       "      <td>1.963917</td>\n",
       "      <td>2.250050</td>\n",
       "      <td>1.987221</td>\n",
       "      <td>2.186058</td>\n",
       "      <td>2.014851</td>\n",
       "      <td>2.184193</td>\n",
       "      <td>2.139060</td>\n",
       "      <td>0.877308</td>\n",
       "    </tr>\n",
       "  </tbody>\n",
       "</table>\n",
       "</div>"
      ],
      "text/plain": [
       "         Fri_tput  Mon_tput  Sat_tput  Sun_tput  Thu_tput  Tue_tput  Wed_tput  \\\n",
       "cluster                                                                         \n",
       "0        1.118801  1.555189  1.153682  1.495646  1.209607  1.435505  1.360685   \n",
       "1        1.963917  2.250050  1.987221  2.186058  2.014851  2.184193  2.139060   \n",
       "\n",
       "         low_to_high_ratio  \n",
       "cluster                     \n",
       "0                 0.719878  \n",
       "1                 0.877308  "
      ]
     },
     "execution_count": 419,
     "metadata": {},
     "output_type": "execute_result"
    }
   ],
   "source": [
    "cluster_merge['cluster']=kmeans.labels_\n",
    "\n",
    "\n",
    "\n",
    "cluster_merge_stats=cluster_merge.groupby(['cluster'])['Fri_tput','Mon_tput','Sat_tput','Sun_tput','Thu_tput','Tue_tput','Wed_tput',\n",
    "                                                      'Fri_users','Mon_users','Sat_users','Sun_users','Thu_users','Tue_users','Wed_users','low_to_high_ratio'].mean()\n",
    "\n",
    "cluster_merge_stats[['Fri_tput','Mon_tput','Sat_tput','Sun_tput','Thu_tput','Tue_tput','Wed_tput','low_to_high_ratio']]\n",
    "#.plot()"
   ]
  },
  {
   "cell_type": "code",
   "execution_count": 131,
   "metadata": {},
   "outputs": [
    {
     "data": {
      "image/png": "[encoded data removed]",
      "text/plain": [
       "<Figure size 432x288 with 1 Axes>"
      ]
     },
     "metadata": {},
     "output_type": "display_data"
    }
   ],
   "source": [
    "plotdays.plot()\n",
    "plt.title('User Download Throughput Across Days',fontsize=20);\n",
    "plt.ylabel('User Download Throughput Mbps', fontsize=10);\n",
    "plt.xlabel('Day of Week', fontsize=10);\n",
    "plt.xticks(np.arange(7), ('Mon', 'Tues', 'Wed', 'Thurs', 'Fri', 'Sat', 'Sun'), fontsize=10);\n",
    "plt.yticks(fontsize=10);"
   ]
  },
  {
   "cell_type": "code",
   "execution_count": 3,
   "metadata": {
    "collapsed": true
   },
   "outputs": [
    {
     "data": {
      "text/html": [
       "<div>\n",
       "<style scoped>\n",
       "    .dataframe tbody tr th:only-of-type {\n",
       "        vertical-align: middle;\n",
       "    }\n",
       "\n",
       "    .dataframe tbody tr th {\n",
       "        vertical-align: top;\n",
       "    }\n",
       "\n",
       "    .dataframe thead th {\n",
       "        text-align: right;\n",
       "    }\n",
       "</style>\n",
       "<table border=\"1\" class=\"dataframe\">\n",
       "  <thead>\n",
       "    <tr style=\"text-align: right;\">\n",
       "      <th></th>\n",
       "      <th>Cell</th>\n",
       "      <th>L.Traffic.User.Avg (None)</th>\n",
       "    </tr>\n",
       "  </thead>\n",
       "  <tbody>\n",
       "    <tr>\n",
       "      <th>72</th>\n",
       "      <td>Local cell identity=0, Cell Name=eNB_3410-0</td>\n",
       "      <td>117.693921</td>\n",
       "    </tr>\n",
       "    <tr>\n",
       "      <th>261</th>\n",
       "      <td>Local cell identity=2, Cell Name=eNB_3167-2</td>\n",
       "      <td>116.084293</td>\n",
       "    </tr>\n",
       "    <tr>\n",
       "      <th>307</th>\n",
       "      <td>Local cell identity=2, Cell Name=eNB_3525-2</td>\n",
       "      <td>115.423359</td>\n",
       "    </tr>\n",
       "    <tr>\n",
       "      <th>3</th>\n",
       "      <td>Local cell identity=0, Cell Name=eNB_2151-0</td>\n",
       "      <td>112.719250</td>\n",
       "    </tr>\n",
       "    <tr>\n",
       "      <th>294</th>\n",
       "      <td>Local cell identity=2, Cell Name=eNB_3401-2</td>\n",
       "      <td>109.757517</td>\n",
       "    </tr>\n",
       "    <tr>\n",
       "      <th>...</th>\n",
       "      <td>...</td>\n",
       "      <td>...</td>\n",
       "    </tr>\n",
       "    <tr>\n",
       "      <th>304</th>\n",
       "      <td>Local cell identity=2, Cell Name=eNB_3518-2</td>\n",
       "      <td>16.712978</td>\n",
       "    </tr>\n",
       "    <tr>\n",
       "      <th>238</th>\n",
       "      <td>Local cell identity=2, Cell Name=eNB_2282_2</td>\n",
       "      <td>15.892523</td>\n",
       "    </tr>\n",
       "    <tr>\n",
       "      <th>112</th>\n",
       "      <td>Local cell identity=1, Cell Name=eNB_2172-1</td>\n",
       "      <td>15.233362</td>\n",
       "    </tr>\n",
       "    <tr>\n",
       "      <th>49</th>\n",
       "      <td>Local cell identity=0, Cell Name=eNB_3186-0</td>\n",
       "      <td>13.597281</td>\n",
       "    </tr>\n",
       "    <tr>\n",
       "      <th>24</th>\n",
       "      <td>Local cell identity=0, Cell Name=eNB_2790_0</td>\n",
       "      <td>13.218082</td>\n",
       "    </tr>\n",
       "  </tbody>\n",
       "</table>\n",
       "<p>334 rows × 2 columns</p>\n",
       "</div>"
      ],
      "text/plain": [
       "                                            Cell  L.Traffic.User.Avg (None)\n",
       "72   Local cell identity=0, Cell Name=eNB_3410-0                 117.693921\n",
       "261  Local cell identity=2, Cell Name=eNB_3167-2                 116.084293\n",
       "307  Local cell identity=2, Cell Name=eNB_3525-2                 115.423359\n",
       "3    Local cell identity=0, Cell Name=eNB_2151-0                 112.719250\n",
       "294  Local cell identity=2, Cell Name=eNB_3401-2                 109.757517\n",
       "..                                           ...                        ...\n",
       "304  Local cell identity=2, Cell Name=eNB_3518-2                  16.712978\n",
       "238  Local cell identity=2, Cell Name=eNB_2282_2                  15.892523\n",
       "112  Local cell identity=1, Cell Name=eNB_2172-1                  15.233362\n",
       "49   Local cell identity=0, Cell Name=eNB_3186-0                  13.597281\n",
       "24   Local cell identity=0, Cell Name=eNB_2790_0                  13.218082\n",
       "\n",
       "[334 rows x 2 columns]"
      ]
     },
     "execution_count": 3,
     "metadata": {},
     "output_type": "execute_result"
    }
   ],
   "source": [
    "mean_users=df[['Cell','L.Traffic.User.Avg (None)']].groupby('Cell').mean().reset_index()\n",
    "mean_users.sort_values('L.Traffic.User.Avg (None)', ascending=False)"
   ]
  },
  {
   "cell_type": "code",
   "execution_count": 51,
   "metadata": {
    "collapsed": true
   },
   "outputs": [
    {
     "data": {
      "text/plain": [
       "DatetimeIndex(['2013-08-28 00:00:00', '2013-08-28 00:15:00',\n",
       "               '2013-08-28 00:30:00', '2013-08-28 00:45:00',\n",
       "               '2013-08-28 01:00:00', '2013-08-28 01:15:00',\n",
       "               '2013-08-28 01:30:00', '2013-08-28 01:45:00',\n",
       "               '2013-08-28 02:00:00', '2013-08-28 02:15:00',\n",
       "               ...\n",
       "               '2013-09-04 21:30:00', '2013-09-04 21:45:00',\n",
       "               '2013-09-04 22:00:00', '2013-09-04 22:15:00',\n",
       "               '2013-09-04 22:30:00', '2013-09-04 22:45:00',\n",
       "               '2013-09-04 23:00:00', '2013-09-04 23:15:00',\n",
       "               '2013-09-04 23:30:00', '2013-09-04 23:45:00'],\n",
       "              dtype='datetime64[ns]', name='Start Time', length=768, freq='15T')"
      ]
     },
     "execution_count": 51,
     "metadata": {},
     "output_type": "execute_result"
    }
   ],
   "source": [
    "df_filter=df[df['Cell']=='Local cell identity=2, Cell Name=eNB_3525-2']\n",
    "\n",
    "df_filter=df_filter.drop('Cell',axis=1)\n",
    "\n",
    "df_filter.index.freq='15T'\n",
    "df_filter.index"
   ]
  },
  {
   "cell_type": "code",
   "execution_count": 53,
   "metadata": {},
   "outputs": [
    {
     "data": {
      "text/plain": [
       "[]"
      ]
     },
     "execution_count": 53,
     "metadata": {},
     "output_type": "execute_result"
    }
   ],
   "source": [
    "#list(df_filter.dtypes)\n",
    "\n",
    "obj_cols = []\n",
    "for col in df_filter.columns:\n",
    "    if df_filter[col].dtypes == 'object':\n",
    "        obj_cols.append(col)\n",
    "        \n",
    "obj_cols"
   ]
  },
  {
   "cell_type": "code",
   "execution_count": 22,
   "metadata": {
    "collapsed": true
   },
   "outputs": [
    {
     "data": {
      "text/plain": [
       "[dtype('int64'),\n",
       " dtype('int64'),\n",
       " dtype('int64'),\n",
       " dtype('int64'),\n",
       " dtype('int64'),\n",
       " dtype('int64'),\n",
       " dtype('int64'),\n",
       " dtype('int64'),\n",
       " dtype('int64'),\n",
       " dtype('int64'),\n",
       " dtype('int64'),\n",
       " dtype('int64'),\n",
       " dtype('float64'),\n",
       " dtype('int64'),\n",
       " dtype('int64'),\n",
       " dtype('int64'),\n",
       " dtype('int64'),\n",
       " dtype('int64'),\n",
       " dtype('int64'),\n",
       " dtype('float64'),\n",
       " dtype('float64'),\n",
       " dtype('int64'),\n",
       " dtype('int64'),\n",
       " dtype('float64'),\n",
       " dtype('int64'),\n",
       " dtype('int64'),\n",
       " dtype('int64'),\n",
       " dtype('int64'),\n",
       " dtype('int64'),\n",
       " dtype('int64'),\n",
       " dtype('int64'),\n",
       " dtype('int64'),\n",
       " dtype('int64'),\n",
       " dtype('int64'),\n",
       " dtype('int64'),\n",
       " dtype('int64'),\n",
       " dtype('int64'),\n",
       " dtype('int64'),\n",
       " dtype('int64'),\n",
       " dtype('int64'),\n",
       " dtype('int64'),\n",
       " dtype('int64'),\n",
       " dtype('int64'),\n",
       " dtype('int64'),\n",
       " dtype('int64'),\n",
       " dtype('int64'),\n",
       " dtype('float64'),\n",
       " dtype('float64'),\n",
       " dtype('int64'),\n",
       " dtype('int64'),\n",
       " dtype('int64'),\n",
       " dtype('int64'),\n",
       " dtype('int64'),\n",
       " dtype('int64'),\n",
       " dtype('int64'),\n",
       " dtype('int64'),\n",
       " dtype('int64'),\n",
       " dtype('int64'),\n",
       " dtype('int64'),\n",
       " dtype('int64'),\n",
       " dtype('int64'),\n",
       " dtype('int64'),\n",
       " dtype('int64'),\n",
       " dtype('int64'),\n",
       " dtype('int64'),\n",
       " dtype('int64'),\n",
       " dtype('int64'),\n",
       " dtype('int64'),\n",
       " dtype('int64'),\n",
       " dtype('int64'),\n",
       " dtype('int64'),\n",
       " dtype('int64'),\n",
       " dtype('int64'),\n",
       " dtype('int64'),\n",
       " dtype('int64'),\n",
       " dtype('int64'),\n",
       " dtype('int64'),\n",
       " dtype('int64'),\n",
       " dtype('int64'),\n",
       " dtype('int64'),\n",
       " dtype('float64'),\n",
       " dtype('float64')]"
      ]
     },
     "execution_count": 22,
     "metadata": {},
     "output_type": "execute_result"
    }
   ],
   "source": [
    "list(df_filter.dtypes)"
   ]
  },
  {
   "cell_type": "code",
   "execution_count": 52,
   "metadata": {},
   "outputs": [],
   "source": [
    "df_filter['DL RBLER (%)']=df_filter['DL RBLER (%)'].astype(float)\n",
    "#df_filter['DL RBLER (%)'].unique()"
   ]
  },
  {
   "cell_type": "code",
   "execution_count": 54,
   "metadata": {},
   "outputs": [],
   "source": [
    "\n",
    "df_filter['DL user tput']=df_filter['L.Thrp.bits.DL.QCI.9 (bit)']/(df_filter['L.Thrp.Time.DL.QCI.9 (ms)']*1000)\n",
    "\n",
    "df_filter['DL cell tput']=df_filter['L.Thrp.bits.DL (bit)']/(df_filter['L.Thrp.Time.Cell.DL (s)']*1000000)"
   ]
  },
  {
   "cell_type": "code",
   "execution_count": 9,
   "metadata": {},
   "outputs": [
    {
     "data": {
      "text/plain": [
       "<matplotlib.axes._subplots.AxesSubplot at 0x345042b0>"
      ]
     },
     "execution_count": 9,
     "metadata": {},
     "output_type": "execute_result"
    },
    {
     "data": {
      "image/png": "[encoded data removed]",
      "text/plain": [
       "<Figure size 432x288 with 1 Axes>"
      ]
     },
     "metadata": {},
     "output_type": "display_data"
    }
   ],
   "source": [
    "df_filter['L.Traffic.User.Avg (None)'].plot()\n",
    "\n",
    "#df_filter['DL user tput'].plot()\n",
    "\n",
    "#sns.distplot(np.log(df_filter['DL user tput']))\n",
    "#np.log(df_filter['DL user tput']).plot()"
   ]
  },
  {
   "cell_type": "code",
   "execution_count": 65,
   "metadata": {},
   "outputs": [
    {
     "data": {
      "text/plain": [
       "-0.6447987977514091"
      ]
     },
     "execution_count": 65,
     "metadata": {},
     "output_type": "execute_result"
    }
   ],
   "source": [
    "np.corrcoef(df_filter['DL user tput'],df_filter['L.Traffic.DL.PktUuLoss.Tot.QCI.9 (packet)'])[1][0]\n",
    "\n",
    "#sns.regplot(df_filter['DL user tput'],df_filter['L.Traffic.UL.PktLoss.Tot.QCI.9 (packet)'])"
   ]
  },
  {
   "cell_type": "code",
   "execution_count": 10,
   "metadata": {
    "scrolled": true
   },
   "outputs": [
    {
     "data": {
      "text/plain": [
       "-0.728303221924005"
      ]
     },
     "execution_count": 10,
     "metadata": {},
     "output_type": "execute_result"
    },
    {
     "data": {
      "image/png": "[encoded data removed]",
      "text/plain": [
       "<Figure size 432x288 with 1 Axes>"
      ]
     },
     "metadata": {},
     "output_type": "display_data"
    }
   ],
   "source": [
    "df_filter['DL user tput'].plot()\n",
    "\n",
    "np.corrcoef(df_filter['DL user tput'],df_filter['L.Traffic.User.Avg (None)'])[1][0]"
   ]
  },
  {
   "cell_type": "code",
   "execution_count": 28,
   "metadata": {},
   "outputs": [
    {
     "data": {
      "text/plain": [
       "<matplotlib.axes._subplots.AxesSubplot at 0x5ad04ef0>"
      ]
     },
     "execution_count": 28,
     "metadata": {},
     "output_type": "execute_result"
    },
    {
     "data": {
      "image/png": "[encoded data removed]",
      "text/plain": [
       "<Figure size 432x288 with 1 Axes>"
      ]
     },
     "metadata": {},
     "output_type": "display_data"
    }
   ],
   "source": [
    "sns.regplot(df_filter['DL user tput'],df_filter['L.Traffic.User.Avg (None)'])"
   ]
  },
  {
   "cell_type": "code",
   "execution_count": 45,
   "metadata": {},
   "outputs": [],
   "source": [
    "#sns.pairplot(df_filter)\n",
    "\n",
    "\n",
    "corrMatrix = df_filter.corr()\n",
    "#plt.matshow(corrMatrix)\n",
    "#print (corrMatrix)"
   ]
  },
  {
   "cell_type": "code",
   "execution_count": 46,
   "metadata": {
    "collapsed": true
   },
   "outputs": [
    {
     "data": {
      "text/plain": [
       "['L.Traffic.UL.SCH.QPSK.ErrTB.Ibler (None)',\n",
       " 'L.Traffic.UL.SCH.QPSK.ErrTB.Rbler (None)',\n",
       " 'L.Traffic.UL.SCH.QPSK.TB (None)',\n",
       " 'L.Traffic.UL.SCH.QPSK.TB.bits (bit)',\n",
       " 'L.Traffic.UL.SCH.QPSK.TB.Retrans (None)',\n",
       " 'L.Traffic.UL.SCH.QPSK.TB.Retrans.bits (bit)',\n",
       " 'L.Traffic.DL.PktDelay.Num.QCI.9 (packet)',\n",
       " 'L.Traffic.DL.PktDelay.Time.QCI.9 (ms)',\n",
       " 'L.Traffic.DL.PktUuLoss.Loss.QCI.9 (packet)',\n",
       " 'L.Traffic.DL.PktUuLoss.Tot.QCI.9 (packet)',\n",
       " 'L.Traffic.UL.PktLoss.Loss.QCI.9 (packet)',\n",
       " 'DL RBLER (%)',\n",
       " 'L.Thrp.bits.DL (bit)',\n",
       " 'L.Thrp.bits.DL.Max (bit)',\n",
       " 'L.Thrp.bits.DL.QCI.9 (bit)',\n",
       " 'L.Thrp.bits.DL.QCI.9.Max (bit)',\n",
       " 'L.Thrp.bits.DL.SRB (bit)',\n",
       " 'L.Thrp.bits.UL (bit)',\n",
       " 'L.Thrp.bits.UL.Max (bit)',\n",
       " 'L.Thrp.bits.UL.QCI.9 (bit)',\n",
       " 'L.Thrp.bits.UL.SRB (bit)',\n",
       " 'L.Thrp.bits.UL.QCI.9.Max (bit)',\n",
       " 'L.Thrp.Time.Cell.DL (s)',\n",
       " 'L.Thrp.Time.Cell.UL (s)',\n",
       " 'L.Thrp.Time.UL (ms)',\n",
       " 'L.Thrp.Time.UL.QCI.9 (ms)',\n",
       " 'L.UECNTX.AbnormRel (times)',\n",
       " 'L.UECNTX.NormRel (times)',\n",
       " 'L.Traffic.BCH.TB.bits (bit)',\n",
       " 'L.Traffic.DL.SCH.16QAM.ErrTB.Ibler (None)',\n",
       " 'L.Traffic.DL.SCH.16QAM.ErrTB.Rbler (None)',\n",
       " 'L.Traffic.DL.SCH.16QAM.TB (None)',\n",
       " 'L.Traffic.DL.SCH.16QAM.TB.bits (bit)',\n",
       " 'L.Traffic.DL.SCH.16QAM.TB.Retrans (None)',\n",
       " 'L.Traffic.DL.SCH.16QAM.TB.Retrans.bits (bit)',\n",
       " 'L.Traffic.DL.SCH.64QAM.ErrTB.Ibler (None)',\n",
       " 'L.Traffic.DL.SCH.64QAM.ErrTB.Rbler (None)',\n",
       " 'L.Traffic.DL.SCH.64QAM.TB (None)',\n",
       " 'L.Traffic.DL.SCH.64QAM.TB.bits (bit)',\n",
       " 'L.Traffic.DL.SCH.64QAM.TB.Retrans (None)',\n",
       " 'L.Traffic.DL.SCH.64QAM.TB.Retrans.bits (bit)',\n",
       " 'L.Traffic.DL.SCH.QPSK.ErrTB.Ibler (None)',\n",
       " 'L.Traffic.DL.SCH.QPSK.ErrTB.Rbler (None)',\n",
       " 'L.Traffic.DL.SCH.QPSK.TB (None)',\n",
       " 'L.Traffic.DL.SCH.QPSK.TB.bits (bit)',\n",
       " 'L.Traffic.DL.SCH.QPSK.TB.Retrans (None)',\n",
       " 'L.Traffic.DL.SCH.QPSK.TB.Retrans.bits (bit)',\n",
       " 'L.Traffic.PCH.TB.bits (bit)',\n",
       " 'L.Traffic.UL.SCH.16QAM.ErrTB.Ibler (None)',\n",
       " 'L.Traffic.UL.SCH.16QAM.ErrTB.Rbler (None)',\n",
       " 'L.Traffic.UL.SCH.16QAM.TB (None)',\n",
       " 'L.Traffic.UL.SCH.16QAM.TB.bits (bit)',\n",
       " 'L.Traffic.UL.SCH.16QAM.TB.Retrans (None)',\n",
       " 'L.Traffic.UL.SCH.16QAM.TB.Retrans.bits (bit)',\n",
       " 'DL cell tput']"
      ]
     },
     "execution_count": 46,
     "metadata": {},
     "output_type": "execute_result"
    }
   ],
   "source": [
    "drop_columns=list(corrMatrix['DL user tput'][abs(corrMatrix['DL user tput'])<0.65].index)\n",
    "drop_columns"
   ]
  },
  {
   "cell_type": "code",
   "execution_count": 47,
   "metadata": {},
   "outputs": [],
   "source": [
    "df_filter=df_filter.drop(drop_columns,axis=1)"
   ]
  },
  {
   "cell_type": "code",
   "execution_count": null,
   "metadata": {},
   "outputs": [],
   "source": [
    "df['L.Traffic.DL.PktUuLoss.Loss.QCI.9 (packet)']"
   ]
  },
  {
   "cell_type": "code",
   "execution_count": 48,
   "metadata": {},
   "outputs": [
    {
     "data": {
      "text/plain": [
       "Index(['L.Traffic.UL.PktLoss.Tot.QCI.9 (packet)',\n",
       "       'L.PDCP.DL.RoHC.HdrCompRatio (%)', 'L.PDCP.DL.RoHC.PktCompRatio (%)',\n",
       "       'L.PDCP.Tx.Disc.Trf.SDU.QCI.9 (packet)',\n",
       "       'L.PDCP.Tx.TotRev.Trf.SDU.QCI.9 (packet)',\n",
       "       'L.PDCP.UL.RoHC.FailDecompRatio (%)', 'L.Traffic.CEU.Avg (None)',\n",
       "       'L.Traffic.User.ULData.Avg (None)', 'L.Traffic.User.DLData.Avg (None)',\n",
       "       'L.Traffic.User.Max (None)', 'L.Traffic.User.DLData.Max (None)',\n",
       "       'L.Traffic.User.Avg (None)', 'L.Traffic.CEU.Max (None)',\n",
       "       'L.Traffic.User.ULData.Max (None)', 'L.E-RAB.SessionTime.QCI9 (s)',\n",
       "       'L.E-RAB.SessionTime.UE (s)', 'L.Thrp.Time.DL (ms)',\n",
       "       'L.Thrp.Time.DL.QCI.9 (ms)', 'L.Traffic.DRB (None)',\n",
       "       'L.Traffic.DRB.QCI.9 (None)',\n",
       "       'L.Traffic.UL.SCH.64QAM.ErrTB.Ibler (None)',\n",
       "       'L.Traffic.UL.SCH.64QAM.ErrTB.Rbler (None)',\n",
       "       'L.Traffic.UL.SCH.64QAM.TB (None)',\n",
       "       'L.Traffic.UL.SCH.64QAM.TB.bits (bit)',\n",
       "       'L.Traffic.UL.SCH.64QAM.TB.Retrans (None)',\n",
       "       'L.Traffic.UL.SCH.64QAM.TB.Retrans.bits (bit)', 'DL user tput'],\n",
       "      dtype='object')"
      ]
     },
     "execution_count": 48,
     "metadata": {},
     "output_type": "execute_result"
    }
   ],
   "source": [
    "df_filter.columns"
   ]
  },
  {
   "cell_type": "code",
   "execution_count": 50,
   "metadata": {},
   "outputs": [],
   "source": [
    "alpha=0.3\n",
    "ses=SimpleExpSmoothing(df_filter['DL user tput'],initialization_method='legacy-heuristic')"
   ]
  },
  {
   "cell_type": "code",
   "execution_count": 52,
   "metadata": {},
   "outputs": [],
   "source": [
    "res=ses.fit(smoothing_level=alpha,optimized=False)"
   ]
  },
  {
   "cell_type": "code",
   "execution_count": 53,
   "metadata": {},
   "outputs": [
    {
     "name": "stderr",
     "output_type": "stream",
     "text": [
      "C:\\Users\\Ahmad\\Anaconda3\\lib\\site-packages\\ipykernel_launcher.py:1: SettingWithCopyWarning: \n",
      "A value is trying to be set on a copy of a slice from a DataFrame.\n",
      "Try using .loc[row_indexer,col_indexer] = value instead\n",
      "\n",
      "See the caveats in the documentation: http://pandas.pydata.org/pandas-docs/stable/user_guide/indexing.html#returning-a-view-versus-a-copy\n",
      "  \"\"\"Entry point for launching an IPython kernel.\n"
     ]
    }
   ],
   "source": [
    "df_filter['SES']=res.predict(start=df_filter.index[0],end=df_filter.index[-1])"
   ]
  },
  {
   "cell_type": "code",
   "execution_count": 54,
   "metadata": {},
   "outputs": [
    {
     "data": {
      "text/plain": [
       "Start Time\n",
       "2013-08-28 00:00:00    0.494179\n",
       "2013-08-28 00:15:00    0.494179\n",
       "2013-08-28 00:30:00    0.502145\n",
       "2013-08-28 00:45:00    0.503570\n",
       "2013-08-28 01:00:00    0.520284\n",
       "                         ...   \n",
       "2013-09-04 22:45:00    0.953573\n",
       "2013-09-04 23:00:00    0.828630\n",
       "2013-09-04 23:15:00    0.752689\n",
       "2013-09-04 23:30:00    0.699972\n",
       "2013-09-04 23:45:00    0.608949\n",
       "Freq: 15T, Name: SES, Length: 768, dtype: float64"
      ]
     },
     "execution_count": 54,
     "metadata": {},
     "output_type": "execute_result"
    }
   ],
   "source": [
    "df_filter['SES']"
   ]
  },
  {
   "cell_type": "code",
   "execution_count": 56,
   "metadata": {},
   "outputs": [
    {
     "data": {
      "text/plain": [
       "<matplotlib.axes._subplots.AxesSubplot at 0x1a301f60>"
      ]
     },
     "execution_count": 56,
     "metadata": {},
     "output_type": "execute_result"
    },
    {
     "data": {
      "image/png": "[encoded data removed]",
      "text/plain": [
       "<Figure size 432x288 with 1 Axes>"
      ]
     },
     "metadata": {},
     "output_type": "display_data"
    }
   ],
   "source": [
    "df_filter[['DL user tput','SES']].plot()"
   ]
  },
  {
   "cell_type": "code",
   "execution_count": 201,
   "metadata": {},
   "outputs": [],
   "source": [
    "Ntest=96\n",
    "train=df_filter.iloc[:-Ntest]\n",
    "test=df_filter.iloc[-Ntest:]"
   ]
  },
  {
   "cell_type": "code",
   "execution_count": 60,
   "metadata": {},
   "outputs": [],
   "source": [
    "ses=SimpleExpSmoothing(train['DL user tput'],initialization_method='legacy-heuristic')\n",
    "res=ses.fit()"
   ]
  },
  {
   "cell_type": "code",
   "execution_count": 202,
   "metadata": {},
   "outputs": [],
   "source": [
    "train_idx=df_filter.index <= train.index[-1]\n",
    "test_idx=df_filter.index > train.index[-1]"
   ]
  },
  {
   "cell_type": "code",
   "execution_count": 63,
   "metadata": {},
   "outputs": [
    {
     "name": "stderr",
     "output_type": "stream",
     "text": [
      "C:\\Users\\Ahmad\\Anaconda3\\lib\\site-packages\\pandas\\core\\indexing.py:376: SettingWithCopyWarning: \n",
      "A value is trying to be set on a copy of a slice from a DataFrame.\n",
      "Try using .loc[row_indexer,col_indexer] = value instead\n",
      "\n",
      "See the caveats in the documentation: http://pandas.pydata.org/pandas-docs/stable/user_guide/indexing.html#returning-a-view-versus-a-copy\n",
      "  self.obj[key] = _infer_fill_value(value)\n",
      "C:\\Users\\Ahmad\\Anaconda3\\lib\\site-packages\\pandas\\core\\indexing.py:494: SettingWithCopyWarning: \n",
      "A value is trying to be set on a copy of a slice from a DataFrame.\n",
      "Try using .loc[row_indexer,col_indexer] = value instead\n",
      "\n",
      "See the caveats in the documentation: http://pandas.pydata.org/pandas-docs/stable/user_guide/indexing.html#returning-a-view-versus-a-copy\n",
      "  self.obj[item] = s\n"
     ]
    },
    {
     "data": {
      "text/plain": [
       "<matplotlib.axes._subplots.AxesSubplot at 0x5710c438>"
      ]
     },
     "execution_count": 63,
     "metadata": {},
     "output_type": "execute_result"
    },
    {
     "data": {
      "image/png": "[encoded data removed]",
      "text/plain": [
       "<Figure size 432x288 with 1 Axes>"
      ]
     },
     "metadata": {},
     "output_type": "display_data"
    }
   ],
   "source": [
    "df_filter.loc[train_idx,'SESfitted']=res.fittedvalues\n",
    "df_filter.loc[test_idx,'SESfitted']=res.forecast(Ntest)\n",
    "df_filter[['DL user tput','SESfitted']].plot()"
   ]
  },
  {
   "cell_type": "code",
   "execution_count": 68,
   "metadata": {},
   "outputs": [],
   "source": [
    "holt=Holt(train['DL user tput'],initialization_method='legacy-heuristic')\n",
    "res_h=holt.fit()"
   ]
  },
  {
   "cell_type": "code",
   "execution_count": 87,
   "metadata": {
    "collapsed": true
   },
   "outputs": [
    {
     "name": "stderr",
     "output_type": "stream",
     "text": [
      "C:\\Users\\Ahmad\\Anaconda3\\lib\\site-packages\\pandas\\core\\indexing.py:494: SettingWithCopyWarning: \n",
      "A value is trying to be set on a copy of a slice from a DataFrame.\n",
      "Try using .loc[row_indexer,col_indexer] = value instead\n",
      "\n",
      "See the caveats in the documentation: http://pandas.pydata.org/pandas-docs/stable/user_guide/indexing.html#returning-a-view-versus-a-copy\n",
      "  self.obj[item] = s\n"
     ]
    }
   ],
   "source": [
    "df_filter.loc[train_idx,'Holt']=res_h.fittedvalues\n",
    "df_filter.loc[test_idx,'Holt']=res_h.forecast(Ntest)"
   ]
  },
  {
   "cell_type": "code",
   "execution_count": 88,
   "metadata": {},
   "outputs": [
    {
     "data": {
      "text/plain": [
       "<matplotlib.axes._subplots.AxesSubplot at 0x52aa7e48>"
      ]
     },
     "execution_count": 88,
     "metadata": {},
     "output_type": "execute_result"
    },
    {
     "data": {
      "image/png": "[encoded data removed]",
      "text/plain": [
       "<Figure size 432x288 with 1 Axes>"
      ]
     },
     "metadata": {},
     "output_type": "display_data"
    }
   ],
   "source": [
    "df_filter[['DL user tput','SESfitted','Holt']].plot()"
   ]
  },
  {
   "cell_type": "code",
   "execution_count": 225,
   "metadata": {},
   "outputs": [],
   "source": [
    "HW=ExponentialSmoothing((train['DL user tput']),initialization_method='estimated',damped_trend=False,trend='add',seasonal='mul',use_boxcox=False,seasonal_periods=96)\n",
    "res_hw=HW.fit()"
   ]
  },
  {
   "cell_type": "code",
   "execution_count": 226,
   "metadata": {
    "scrolled": false
   },
   "outputs": [
    {
     "name": "stderr",
     "output_type": "stream",
     "text": [
      "C:\\Users\\Ahmad\\Anaconda3\\lib\\site-packages\\pandas\\core\\indexing.py:494: SettingWithCopyWarning: \n",
      "A value is trying to be set on a copy of a slice from a DataFrame.\n",
      "Try using .loc[row_indexer,col_indexer] = value instead\n",
      "\n",
      "See the caveats in the documentation: http://pandas.pydata.org/pandas-docs/stable/user_guide/indexing.html#returning-a-view-versus-a-copy\n",
      "  self.obj[item] = s\n"
     ]
    },
    {
     "data": {
      "text/plain": [
       "<matplotlib.axes._subplots.AxesSubplot at 0x53053b38>"
      ]
     },
     "execution_count": 226,
     "metadata": {},
     "output_type": "execute_result"
    },
    {
     "data": {
      "image/png": "[encoded data removed]",
      "text/plain": [
       "<Figure size 432x288 with 1 Axes>"
      ]
     },
     "metadata": {},
     "output_type": "display_data"
    }
   ],
   "source": [
    "df_filter.loc[train_idx,'HoltWinters']=(res_hw.fittedvalues)\n",
    "df_filter.loc[test_idx,'HoltWinters']=(res_hw.forecast(Ntest))\n",
    "#df_filter['HoltWinters']=np.sqrt(df_filter['HoltWinters'])\n",
    "df_filter[['DL user tput','HoltWinters']].plot()"
   ]
  },
  {
   "cell_type": "code",
   "execution_count": 227,
   "metadata": {},
   "outputs": [
    {
     "name": "stderr",
     "output_type": "stream",
     "text": [
      "C:\\Users\\Ahmad\\Anaconda3\\lib\\site-packages\\ipykernel_launcher.py:1: SettingWithCopyWarning: \n",
      "A value is trying to be set on a copy of a slice from a DataFrame.\n",
      "Try using .loc[row_indexer,col_indexer] = value instead\n",
      "\n",
      "See the caveats in the documentation: http://pandas.pydata.org/pandas-docs/stable/user_guide/indexing.html#returning-a-view-versus-a-copy\n",
      "  \"\"\"Entry point for launching an IPython kernel.\n"
     ]
    }
   ],
   "source": [
    "test['HW']=(res_hw.forecast(Ntest))"
   ]
  },
  {
   "cell_type": "code",
   "execution_count": 228,
   "metadata": {},
   "outputs": [
    {
     "data": {
      "text/plain": [
       "0.20484488947215385"
      ]
     },
     "execution_count": 228,
     "metadata": {},
     "output_type": "execute_result"
    },
    {
     "data": {
      "image/png": "[encoded data removed]",
      "text/plain": [
       "<Figure size 432x288 with 1 Axes>"
      ]
     },
     "metadata": {},
     "output_type": "display_data"
    }
   ],
   "source": [
    "test[['DL user tput','HW']].plot()\n",
    "r2_score(test['DL user tput'],test['HW'])"
   ]
  },
  {
   "cell_type": "code",
   "execution_count": 103,
   "metadata": {},
   "outputs": [
    {
     "data": {
      "text/plain": [
       "0.38699048076380715"
      ]
     },
     "execution_count": 103,
     "metadata": {},
     "output_type": "execute_result"
    }
   ],
   "source": [
    "df_filter['DL user tput'].iloc[-Ntest:].min()"
   ]
  },
  {
   "cell_type": "code",
   "execution_count": 171,
   "metadata": {},
   "outputs": [
    {
     "data": {
      "text/plain": [
       "0.16085181356443537"
      ]
     },
     "execution_count": 171,
     "metadata": {},
     "output_type": "execute_result"
    }
   ],
   "source": [
    "mean_squared_error(test['DL user tput'],test['HW'])"
   ]
  },
  {
   "cell_type": "code",
   "execution_count": 219,
   "metadata": {},
   "outputs": [],
   "source": [
    "h=96\n",
    "steps=10\n",
    "Ntest=len(df_filter)-96-steps+1"
   ]
  },
  {
   "cell_type": "code",
   "execution_count": 220,
   "metadata": {},
   "outputs": [],
   "source": [
    "def walkforward(trend_type,seasonal_type,damped_trend,init_method,use_boxcox,debug=False):\n",
    "    errors=[]\n",
    "    seen_last=False\n",
    "    steps_completed=0\n",
    "    \n",
    "    for end_of_train in range(Ntest, len(df)-h+1):\n",
    "        train=df_filter.iloc[:end_of_train]\n",
    "        test=df_filter.iloc[end_of_train:end_of_train+h]\n",
    "        \n",
    "        if test.index[-1]==df_filter.index[-1]:\n",
    "            seen_last=True\n",
    "            \n",
    "        steps_completed +=1\n",
    "        \n",
    "        hw=ExponentialSmoothing(\n",
    "        train['DL user tput'],\n",
    "        initialization_method=init_method,\n",
    "        trend=trend_type,\n",
    "        damped_trend=damped_trend,\n",
    "        seasonal=seasonal_type,\n",
    "        seasonal_periods=96,\n",
    "        use_boxcox=use_boxcox)\n",
    "        res_hw=hw.fit()\n",
    "        \n",
    "        fcast=res_hw.forecast(h)\n",
    "        error=mean_squared_error(test['DL user tput'],fcast)\n",
    "        errors.append(error)\n",
    "        \n",
    "        if debug:\n",
    "            print(\"seen last:\",seen_last)\n",
    "            print(\"steps completed:\",steps_completed)\n",
    "            \n",
    "        return np.mean(errors)\n",
    "    \n",
    "    "
   ]
  },
  {
   "cell_type": "code",
   "execution_count": 221,
   "metadata": {},
   "outputs": [],
   "source": [
    "trend_type_list=['add']\n",
    "seasonal_type_list=['add','mul']\n",
    "damped_trend_list=[True,False]\n",
    "init_method_list=['estimated','heuristic','legacy-heuristic']\n",
    "use_boxcox_list=[True,False,0]\n",
    "\n",
    "tupe_of_option_lists=(\n",
    "    trend_type_list,\n",
    "    seasonal_type_list,\n",
    "    damped_trend_list,\n",
    "    init_method_list,\n",
    "    use_boxcox_list   \n",
    "\n",
    ")"
   ]
  },
  {
   "cell_type": "code",
   "execution_count": 222,
   "metadata": {},
   "outputs": [
    {
     "name": "stdout",
     "output_type": "stream",
     "text": [
      "Best score so far: 0.33326894632827425\n",
      "Best score so far: 0.23288932812652585\n"
     ]
    },
    {
     "name": "stderr",
     "output_type": "stream",
     "text": [
      "C:\\Users\\Ahmad\\AppData\\Roaming\\Python\\Python36\\site-packages\\statsmodels\\tsa\\holtwinters\\model.py:922: ConvergenceWarning: Optimization failed to converge. Check mle_retvals.\n",
      "  ConvergenceWarning,\n",
      "C:\\Users\\Ahmad\\AppData\\Roaming\\Python\\Python36\\site-packages\\statsmodels\\tsa\\holtwinters\\model.py:922: ConvergenceWarning: Optimization failed to converge. Check mle_retvals.\n",
      "  ConvergenceWarning,\n",
      "C:\\Users\\Ahmad\\AppData\\Roaming\\Python\\Python36\\site-packages\\statsmodels\\tsa\\holtwinters\\model.py:922: ConvergenceWarning: Optimization failed to converge. Check mle_retvals.\n",
      "  ConvergenceWarning,\n",
      "C:\\Users\\Ahmad\\AppData\\Roaming\\Python\\Python36\\site-packages\\statsmodels\\tsa\\holtwinters\\model.py:922: ConvergenceWarning: Optimization failed to converge. Check mle_retvals.\n",
      "  ConvergenceWarning,\n",
      "C:\\Users\\Ahmad\\AppData\\Roaming\\Python\\Python36\\site-packages\\statsmodels\\tsa\\holtwinters\\model.py:922: ConvergenceWarning: Optimization failed to converge. Check mle_retvals.\n",
      "  ConvergenceWarning,\n",
      "C:\\Users\\Ahmad\\AppData\\Roaming\\Python\\Python36\\site-packages\\statsmodels\\tsa\\holtwinters\\model.py:922: ConvergenceWarning: Optimization failed to converge. Check mle_retvals.\n",
      "  ConvergenceWarning,\n",
      "C:\\Users\\Ahmad\\AppData\\Roaming\\Python\\Python36\\site-packages\\statsmodels\\tsa\\holtwinters\\model.py:922: ConvergenceWarning: Optimization failed to converge. Check mle_retvals.\n",
      "  ConvergenceWarning,\n",
      "C:\\Users\\Ahmad\\AppData\\Roaming\\Python\\Python36\\site-packages\\statsmodels\\tsa\\holtwinters\\model.py:922: ConvergenceWarning: Optimization failed to converge. Check mle_retvals.\n",
      "  ConvergenceWarning,\n",
      "C:\\Users\\Ahmad\\AppData\\Roaming\\Python\\Python36\\site-packages\\statsmodels\\tsa\\holtwinters\\model.py:922: ConvergenceWarning: Optimization failed to converge. Check mle_retvals.\n",
      "  ConvergenceWarning,\n"
     ]
    },
    {
     "name": "stdout",
     "output_type": "stream",
     "text": [
      "Best score so far: 0.17959419224947795\n"
     ]
    },
    {
     "name": "stderr",
     "output_type": "stream",
     "text": [
      "C:\\Users\\Ahmad\\AppData\\Roaming\\Python\\Python36\\site-packages\\statsmodels\\tsa\\holtwinters\\model.py:922: ConvergenceWarning: Optimization failed to converge. Check mle_retvals.\n",
      "  ConvergenceWarning,\n",
      "C:\\Users\\Ahmad\\AppData\\Roaming\\Python\\Python36\\site-packages\\statsmodels\\tsa\\holtwinters\\model.py:922: ConvergenceWarning: Optimization failed to converge. Check mle_retvals.\n",
      "  ConvergenceWarning,\n",
      "C:\\Users\\Ahmad\\AppData\\Roaming\\Python\\Python36\\site-packages\\statsmodels\\tsa\\holtwinters\\model.py:922: ConvergenceWarning: Optimization failed to converge. Check mle_retvals.\n",
      "  ConvergenceWarning,\n",
      "C:\\Users\\Ahmad\\AppData\\Roaming\\Python\\Python36\\site-packages\\statsmodels\\tsa\\holtwinters\\model.py:922: ConvergenceWarning: Optimization failed to converge. Check mle_retvals.\n",
      "  ConvergenceWarning,\n",
      "C:\\Users\\Ahmad\\AppData\\Roaming\\Python\\Python36\\site-packages\\statsmodels\\tsa\\holtwinters\\model.py:922: ConvergenceWarning: Optimization failed to converge. Check mle_retvals.\n",
      "  ConvergenceWarning,\n"
     ]
    }
   ],
   "source": [
    "best_score=float('inf')\n",
    "best_options=None\n",
    "for x in itertools.product(*tupe_of_option_lists):\n",
    "    score=walkforward(*x)\n",
    "    \n",
    "    if score < best_score:\n",
    "        print(\"Best score so far:\",score)\n",
    "        best_score=score\n",
    "        best_options=x"
   ]
  },
  {
   "cell_type": "code",
   "execution_count": 224,
   "metadata": {},
   "outputs": [
    {
     "name": "stdout",
     "output_type": "stream",
     "text": [
      "best score: 0.17959419224947795\n",
      "trend_type add\n",
      "seasonal_type mul\n",
      "damped_trend False\n",
      "init_method estimated\n",
      "use_boxcox False\n"
     ]
    }
   ],
   "source": [
    "print(\"best score:\",best_score)\n",
    "\n",
    "trend_type,seasonal_type,damped_trend,init_method,use_boxcox=best_options\n",
    "print(\"trend_type\",trend_type)\n",
    "print(\"seasonal_type\",seasonal_type)\n",
    "print(\"damped_trend\",damped_trend)\n",
    "print(\"init_method\",init_method)\n",
    "print(\"use_boxcox\",use_boxcox)"
   ]
  }
 ],
 "metadata": {
  "kernelspec": {
   "display_name": "Python 3",
   "language": "python",
   "name": "python3"
  },
  "language_info": {
   "codemirror_mode": {
    "name": "ipython",
    "version": 3
   },
   "file_extension": ".py",
   "mimetype": "text/x-python",
   "name": "python",
   "nbconvert_exporter": "python",
   "pygments_lexer": "ipython3",
   "version": "3.6.5"
  }
 },
 "nbformat": 4,
 "nbformat_minor": 2
}
