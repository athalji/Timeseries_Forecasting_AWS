{
 "cells": [
  {
   "cell_type": "markdown",
   "metadata": {},
   "source": [
    "# Data exploration and visualization"
   ]
  },
  {
   "cell_type": "markdown",
   "metadata": {},
   "source": [
    "This dataset is a 4G LTE mobile network counters data for a major MENA operator on Huawei infra. The dataset being worked on is a subset of the full dataset focused on countes used to calcualte high level performance KPIs for a period of one week. This notebook is an initial data exploration and visualization for this dataset before jumping into any forecasting modeling"
   ]
  },
  {
   "cell_type": "markdown",
   "metadata": {},
   "source": [
    "### Load libraries required for the analysis"
   ]
  },
  {
   "cell_type": "code",
   "execution_count": 973,
   "metadata": {},
   "outputs": [],
   "source": [
    "import pandas as pd\n",
    "import numpy as np\n",
    "from statsmodels.tsa.holtwinters import SimpleExpSmoothing\n",
    "from statsmodels.tsa.holtwinters import Holt\n",
    "from statsmodels.tsa.holtwinters import ExponentialSmoothing\n",
    "from sklearn.metrics import mean_squared_error\n",
    "from sklearn.metrics import r2_score\n",
    "import itertools\n",
    "import seaborn as sns\n",
    "import matplotlib.pyplot as plt\n",
    "\n",
    "from datetime import date\n",
    "import calendar\n",
    "from pandas.api.types import CategoricalDtype\n",
    "import statsmodels.api as sm\n",
    "import warnings\n",
    "warnings.filterwarnings('ignore')"
   ]
  },
  {
   "cell_type": "markdown",
   "metadata": {},
   "source": [
    "### Load the dataset and check the data type"
   ]
  },
  {
   "cell_type": "code",
   "execution_count": 997,
   "metadata": {},
   "outputs": [
    {
     "data": {
      "text/html": [
       "<div>\n",
       "<style scoped>\n",
       "    .dataframe tbody tr th:only-of-type {\n",
       "        vertical-align: middle;\n",
       "    }\n",
       "\n",
       "    .dataframe tbody tr th {\n",
       "        vertical-align: top;\n",
       "    }\n",
       "\n",
       "    .dataframe thead th {\n",
       "        text-align: right;\n",
       "    }\n",
       "</style>\n",
       "<table border=\"1\" class=\"dataframe\">\n",
       "  <thead>\n",
       "    <tr style=\"text-align: right;\">\n",
       "      <th></th>\n",
       "      <th>Start Time</th>\n",
       "      <th>Cell</th>\n",
       "      <th>L.Traffic.UL.SCH.QPSK.ErrTB.Ibler (None)</th>\n",
       "      <th>L.Traffic.UL.SCH.QPSK.ErrTB.Rbler (None)</th>\n",
       "      <th>L.Traffic.UL.SCH.QPSK.TB (None)</th>\n",
       "      <th>L.Traffic.UL.SCH.QPSK.TB.bits (bit)</th>\n",
       "      <th>L.Traffic.UL.SCH.QPSK.TB.Retrans (None)</th>\n",
       "      <th>L.Traffic.UL.SCH.QPSK.TB.Retrans.bits (bit)</th>\n",
       "      <th>L.Traffic.DL.PktDelay.Num.QCI.9 (packet)</th>\n",
       "      <th>L.Traffic.DL.PktDelay.Time.QCI.9 (ms)</th>\n",
       "      <th>...</th>\n",
       "      <th>L.Traffic.UL.SCH.16QAM.TB (None)</th>\n",
       "      <th>L.Traffic.UL.SCH.16QAM.TB.bits (bit)</th>\n",
       "      <th>L.Traffic.UL.SCH.16QAM.TB.Retrans (None)</th>\n",
       "      <th>L.Traffic.UL.SCH.16QAM.TB.Retrans.bits (bit)</th>\n",
       "      <th>L.Traffic.UL.SCH.64QAM.ErrTB.Ibler (None)</th>\n",
       "      <th>L.Traffic.UL.SCH.64QAM.ErrTB.Rbler (None)</th>\n",
       "      <th>L.Traffic.UL.SCH.64QAM.TB (None)</th>\n",
       "      <th>L.Traffic.UL.SCH.64QAM.TB.bits (bit)</th>\n",
       "      <th>L.Traffic.UL.SCH.64QAM.TB.Retrans (None)</th>\n",
       "      <th>L.Traffic.UL.SCH.64QAM.TB.Retrans.bits (bit)</th>\n",
       "    </tr>\n",
       "  </thead>\n",
       "  <tbody>\n",
       "    <tr>\n",
       "      <th>0</th>\n",
       "      <td>2013-08-28</td>\n",
       "      <td>Local cell identity=2, Cell Name=eNB_2786_2</td>\n",
       "      <td>16296</td>\n",
       "      <td>2631</td>\n",
       "      <td>153575</td>\n",
       "      <td>101906552</td>\n",
       "      <td>26414</td>\n",
       "      <td>15092480</td>\n",
       "      <td>785527</td>\n",
       "      <td>190975757</td>\n",
       "      <td>...</td>\n",
       "      <td>513181</td>\n",
       "      <td>1215761008</td>\n",
       "      <td>40201</td>\n",
       "      <td>98515328</td>\n",
       "      <td>0</td>\n",
       "      <td>0</td>\n",
       "      <td>0</td>\n",
       "      <td>0</td>\n",
       "      <td>0</td>\n",
       "      <td>0</td>\n",
       "    </tr>\n",
       "    <tr>\n",
       "      <th>1</th>\n",
       "      <td>2013-08-28</td>\n",
       "      <td>Local cell identity=1, Cell Name=eNB_2282_1</td>\n",
       "      <td>12856</td>\n",
       "      <td>433</td>\n",
       "      <td>111023</td>\n",
       "      <td>87983752</td>\n",
       "      <td>15671</td>\n",
       "      <td>10747464</td>\n",
       "      <td>1428194</td>\n",
       "      <td>753605164</td>\n",
       "      <td>...</td>\n",
       "      <td>670664</td>\n",
       "      <td>1167179360</td>\n",
       "      <td>47727</td>\n",
       "      <td>94020520</td>\n",
       "      <td>0</td>\n",
       "      <td>0</td>\n",
       "      <td>0</td>\n",
       "      <td>0</td>\n",
       "      <td>0</td>\n",
       "      <td>0</td>\n",
       "    </tr>\n",
       "    <tr>\n",
       "      <th>2</th>\n",
       "      <td>2013-08-28</td>\n",
       "      <td>Local cell identity=0, Cell Name=eNB_2786_0</td>\n",
       "      <td>13636</td>\n",
       "      <td>641</td>\n",
       "      <td>132016</td>\n",
       "      <td>89939024</td>\n",
       "      <td>17448</td>\n",
       "      <td>10200736</td>\n",
       "      <td>1002134</td>\n",
       "      <td>290990065</td>\n",
       "      <td>...</td>\n",
       "      <td>819410</td>\n",
       "      <td>1921970648</td>\n",
       "      <td>49922</td>\n",
       "      <td>117234944</td>\n",
       "      <td>0</td>\n",
       "      <td>0</td>\n",
       "      <td>0</td>\n",
       "      <td>0</td>\n",
       "      <td>0</td>\n",
       "      <td>0</td>\n",
       "    </tr>\n",
       "    <tr>\n",
       "      <th>3</th>\n",
       "      <td>2013-08-28</td>\n",
       "      <td>Local cell identity=0, Cell Name=eNB_5265_0</td>\n",
       "      <td>11903</td>\n",
       "      <td>82</td>\n",
       "      <td>126081</td>\n",
       "      <td>151564696</td>\n",
       "      <td>12790</td>\n",
       "      <td>20082880</td>\n",
       "      <td>617281</td>\n",
       "      <td>98672335</td>\n",
       "      <td>...</td>\n",
       "      <td>969115</td>\n",
       "      <td>1215749536</td>\n",
       "      <td>38963</td>\n",
       "      <td>53750968</td>\n",
       "      <td>0</td>\n",
       "      <td>0</td>\n",
       "      <td>0</td>\n",
       "      <td>0</td>\n",
       "      <td>0</td>\n",
       "      <td>0</td>\n",
       "    </tr>\n",
       "    <tr>\n",
       "      <th>4</th>\n",
       "      <td>2013-08-28</td>\n",
       "      <td>Local cell identity=2, Cell Name=eNB_5265_2</td>\n",
       "      <td>41385</td>\n",
       "      <td>7867</td>\n",
       "      <td>259625</td>\n",
       "      <td>183131112</td>\n",
       "      <td>76076</td>\n",
       "      <td>32228320</td>\n",
       "      <td>1121723</td>\n",
       "      <td>510453204</td>\n",
       "      <td>...</td>\n",
       "      <td>561853</td>\n",
       "      <td>1208172496</td>\n",
       "      <td>44483</td>\n",
       "      <td>105478408</td>\n",
       "      <td>0</td>\n",
       "      <td>0</td>\n",
       "      <td>0</td>\n",
       "      <td>0</td>\n",
       "      <td>0</td>\n",
       "      <td>0</td>\n",
       "    </tr>\n",
       "  </tbody>\n",
       "</table>\n",
       "<p>5 rows × 82 columns</p>\n",
       "</div>"
      ],
      "text/plain": [
       "  Start Time                                         Cell  \\\n",
       "0 2013-08-28  Local cell identity=2, Cell Name=eNB_2786_2   \n",
       "1 2013-08-28  Local cell identity=1, Cell Name=eNB_2282_1   \n",
       "2 2013-08-28  Local cell identity=0, Cell Name=eNB_2786_0   \n",
       "3 2013-08-28  Local cell identity=0, Cell Name=eNB_5265_0   \n",
       "4 2013-08-28  Local cell identity=2, Cell Name=eNB_5265_2   \n",
       "\n",
       "   L.Traffic.UL.SCH.QPSK.ErrTB.Ibler (None)  \\\n",
       "0                                     16296   \n",
       "1                                     12856   \n",
       "2                                     13636   \n",
       "3                                     11903   \n",
       "4                                     41385   \n",
       "\n",
       "   L.Traffic.UL.SCH.QPSK.ErrTB.Rbler (None)  L.Traffic.UL.SCH.QPSK.TB (None)  \\\n",
       "0                                      2631                           153575   \n",
       "1                                       433                           111023   \n",
       "2                                       641                           132016   \n",
       "3                                        82                           126081   \n",
       "4                                      7867                           259625   \n",
       "\n",
       "   L.Traffic.UL.SCH.QPSK.TB.bits (bit)  \\\n",
       "0                            101906552   \n",
       "1                             87983752   \n",
       "2                             89939024   \n",
       "3                            151564696   \n",
       "4                            183131112   \n",
       "\n",
       "   L.Traffic.UL.SCH.QPSK.TB.Retrans (None)  \\\n",
       "0                                    26414   \n",
       "1                                    15671   \n",
       "2                                    17448   \n",
       "3                                    12790   \n",
       "4                                    76076   \n",
       "\n",
       "   L.Traffic.UL.SCH.QPSK.TB.Retrans.bits (bit)  \\\n",
       "0                                     15092480   \n",
       "1                                     10747464   \n",
       "2                                     10200736   \n",
       "3                                     20082880   \n",
       "4                                     32228320   \n",
       "\n",
       "   L.Traffic.DL.PktDelay.Num.QCI.9 (packet)  \\\n",
       "0                                    785527   \n",
       "1                                   1428194   \n",
       "2                                   1002134   \n",
       "3                                    617281   \n",
       "4                                   1121723   \n",
       "\n",
       "   L.Traffic.DL.PktDelay.Time.QCI.9 (ms)  ...  \\\n",
       "0                              190975757  ...   \n",
       "1                              753605164  ...   \n",
       "2                              290990065  ...   \n",
       "3                               98672335  ...   \n",
       "4                              510453204  ...   \n",
       "\n",
       "   L.Traffic.UL.SCH.16QAM.TB (None)  L.Traffic.UL.SCH.16QAM.TB.bits (bit)  \\\n",
       "0                            513181                            1215761008   \n",
       "1                            670664                            1167179360   \n",
       "2                            819410                            1921970648   \n",
       "3                            969115                            1215749536   \n",
       "4                            561853                            1208172496   \n",
       "\n",
       "   L.Traffic.UL.SCH.16QAM.TB.Retrans (None)  \\\n",
       "0                                     40201   \n",
       "1                                     47727   \n",
       "2                                     49922   \n",
       "3                                     38963   \n",
       "4                                     44483   \n",
       "\n",
       "   L.Traffic.UL.SCH.16QAM.TB.Retrans.bits (bit)  \\\n",
       "0                                      98515328   \n",
       "1                                      94020520   \n",
       "2                                     117234944   \n",
       "3                                      53750968   \n",
       "4                                     105478408   \n",
       "\n",
       "  L.Traffic.UL.SCH.64QAM.ErrTB.Ibler (None)  \\\n",
       "0                                         0   \n",
       "1                                         0   \n",
       "2                                         0   \n",
       "3                                         0   \n",
       "4                                         0   \n",
       "\n",
       "   L.Traffic.UL.SCH.64QAM.ErrTB.Rbler (None)  \\\n",
       "0                                          0   \n",
       "1                                          0   \n",
       "2                                          0   \n",
       "3                                          0   \n",
       "4                                          0   \n",
       "\n",
       "   L.Traffic.UL.SCH.64QAM.TB (None)  L.Traffic.UL.SCH.64QAM.TB.bits (bit)  \\\n",
       "0                                 0                                     0   \n",
       "1                                 0                                     0   \n",
       "2                                 0                                     0   \n",
       "3                                 0                                     0   \n",
       "4                                 0                                     0   \n",
       "\n",
       "   L.Traffic.UL.SCH.64QAM.TB.Retrans (None)  \\\n",
       "0                                         0   \n",
       "1                                         0   \n",
       "2                                         0   \n",
       "3                                         0   \n",
       "4                                         0   \n",
       "\n",
       "   L.Traffic.UL.SCH.64QAM.TB.Retrans.bits (bit)  \n",
       "0                                             0  \n",
       "1                                             0  \n",
       "2                                             0  \n",
       "3                                             0  \n",
       "4                                             0  \n",
       "\n",
       "[5 rows x 82 columns]"
      ]
     },
     "execution_count": 997,
     "metadata": {},
     "output_type": "execute_result"
    }
   ],
   "source": [
    "df=pd.read_excel('Traffic.xlsx')\n",
    "df.head()"
   ]
  },
  {
   "cell_type": "markdown",
   "metadata": {},
   "source": [
    "What are we dealing with here? it's a dataset that has a time stamp, along with the name of the cell. The cells are the 4G LTE sites that provide coverage to the service area. Each cell has a reading every 15 minutes as seen below (taken for one cell as an example). There are 768 readings for each cell which amounts to a full week's data. As seen in the head results, each column has numeric values for each reading. Each column is called a \"counter\" as it counts/calculates one variable every 15 mins and records it in the the dataset"
   ]
  },
  {
   "cell_type": "code",
   "execution_count": 998,
   "metadata": {},
   "outputs": [
    {
     "data": {
      "text/plain": [
       "0        2013-08-28 00:00:00\n",
       "484      2013-08-28 00:15:00\n",
       "564      2013-08-28 00:30:00\n",
       "824      2013-08-28 00:45:00\n",
       "1190     2013-08-28 01:00:00\n",
       "                 ...        \n",
       "209057   2013-09-04 22:45:00\n",
       "209331   2013-09-04 23:00:00\n",
       "209605   2013-09-04 23:15:00\n",
       "209879   2013-09-04 23:30:00\n",
       "210153   2013-09-04 23:45:00\n",
       "Name: Start Time, Length: 768, dtype: datetime64[ns]"
      ]
     },
     "execution_count": 998,
     "metadata": {},
     "output_type": "execute_result"
    }
   ],
   "source": [
    "df['Start Time'] = pd.to_datetime(df['Start Time'])\n",
    "df_subset=df[df['Cell']=='Local cell identity=2, Cell Name=eNB_2786_2']\n",
    "df_subset['Start Time']"
   ]
  },
  {
   "cell_type": "markdown",
   "metadata": {},
   "source": [
    "Ok. What columns are we dealing with? Let's have a look"
   ]
  },
  {
   "cell_type": "code",
   "execution_count": 895,
   "metadata": {},
   "outputs": [
    {
     "data": {
      "text/plain": [
       "Index(['Start Time', 'Cell', 'L.Traffic.UL.SCH.QPSK.ErrTB.Ibler (None)',\n",
       "       'L.Traffic.UL.SCH.QPSK.ErrTB.Rbler (None)',\n",
       "       'L.Traffic.UL.SCH.QPSK.TB (None)',\n",
       "       'L.Traffic.UL.SCH.QPSK.TB.bits (bit)',\n",
       "       'L.Traffic.UL.SCH.QPSK.TB.Retrans (None)',\n",
       "       'L.Traffic.UL.SCH.QPSK.TB.Retrans.bits (bit)',\n",
       "       'L.Traffic.DL.PktDelay.Num.QCI.9 (packet)',\n",
       "       'L.Traffic.DL.PktDelay.Time.QCI.9 (ms)',\n",
       "       'L.Traffic.DL.PktUuLoss.Loss.QCI.9 (packet)',\n",
       "       'L.Traffic.DL.PktUuLoss.Tot.QCI.9 (packet)',\n",
       "       'L.Traffic.UL.PktLoss.Loss.QCI.9 (packet)',\n",
       "       'L.Traffic.UL.PktLoss.Tot.QCI.9 (packet)', 'DL RBLER (%)',\n",
       "       'L.PDCP.DL.RoHC.HdrCompRatio (%)', 'L.PDCP.DL.RoHC.PktCompRatio (%)',\n",
       "       'L.PDCP.Tx.Disc.Trf.SDU.QCI.9 (packet)',\n",
       "       'L.PDCP.Tx.TotRev.Trf.SDU.QCI.9 (packet)',\n",
       "       'L.PDCP.UL.RoHC.FailDecompRatio (%)', 'L.Traffic.CEU.Avg (None)',\n",
       "       'L.Traffic.User.ULData.Avg (None)', 'L.Traffic.User.DLData.Avg (None)',\n",
       "       'L.Traffic.User.Max (None)', 'L.Traffic.User.DLData.Max (None)',\n",
       "       'L.Traffic.User.Avg (None)', 'L.Traffic.CEU.Max (None)',\n",
       "       'L.Traffic.User.ULData.Max (None)', 'L.E-RAB.SessionTime.QCI9 (s)',\n",
       "       'L.E-RAB.SessionTime.UE (s)', 'L.Thrp.bits.DL (bit)',\n",
       "       'L.Thrp.bits.DL.Max (bit)', 'L.Thrp.bits.DL.QCI.9 (bit)',\n",
       "       'L.Thrp.bits.DL.QCI.9.Max (bit)', 'L.Thrp.bits.DL.SRB (bit)',\n",
       "       'L.Thrp.bits.UL (bit)', 'L.Thrp.bits.UL.Max (bit)',\n",
       "       'L.Thrp.bits.UL.QCI.9 (bit)', 'L.Thrp.bits.UL.SRB (bit)',\n",
       "       'L.Thrp.bits.UL.QCI.9.Max (bit)', 'L.Thrp.Time.Cell.DL (s)',\n",
       "       'L.Thrp.Time.Cell.UL (s)', 'L.Thrp.Time.DL (ms)',\n",
       "       'L.Thrp.Time.DL.QCI.9 (ms)', 'L.Thrp.Time.UL (ms)',\n",
       "       'L.Thrp.Time.UL.QCI.9 (ms)', 'L.UECNTX.AbnormRel (times)',\n",
       "       'L.UECNTX.NormRel (times)', 'L.Traffic.DRB (None)',\n",
       "       'L.Traffic.DRB.QCI.9 (None)', 'L.Traffic.BCH.TB.bits (bit)',\n",
       "       'L.Traffic.DL.SCH.16QAM.ErrTB.Ibler (None)',\n",
       "       'L.Traffic.DL.SCH.16QAM.ErrTB.Rbler (None)',\n",
       "       'L.Traffic.DL.SCH.16QAM.TB (None)',\n",
       "       'L.Traffic.DL.SCH.16QAM.TB.bits (bit)',\n",
       "       'L.Traffic.DL.SCH.16QAM.TB.Retrans (None)',\n",
       "       'L.Traffic.DL.SCH.16QAM.TB.Retrans.bits (bit)',\n",
       "       'L.Traffic.DL.SCH.64QAM.ErrTB.Ibler (None)',\n",
       "       'L.Traffic.DL.SCH.64QAM.ErrTB.Rbler (None)',\n",
       "       'L.Traffic.DL.SCH.64QAM.TB (None)',\n",
       "       'L.Traffic.DL.SCH.64QAM.TB.bits (bit)',\n",
       "       'L.Traffic.DL.SCH.64QAM.TB.Retrans (None)',\n",
       "       'L.Traffic.DL.SCH.64QAM.TB.Retrans.bits (bit)',\n",
       "       'L.Traffic.DL.SCH.QPSK.ErrTB.Ibler (None)',\n",
       "       'L.Traffic.DL.SCH.QPSK.ErrTB.Rbler (None)',\n",
       "       'L.Traffic.DL.SCH.QPSK.TB (None)',\n",
       "       'L.Traffic.DL.SCH.QPSK.TB.bits (bit)',\n",
       "       'L.Traffic.DL.SCH.QPSK.TB.Retrans (None)',\n",
       "       'L.Traffic.DL.SCH.QPSK.TB.Retrans.bits (bit)',\n",
       "       'L.Traffic.PCH.TB.bits (bit)',\n",
       "       'L.Traffic.UL.SCH.16QAM.ErrTB.Ibler (None)',\n",
       "       'L.Traffic.UL.SCH.16QAM.ErrTB.Rbler (None)',\n",
       "       'L.Traffic.UL.SCH.16QAM.TB (None)',\n",
       "       'L.Traffic.UL.SCH.16QAM.TB.bits (bit)',\n",
       "       'L.Traffic.UL.SCH.16QAM.TB.Retrans (None)',\n",
       "       'L.Traffic.UL.SCH.16QAM.TB.Retrans.bits (bit)',\n",
       "       'L.Traffic.UL.SCH.64QAM.ErrTB.Ibler (None)',\n",
       "       'L.Traffic.UL.SCH.64QAM.ErrTB.Rbler (None)',\n",
       "       'L.Traffic.UL.SCH.64QAM.TB (None)',\n",
       "       'L.Traffic.UL.SCH.64QAM.TB.bits (bit)',\n",
       "       'L.Traffic.UL.SCH.64QAM.TB.Retrans (None)',\n",
       "       'L.Traffic.UL.SCH.64QAM.TB.Retrans.bits (bit)'],\n",
       "      dtype='object')"
      ]
     },
     "execution_count": 895,
     "metadata": {},
     "output_type": "execute_result"
    }
   ],
   "source": [
    "df.columns"
   ]
  },
  {
   "cell_type": "markdown",
   "metadata": {},
   "source": [
    "There are a number of counters here. Counters included in the dataset are for each layer in the tech stack of 4G LTE airinterface. We are dealing in particular with PHY (bits transmitted/received, time to send/receive, block error rate for each modulation type etc..), MAC (packets transmitted/received), PDCP (Packets count, packets loss, PDCP compression stats), and NAS (Non-access startum session timers and counters). These counters and be used by themselves or in combination to come up with KPIs to monitor the performance/functionality of the 4G LTE network\n",
    "\n",
    "What are the types of columns that we have? the expectation is to be dealing with numeric data. is that what we see?"
   ]
  },
  {
   "cell_type": "code",
   "execution_count": 896,
   "metadata": {},
   "outputs": [
    {
     "data": {
      "text/plain": [
       "Start Time                                      datetime64[ns]\n",
       "Cell                                                    object\n",
       "L.Traffic.UL.SCH.QPSK.ErrTB.Ibler (None)                 int64\n",
       "L.Traffic.UL.SCH.QPSK.ErrTB.Rbler (None)                 int64\n",
       "L.Traffic.UL.SCH.QPSK.TB (None)                          int64\n",
       "                                                     ...      \n",
       "L.Traffic.UL.SCH.64QAM.ErrTB.Rbler (None)                int64\n",
       "L.Traffic.UL.SCH.64QAM.TB (None)                         int64\n",
       "L.Traffic.UL.SCH.64QAM.TB.bits (bit)                     int64\n",
       "L.Traffic.UL.SCH.64QAM.TB.Retrans (None)                 int64\n",
       "L.Traffic.UL.SCH.64QAM.TB.Retrans.bits (bit)             int64\n",
       "Length: 82, dtype: object"
      ]
     },
     "execution_count": 896,
     "metadata": {},
     "output_type": "execute_result"
    }
   ],
   "source": [
    "df.dtypes"
   ]
  },
  {
   "cell_type": "markdown",
   "metadata": {},
   "source": [
    "Looks like the majority of the columns are numeric as expected. Cell name is an object as expected. Start time, which is a time stamp, was read correctly as datetime. Let's set Start time as the index of the dataframe as we are interested in analyzing the dataset as timeseries data. Also let's check the count of each data type in the dataset"
   ]
  },
  {
   "cell_type": "code",
   "execution_count": 999,
   "metadata": {},
   "outputs": [
    {
     "data": {
      "text/plain": [
       "DatetimeIndex(['2013-08-28 00:00:00', '2013-08-28 00:00:00',\n",
       "               '2013-08-28 00:00:00', '2013-08-28 00:00:00',\n",
       "               '2013-08-28 00:00:00', '2013-08-28 00:00:00',\n",
       "               '2013-08-28 00:00:00', '2013-08-28 00:00:00',\n",
       "               '2013-08-28 00:00:00', '2013-08-28 00:00:00',\n",
       "               ...\n",
       "               '2013-09-04 23:45:00', '2013-09-04 23:45:00',\n",
       "               '2013-09-04 23:45:00', '2013-09-04 23:45:00',\n",
       "               '2013-09-04 23:45:00', '2013-09-04 23:45:00',\n",
       "               '2013-09-04 23:45:00', '2013-09-04 23:45:00',\n",
       "               '2013-09-04 23:45:00', '2013-09-04 23:45:00'],\n",
       "              dtype='datetime64[ns]', name='Start Time', length=256493, freq=None)"
      ]
     },
     "execution_count": 999,
     "metadata": {},
     "output_type": "execute_result"
    }
   ],
   "source": [
    "df.set_index('Start Time',drop=False,inplace=True)\n",
    "df.index"
   ]
  },
  {
   "cell_type": "code",
   "execution_count": 1000,
   "metadata": {},
   "outputs": [
    {
     "data": {
      "text/plain": [
       "int64             74\n",
       "float64            5\n",
       "object             2\n",
       "datetime64[ns]     1\n",
       "dtype: int64"
      ]
     },
     "execution_count": 1000,
     "metadata": {},
     "output_type": "execute_result"
    }
   ],
   "source": [
    "df.dtypes.value_counts()"
   ]
  },
  {
   "cell_type": "markdown",
   "metadata": {},
   "source": [
    "Seems like there are two object columns, which is not expected. We expect to have one only (Cell name). Let's check what the second one is"
   ]
  },
  {
   "cell_type": "code",
   "execution_count": 1001,
   "metadata": {},
   "outputs": [
    {
     "data": {
      "text/plain": [
       "['Cell', 'DL RBLER (%)']"
      ]
     },
     "execution_count": 1001,
     "metadata": {},
     "output_type": "execute_result"
    }
   ],
   "source": [
    "obj_cols = []\n",
    "for col in df.columns:\n",
    "    if df[col].dtypes == 'object':\n",
    "        obj_cols.append(col)\n",
    "        \n",
    "obj_cols"
   ]
  },
  {
   "cell_type": "markdown",
   "metadata": {},
   "source": [
    "DL BLER (Block error rate) was read as an objet for some reason. This is not expected as we should be dealing with a float here (values from 0 to 1). Are there any missing values that were read as strings for example in the dataset? let's check the unique values and find out if any item is non-numeric"
   ]
  },
  {
   "cell_type": "code",
   "execution_count": 1007,
   "metadata": {},
   "outputs": [
    {
     "name": "stdout",
     "output_type": "stream",
     "text": [
      "['NIL']\n"
     ]
    }
   ],
   "source": [
    "a=list(df['DL RBLER (%)'].unique())\n",
    "\n",
    "\n",
    "def isfloat(num):\n",
    "    try:\n",
    "        float(num)\n",
    "        return True\n",
    "    except ValueError:\n",
    "        return False\n",
    "\n",
    "print([x for x in a if not isfloat(str(x))])\n"
   ]
  },
  {
   "cell_type": "markdown",
   "metadata": {},
   "source": [
    "Ok...Now it makes sense. There is a value that was read as 'NIL'. Not clear where that came from. But we'll simply set it as na then fill it with the median value in the dataset. Let's also check the non numeric objects' count again"
   ]
  },
  {
   "cell_type": "code",
   "execution_count": 1008,
   "metadata": {},
   "outputs": [
    {
     "data": {
      "text/plain": [
       "['Cell']"
      ]
     },
     "execution_count": 1008,
     "metadata": {},
     "output_type": "execute_result"
    }
   ],
   "source": [
    "df['DL RBLER (%)']=df['DL RBLER (%)'].replace('NIL',np.nan)\n",
    "df['DL RBLER (%)']=df['DL RBLER (%)'].astype(float)\n",
    "df['DL RBLER (%)'].fillna(df['DL RBLER (%)'].median(),inplace=True)\n",
    "obj_cols = []\n",
    "for col in df.columns:\n",
    "    if df[col].dtypes == 'object':\n",
    "        obj_cols.append(col)\n",
    "        \n",
    "obj_cols"
   ]
  },
  {
   "cell_type": "markdown",
   "metadata": {},
   "source": [
    "DL BLER is numeric now. Mssion accomplished!\n",
    "\n",
    "A quick look at the Huawei LTE KPI reference shows that some of the user perceived performance KPIs are not found in the counters out of the box and require some calculations. Two of the most important are Downlink user throughput in Mbps (download speed) and total downlink cell throughput in Mbps (total download speed of the cell). The KPI definition defines those two KPIs as seen below (refer to document eNodeB V100R005C00 KPI Reference issue date 2012-03-30)\n",
    "\n"
   ]
  },
  {
   "cell_type": "code",
   "execution_count": 903,
   "metadata": {},
   "outputs": [],
   "source": [
    "df['DL user tput']=df['L.Thrp.bits.DL.QCI.9 (bit)']/(df['L.Thrp.Time.DL.QCI.9 (ms)']*1000)\n",
    "df['DL cell tput']=df['L.Thrp.bits.DL (bit)']/(df['L.Thrp.Time.Cell.DL (s)']*1000000)\n"
   ]
  },
  {
   "cell_type": "markdown",
   "metadata": {},
   "source": [
    "After adding the two important KPIs, it good to check for any missing values"
   ]
  },
  {
   "cell_type": "code",
   "execution_count": 915,
   "metadata": {},
   "outputs": [
    {
     "data": {
      "text/plain": [
       "Start Time                                      0\n",
       "Cell                                            0\n",
       "L.Traffic.UL.SCH.QPSK.ErrTB.Ibler (None)        0\n",
       "L.Traffic.UL.SCH.QPSK.ErrTB.Rbler (None)        0\n",
       "L.Traffic.UL.SCH.QPSK.TB (None)                 0\n",
       "                                               ..\n",
       "L.Traffic.UL.SCH.64QAM.TB.bits (bit)            0\n",
       "L.Traffic.UL.SCH.64QAM.TB.Retrans (None)        0\n",
       "L.Traffic.UL.SCH.64QAM.TB.Retrans.bits (bit)    0\n",
       "DL user tput                                    0\n",
       "DL cell tput                                    0\n",
       "Length: 84, dtype: int64"
      ]
     },
     "execution_count": 915,
     "metadata": {},
     "output_type": "execute_result"
    }
   ],
   "source": [
    "df.isna().sum()"
   ]
  },
  {
   "cell_type": "markdown",
   "metadata": {},
   "source": [
    "There are 196 missing values for both DL user throughput and DL cell throughput. Let's check the raw data"
   ]
  },
  {
   "cell_type": "code",
   "execution_count": 910,
   "metadata": {
    "collapsed": true
   },
   "outputs": [
    {
     "data": {
      "text/html": [
       "<div>\n",
       "<style scoped>\n",
       "    .dataframe tbody tr th:only-of-type {\n",
       "        vertical-align: middle;\n",
       "    }\n",
       "\n",
       "    .dataframe tbody tr th {\n",
       "        vertical-align: top;\n",
       "    }\n",
       "\n",
       "    .dataframe thead th {\n",
       "        text-align: right;\n",
       "    }\n",
       "</style>\n",
       "<table border=\"1\" class=\"dataframe\">\n",
       "  <thead>\n",
       "    <tr style=\"text-align: right;\">\n",
       "      <th></th>\n",
       "      <th>L.Thrp.bits.DL.QCI.9 (bit)</th>\n",
       "      <th>L.Thrp.Time.DL.QCI.9 (ms)</th>\n",
       "    </tr>\n",
       "    <tr>\n",
       "      <th>Start Time</th>\n",
       "      <th></th>\n",
       "      <th></th>\n",
       "    </tr>\n",
       "  </thead>\n",
       "  <tbody>\n",
       "    <tr>\n",
       "      <th>2013-08-28 09:30:00</th>\n",
       "      <td>0</td>\n",
       "      <td>0</td>\n",
       "    </tr>\n",
       "    <tr>\n",
       "      <th>2013-08-28 09:30:00</th>\n",
       "      <td>0</td>\n",
       "      <td>0</td>\n",
       "    </tr>\n",
       "    <tr>\n",
       "      <th>2013-08-28 09:30:00</th>\n",
       "      <td>0</td>\n",
       "      <td>0</td>\n",
       "    </tr>\n",
       "    <tr>\n",
       "      <th>2013-08-28 09:30:00</th>\n",
       "      <td>0</td>\n",
       "      <td>0</td>\n",
       "    </tr>\n",
       "    <tr>\n",
       "      <th>2013-08-28 09:45:00</th>\n",
       "      <td>0</td>\n",
       "      <td>0</td>\n",
       "    </tr>\n",
       "    <tr>\n",
       "      <th>...</th>\n",
       "      <td>...</td>\n",
       "      <td>...</td>\n",
       "    </tr>\n",
       "    <tr>\n",
       "      <th>2013-09-01 08:45:00</th>\n",
       "      <td>0</td>\n",
       "      <td>0</td>\n",
       "    </tr>\n",
       "    <tr>\n",
       "      <th>2013-09-02 01:15:00</th>\n",
       "      <td>0</td>\n",
       "      <td>0</td>\n",
       "    </tr>\n",
       "    <tr>\n",
       "      <th>2013-09-02 05:15:00</th>\n",
       "      <td>0</td>\n",
       "      <td>0</td>\n",
       "    </tr>\n",
       "    <tr>\n",
       "      <th>2013-09-03 05:45:00</th>\n",
       "      <td>0</td>\n",
       "      <td>0</td>\n",
       "    </tr>\n",
       "    <tr>\n",
       "      <th>2013-09-03 19:15:00</th>\n",
       "      <td>0</td>\n",
       "      <td>0</td>\n",
       "    </tr>\n",
       "  </tbody>\n",
       "</table>\n",
       "<p>196 rows × 2 columns</p>\n",
       "</div>"
      ],
      "text/plain": [
       "                     L.Thrp.bits.DL.QCI.9 (bit)  L.Thrp.Time.DL.QCI.9 (ms)\n",
       "Start Time                                                                \n",
       "2013-08-28 09:30:00                           0                          0\n",
       "2013-08-28 09:30:00                           0                          0\n",
       "2013-08-28 09:30:00                           0                          0\n",
       "2013-08-28 09:30:00                           0                          0\n",
       "2013-08-28 09:45:00                           0                          0\n",
       "...                                         ...                        ...\n",
       "2013-09-01 08:45:00                           0                          0\n",
       "2013-09-02 01:15:00                           0                          0\n",
       "2013-09-02 05:15:00                           0                          0\n",
       "2013-09-03 05:45:00                           0                          0\n",
       "2013-09-03 19:15:00                           0                          0\n",
       "\n",
       "[196 rows x 2 columns]"
      ]
     },
     "execution_count": 910,
     "metadata": {},
     "output_type": "execute_result"
    }
   ],
   "source": [
    "df[df['DL user tput'].isna()][['L.Thrp.bits.DL.QCI.9 (bit)','L.Thrp.Time.DL.QCI.9 (ms)']]"
   ]
  },
  {
   "cell_type": "markdown",
   "metadata": {},
   "source": [
    "The NA's are due to the counters being all zeros. There were no connected users or traffic going on. Since that is the reason we can replace the NA's with zeros."
   ]
  },
  {
   "cell_type": "code",
   "execution_count": 914,
   "metadata": {},
   "outputs": [],
   "source": [
    "df['DL user tput']=df['DL user tput'].replace(np.nan,0)\n",
    "df['DL cell tput']=df['DL cell tput'].replace(np.nan,0)"
   ]
  },
  {
   "cell_type": "markdown",
   "metadata": {},
   "source": [
    "### Add dattime related features"
   ]
  },
  {
   "cell_type": "markdown",
   "metadata": {},
   "source": [
    "Some very useful features to add for timeseries analysis are datetime related features such as day of the week and time of the day. Below we add those features. First day of week is added. to maintain order of days we make sure we set ordered argument to true"
   ]
  },
  {
   "cell_type": "code",
   "execution_count": 918,
   "metadata": {},
   "outputs": [
    {
     "data": {
      "text/plain": [
       "[Wednesday, Thursday, Friday, Saturday, Sunday, Monday, Tuesday]\n",
       "Categories (7, object): [Monday < Tuesday < Wednesday < Thursday < Friday < Saturday < Sunday]"
      ]
     },
     "execution_count": 918,
     "metadata": {},
     "output_type": "execute_result"
    }
   ],
   "source": [
    "df['day_of_week']=df['Start Time'].dt.day_name()\n",
    "\n",
    "cats = [ 'Monday', 'Tuesday', 'Wednesday', 'Thursday', 'Friday', 'Saturday', 'Sunday']\n",
    "\n",
    "cat_type = CategoricalDtype(categories=cats, ordered=True)\n",
    "df['day_of_week'] = df['day_of_week'].astype(cat_type)\n",
    "\n",
    "df['day_of_week'].unique()"
   ]
  },
  {
   "cell_type": "markdown",
   "metadata": {},
   "source": [
    "Time of the day is also added in the form of hour of the day (24 hour format)\n"
   ]
  },
  {
   "cell_type": "code",
   "execution_count": 921,
   "metadata": {},
   "outputs": [
    {
     "data": {
      "text/plain": [
       "array(['00', '01', '02', '03', '04', '05', '06', '07', '08', '09', '10',\n",
       "       '11', '12', '13', '14', '15', '16', '17', '18', '19', '20', '21',\n",
       "       '22', '23'], dtype=object)"
      ]
     },
     "execution_count": 921,
     "metadata": {},
     "output_type": "execute_result"
    }
   ],
   "source": [
    "df['hour_of_day']=df['Start Time'].dt.strftime('%H')\n",
    "df['hour_of_day'].unique()"
   ]
  },
  {
   "cell_type": "markdown",
   "metadata": {},
   "source": [
    "### User Download Throughput analysis"
   ]
  },
  {
   "cell_type": "markdown",
   "metadata": {},
   "source": [
    "On of the major KPIs for user perceived service quality is average user downlink throughput. To understand how this KPI changes over time it is good to aggregate the KPI over different time periods (day of week and hour of day)"
   ]
  },
  {
   "cell_type": "code",
   "execution_count": 922,
   "metadata": {},
   "outputs": [],
   "source": [
    "plotdays=df.groupby(['day_of_week'])['DL user tput'].mean()\n",
    "plothours=df.groupby(['hour_of_day'])['DL user tput'].mean()\n",
    "plotUdays=df.groupby(['day_of_week'])['L.Traffic.User.Avg (None)'].mean()\n",
    "plotUhours=df.groupby(['hour_of_day'])['L.Traffic.User.Avg (None)'].mean()"
   ]
  },
  {
   "cell_type": "code",
   "execution_count": 923,
   "metadata": {},
   "outputs": [],
   "source": [
    "plotdays=pd.DataFrame(plotdays)\n",
    "plotdays['day_of_week']=plotdays.index\n",
    "plotdays.reset_index(level=None, drop=True, inplace=True)\n",
    "\n",
    "plothours=pd.DataFrame(plothours)\n",
    "plothours['hour_of_day']=plothours.index\n",
    "plothours.reset_index(level=None, drop=True, inplace=True)\n",
    "\n",
    "\n",
    "plotUdays=pd.DataFrame(plotUdays)\n",
    "plotUdays['day_of_week']=plotUdays.index\n",
    "plotUdays.reset_index(level=None, drop=True, inplace=True)\n",
    "\n",
    "\n",
    "plotUhours=pd.DataFrame(plotUhours)\n",
    "plotUhours['hour_of_day']=plotUhours.index\n",
    "\n",
    "\n",
    "plotUhours.reset_index(level=None, drop=True, inplace=True)\n"
   ]
  },
  {
   "cell_type": "markdown",
   "metadata": {},
   "source": [
    "First we plot the DL user tput and number of connected user across day of the week"
   ]
  },
  {
   "cell_type": "code",
   "execution_count": 927,
   "metadata": {},
   "outputs": [
    {
     "data": {
      "image/png": "[encoded data removed]",
      "text/plain": [
       "<Figure size 432x288 with 2 Axes>"
      ]
     },
     "metadata": {},
     "output_type": "display_data"
    }
   ],
   "source": [
    "# create figure and axis objects with subplots()\n",
    "fig,ax = plt.subplots()\n",
    "\n",
    "plt.title('User Download Throughput Across Days',fontsize=20);\n",
    "# make a plot\n",
    "ax.plot(plotdays['day_of_week'],\n",
    "        plotdays['DL user tput'],\n",
    "        color=\"red\", \n",
    "        marker=\"o\")\n",
    "\n",
    "# set x-axis label\n",
    "ax.set_xlabel(\"Day of week\", fontsize = 12)\n",
    "\n",
    "# set y-axis label\n",
    "ax.set_ylabel(\"User download throughput\",\n",
    "              color=\"red\",\n",
    "              fontsize=12)\n",
    "\n",
    "\n",
    "\n",
    "# twin object for two different y-axis on the sample plot\n",
    "ax2=ax.twinx()\n",
    "# make a plot with different y-axis using second axis object\n",
    "ax2.plot(plotUdays['day_of_week'], plotUdays['L.Traffic.User.Avg (None)'],color=\"blue\",marker=\"o\")\n",
    "ax2.set_ylabel(\"Average number of connected users\",color=\"blue\",fontsize=12)\n",
    "plt.xticks(np.arange(7), ('Mon', 'Tues', 'Wed', 'Thurs', 'Fri', 'Sat', 'Sun'), fontsize=12);\n",
    "plt.show()\n",
    "\n"
   ]
  },
  {
   "cell_type": "markdown",
   "metadata": {},
   "source": [
    "Then we plot DL user tput and number of connected users across hour of the day"
   ]
  },
  {
   "cell_type": "code",
   "execution_count": 928,
   "metadata": {},
   "outputs": [
    {
     "data": {
      "image/png": "[encoded data removed]",
      "text/plain": [
       "<Figure size 432x288 with 2 Axes>"
      ]
     },
     "metadata": {},
     "output_type": "display_data"
    }
   ],
   "source": [
    "# create figure and axis objects with subplots()\n",
    "fig,ax = plt.subplots()\n",
    "\n",
    "plt.title('User Download Throughput Across hour of the day',fontsize=20);\n",
    "# make a plot\n",
    "ax.plot(plothours['hour_of_day'],\n",
    "        plothours['DL user tput'],\n",
    "        color=\"red\", \n",
    "        marker=\"o\")\n",
    "\n",
    "# set x-axis label\n",
    "ax.set_xlabel(\"hour of day\", fontsize = 12)\n",
    "\n",
    "# set y-axis label\n",
    "ax.set_ylabel(\"User download throughput\",\n",
    "              color=\"red\",\n",
    "              fontsize=12)\n",
    "\n",
    "\n",
    "\n",
    "# twin object for two different y-axis on the sample plot\n",
    "ax2=ax.twinx()\n",
    "# make a plot with different y-axis using second axis object\n",
    "ax2.plot(plotUhours['hour_of_day'], plotUhours['L.Traffic.User.Avg (None)'],color=\"blue\",marker=\"o\")\n",
    "ax2.set_ylabel(\"Average number of connected users\",color=\"blue\",fontsize=12)\n",
    "#plt.xticks(np.arange(7), ('Mon', 'Tues', 'Wed', 'Thurs', 'Fri', 'Sat', 'Sun'), fontsize=12);\n",
    "plt.show()"
   ]
  },
  {
   "cell_type": "markdown",
   "metadata": {},
   "source": [
    "Main observations from the plots above:\n",
    "1) DL user tput and the number of connected users on a cell are inversly related. The higher the number of users the lower the individual downlink throughput. This is seen across hour of the day and day of the week. Thsi is shown again by doing a correlation between the two variables (done in next part)\n",
    "\n",
    "2) weekends have the lowest user downlink throughput as well as the highest avergae number of connected users\n",
    "\n",
    "3) Afternnon and evening hours have the lowest user downlink thorughput and highest number of connected users\n",
    "\n",
    "Above observation is on aggregated data. But does it hold true for all cells or do some cells (or subset of cells) show peaks at different times for example? This question is answered in the next section by doing clustering analysis to see if there are some groups of cells with different behavior"
   ]
  },
  {
   "cell_type": "markdown",
   "metadata": {},
   "source": [
    "## Unsupervised Cell analysis"
   ]
  },
  {
   "cell_type": "markdown",
   "metadata": {},
   "source": [
    "One very good way to see if there are some natural groupongs within the cells based on their behavior is to do unsupervised clustering for the cells. One very popular and computationaly efficient way is the k-means clustering algorithm"
   ]
  },
  {
   "cell_type": "code",
   "execution_count": 252,
   "metadata": {},
   "outputs": [],
   "source": [
    "import matplotlib.pyplot as plt\n",
    "#from kneed import KneeLocator\n",
    "#from sklearn.datasets import make_blobs\n",
    "from sklearn.cluster import KMeans\n",
    "from sklearn.metrics import silhouette_score\n",
    "from sklearn.preprocessing import StandardScaler\n",
    "from sklearn.preprocessing import MinMaxScaler"
   ]
  },
  {
   "cell_type": "markdown",
   "metadata": {},
   "source": [
    "As a start, and since the the main concern revolves around downlink throughput (both user and cell thorughput), it is good to see if we can find any cell clustering based on thorughput, traffic, and number of users based variables. For that reason 'DL user tput', 'DL cell tput', 'L.Traffic.User.Avg (None)','L.Thrp.bits.DL (bit)' were filtered to be used in this excercise.\n",
    "\n",
    "One very meaningful KPI that was added was traffic volume per connected user as per the KPI definition document mentioned above"
   ]
  },
  {
   "cell_type": "code",
   "execution_count": 936,
   "metadata": {
    "collapsed": true
   },
   "outputs": [
    {
     "name": "stderr",
     "output_type": "stream",
     "text": [
      "C:\\Users\\Ahmad\\Anaconda3\\lib\\site-packages\\ipykernel_launcher.py:3: SettingWithCopyWarning: \n",
      "A value is trying to be set on a copy of a slice from a DataFrame.\n",
      "Try using .loc[row_indexer,col_indexer] = value instead\n",
      "\n",
      "See the caveats in the documentation: http://pandas.pydata.org/pandas-docs/stable/user_guide/indexing.html#returning-a-view-versus-a-copy\n",
      "  This is separate from the ipykernel package so we can avoid doing imports until\n",
      "C:\\Users\\Ahmad\\Anaconda3\\lib\\site-packages\\ipykernel_launcher.py:5: SettingWithCopyWarning: \n",
      "A value is trying to be set on a copy of a slice from a DataFrame.\n",
      "Try using .loc[row_indexer,col_indexer] = value instead\n",
      "\n",
      "See the caveats in the documentation: http://pandas.pydata.org/pandas-docs/stable/user_guide/indexing.html#returning-a-view-versus-a-copy\n",
      "  \"\"\"\n",
      "C:\\Users\\Ahmad\\Anaconda3\\lib\\site-packages\\ipykernel_launcher.py:7: SettingWithCopyWarning: \n",
      "A value is trying to be set on a copy of a slice from a DataFrame.\n",
      "Try using .loc[row_indexer,col_indexer] = value instead\n",
      "\n",
      "See the caveats in the documentation: http://pandas.pydata.org/pandas-docs/stable/user_guide/indexing.html#returning-a-view-versus-a-copy\n",
      "  import sys\n"
     ]
    }
   ],
   "source": [
    "df_cluster=df[['Cell','DL user tput','DL cell tput','hour_of_day','L.Traffic.User.Avg (None)','L.Thrp.bits.DL (bit)']]\n",
    "df_cluster.reset_index(level=None, drop=True, inplace=True)\n",
    "df_cluster['hour_of_day']=df_cluster['hour_of_day'].astype(int)\n",
    "\n",
    "df_cluster['L.Traffic.User.Avg (None)']=df_cluster['L.Traffic.User.Avg (None)'].replace(0.0,1.0)\n",
    "\n",
    "df_cluster['Traffic Vol per user']=df_cluster['L.Thrp.bits.DL (bit)']/(df_cluster['L.Traffic.User.Avg (None)']*1000000)\n",
    "\n",
    "#df_cluster"
   ]
  },
  {
   "cell_type": "markdown",
   "metadata": {},
   "source": [
    "'hour_of_day' was also filtered in order to create time of day based variables as different cells could have different behavior. to have a more meaningful analysis, the hour_of_day was divided into five different periods"
   ]
  },
  {
   "cell_type": "code",
   "execution_count": 938,
   "metadata": {
    "collapsed": true
   },
   "outputs": [
    {
     "name": "stderr",
     "output_type": "stream",
     "text": [
      "C:\\Users\\Ahmad\\Anaconda3\\lib\\site-packages\\ipykernel_launcher.py:13: SettingWithCopyWarning: \n",
      "A value is trying to be set on a copy of a slice from a DataFrame.\n",
      "Try using .loc[row_indexer,col_indexer] = value instead\n",
      "\n",
      "See the caveats in the documentation: http://pandas.pydata.org/pandas-docs/stable/user_guide/indexing.html#returning-a-view-versus-a-copy\n",
      "  del sys.path[0]\n"
     ]
    }
   ],
   "source": [
    "conditions = [\n",
    "    (df_cluster['hour_of_day'] >= 1) & (df_cluster['hour_of_day'] < 5), #NO Night Owl\n",
    "    (df_cluster['hour_of_day'] >= 5) & (df_cluster['hour_of_day'] < 9), #EB Early Bird\n",
    "    (df_cluster['hour_of_day'] >= 9) & (df_cluster['hour_of_day'] < 16), #WH Work Hours\n",
    "    (df_cluster['hour_of_day'] >= 16) & (df_cluster['hour_of_day'] < 21), #AW After Work\n",
    "    (df_cluster['hour_of_day'] >= 21) | (df_cluster['hour_of_day'] == 0) #EV Early Evening\n",
    "]\n",
    "\n",
    "\n",
    "\n",
    "values = ['NO', 'EB', 'WH', 'AW','EV']\n",
    "\n",
    "df_cluster['time_of_day'] = np.select(conditions, values)\n"
   ]
  },
  {
   "cell_type": "markdown",
   "metadata": {},
   "source": [
    "To simplify the analysis, user tput, cell tput, and number of users were aggregated at the cell level for all times. Only traffic volume per user was aggregated per cell and per time of day period. This was chosen to have a simple analysis without expanding the number of variables too much as k-means suffers from having a high dimensional space to work on due to using the euclidean distance to calculate distance. Other approaches could be explored with different variables and different time periods"
   ]
  },
  {
   "cell_type": "code",
   "execution_count": 954,
   "metadata": {},
   "outputs": [],
   "source": [
    "\n",
    "cluster_dltput=pd.DataFrame(df_cluster.groupby(['Cell'])['DL user tput'].mean())\n",
    "cluster_avguser=pd.DataFrame(df_cluster.groupby(['Cell'])['L.Traffic.User.Avg (None)'].mean())\n",
    "cluster_celltput=pd.DataFrame(df_cluster.groupby(['Cell'])['DL cell tput'].mean())\n",
    "cluster_traffic=pd.DataFrame(df_cluster.groupby(['Cell','time_of_day'])['Traffic Vol per user'].mean())\n",
    "\n",
    "\n",
    "# crate new columns for each time period for traffic volume\n",
    "cluster_traffic=cluster_traffic.unstack()\n",
    "cluster_traffic.columns=['AW_TV','EB_TV','EV_TV','NO_TV','WH_TV']\n",
    "\n",
    "cluster_dltput['Cell']=cluster_dltput.index\n",
    "cluster_dltput.reset_index(level=None, drop=True, inplace=True)\n",
    "cluster_avguser['Cell']=cluster_avguser.index\n",
    "cluster_avguser.reset_index(level=None, drop=True, inplace=True)\n",
    "\n",
    "#merge all columsn together in one dataframe\n",
    "cluster_merge=pd.merge(cluster_dltput, cluster_avguser, on=\"Cell\")\n",
    "cluster_merge=pd.merge(cluster_merge, cluster_celltput, on=\"Cell\")\n",
    "cluster_merge=pd.merge(cluster_merge, cluster_traffic, on=\"Cell\")\n"
   ]
  },
  {
   "cell_type": "markdown",
   "metadata": {},
   "source": [
    "Scaling is a major step when doing any distance-based modeling such as k-means. There are multiple options to do scaling such as standrad scaler, min-max scaling, or simply binning.\n",
    "\n",
    "One advantage of binning is that it scales the data as well as takes care of outliers in one shot.\n",
    "Generally speaking, there is no one and only one scaling technique that works for all kinds of problems, so some experimentation is required to find the best scaling technique that give the most logical result\n"
   ]
  },
  {
   "cell_type": "code",
   "execution_count": 955,
   "metadata": {},
   "outputs": [],
   "source": [
    "cluster_merge=cluster_merge.set_index('Cell')\n",
    "\n",
    "#define five bins to use in qcut\n",
    "bin_labels = [1,2,3,4,5]\n",
    "cluster_merge['bins_DL_user_tput'] = pd.qcut(cluster_merge['DL user tput'],q=[0, .2, .4, .6, .8, 1],labels=bin_labels)\n",
    "cluster_merge['bins_users'] = pd.qcut(cluster_merge['L.Traffic.User.Avg (None)'],q=[0, .2, .4, .6, .8, 1],labels=bin_labels)\n",
    "cluster_merge['bins_cell_tput'] = pd.qcut(cluster_merge['DL cell tput'],q=[0, .2, .4, .6, .8, 1],labels=bin_labels)\n",
    "cluster_merge['bins_AW_TV'] = pd.qcut(cluster_merge['AW_TV'],q=[0, .2, .4, .6, .8, 1],labels=bin_labels)\n",
    "cluster_merge['bins_EB_TV'] = pd.qcut(cluster_merge['EB_TV'],q=[0, .2, .4, .6, .8, 1],labels=bin_labels)\n",
    "cluster_merge['bins_EV_TV'] = pd.qcut(cluster_merge['EV_TV'],q=[0, .2, .4, .6, .8, 1],labels=bin_labels)\n",
    "cluster_merge['bins_NO_TV'] = pd.qcut(cluster_merge['NO_TV'],q=[0, .2, .4, .6, .8, 1],labels=bin_labels)\n",
    "cluster_merge['bins_WH_TV'] = pd.qcut(cluster_merge['WH_TV'],q=[0, .2, .4, .6, .8, 1],labels=bin_labels)\n",
    "\n",
    "scaled=cluster_merge[['bins_DL_user_tput','bins_users','bins_cell_tput','bins_AW_TV','bins_EB_TV','bins_EV_TV',\n",
    "                     'bins_NO_TV','bins_WH_TV']]\n"
   ]
  },
  {
   "cell_type": "markdown",
   "metadata": {},
   "source": [
    "Now we are ready to run the k-means clustering algorithm. In order to do that we need to find the optimal number of clusters. There is no magic number but there are a number of ways to find one that makes sense based on the data in hand. I like to use a combination of both the elbow method (measures the Within Clusters Sum of Squares) and the Silhouette score (measures the intra-cluster and inter-cluster distance)\n",
    "\n",
    "First we try the elbow method by plotting the WSS for different k values. A first look shows significant drop in WSS for up to k 4, and it becomes more flat after that. The initial chosen k value is 4"
   ]
  },
  {
   "cell_type": "code",
   "execution_count": 978,
   "metadata": {},
   "outputs": [
    {
     "data": {
      "image/png": "[encoded data removed]",
      "text/plain": [
       "<Figure size 432x288 with 1 Axes>"
      ]
     },
     "metadata": {},
     "output_type": "display_data"
    }
   ],
   "source": [
    "\n",
    "clusters = []\n",
    "inertia_vals = []\n",
    "\n",
    "for k in range(1, 10, 1):\n",
    "    \n",
    "    # train clustering with the specified K\n",
    "    model = KMeans(n_clusters=k,  n_jobs=10)\n",
    "    model.fit(scaled)\n",
    "    inertia_vals.append(model.inertia_)\n",
    "    \n",
    "# plot the inertia vs K values\n",
    "plt.plot(range(1,10,1),inertia_vals,marker='*')\n",
    "plt.show()"
   ]
  },
  {
   "cell_type": "markdown",
   "metadata": {},
   "source": [
    "Running the silhouette score method gives the below results. A significant drop is seen after 2 clusters then another drop is seen after 4 clusters. 4 clusters seems like a reasonable choice"
   ]
  },
  {
   "cell_type": "code",
   "execution_count": 975,
   "metadata": {},
   "outputs": [
    {
     "data": {
      "image/png": "[encoded data removed]",
      "text/plain": [
       "<Figure size 432x288 with 1 Axes>"
      ]
     },
     "metadata": {},
     "output_type": "display_data"
    }
   ],
   "source": [
    "\n",
    "sil_score=[]\n",
    "for i in range(1,9,1):\n",
    "    sil_score.append(silhouette_score(scaled, clusters[i].predict(scaled)))    \n",
    "\n",
    "    \n",
    "plt.plot(range(2,10,1),sil_score,marker='*')\n",
    "plt.show()"
   ]
  },
  {
   "cell_type": "markdown",
   "metadata": {},
   "source": [
    "Next we run k-means with 4 clusters and then look at some descriptive stats for the the clusters across the chosen variables to try to understand the differences between them"
   ]
  },
  {
   "cell_type": "code",
   "execution_count": 981,
   "metadata": {
    "scrolled": true
   },
   "outputs": [
    {
     "data": {
      "text/html": [
       "<div>\n",
       "<style scoped>\n",
       "    .dataframe tbody tr th:only-of-type {\n",
       "        vertical-align: middle;\n",
       "    }\n",
       "\n",
       "    .dataframe tbody tr th {\n",
       "        vertical-align: top;\n",
       "    }\n",
       "\n",
       "    .dataframe thead th {\n",
       "        text-align: right;\n",
       "    }\n",
       "</style>\n",
       "<table border=\"1\" class=\"dataframe\">\n",
       "  <thead>\n",
       "    <tr style=\"text-align: right;\">\n",
       "      <th></th>\n",
       "      <th>DL user tput</th>\n",
       "      <th>L.Traffic.User.Avg (None)</th>\n",
       "      <th>DL cell tput</th>\n",
       "      <th>AW_TV</th>\n",
       "      <th>EB_TV</th>\n",
       "      <th>EV_TV</th>\n",
       "      <th>NO_TV</th>\n",
       "      <th>WH_TV</th>\n",
       "    </tr>\n",
       "    <tr>\n",
       "      <th>cluster</th>\n",
       "      <th></th>\n",
       "      <th></th>\n",
       "      <th></th>\n",
       "      <th></th>\n",
       "      <th></th>\n",
       "      <th></th>\n",
       "      <th></th>\n",
       "      <th></th>\n",
       "    </tr>\n",
       "  </thead>\n",
       "  <tbody>\n",
       "    <tr>\n",
       "      <th>0</th>\n",
       "      <td>1.220146</td>\n",
       "      <td>64.797163</td>\n",
       "      <td>8.877836</td>\n",
       "      <td>124.700548</td>\n",
       "      <td>126.821677</td>\n",
       "      <td>127.743744</td>\n",
       "      <td>129.046675</td>\n",
       "      <td>128.423355</td>\n",
       "    </tr>\n",
       "    <tr>\n",
       "      <th>1</th>\n",
       "      <td>2.119966</td>\n",
       "      <td>27.742232</td>\n",
       "      <td>6.128886</td>\n",
       "      <td>194.354885</td>\n",
       "      <td>180.218945</td>\n",
       "      <td>213.789998</td>\n",
       "      <td>207.973344</td>\n",
       "      <td>197.076590</td>\n",
       "    </tr>\n",
       "    <tr>\n",
       "      <th>2</th>\n",
       "      <td>2.126943</td>\n",
       "      <td>29.696033</td>\n",
       "      <td>5.448969</td>\n",
       "      <td>169.597405</td>\n",
       "      <td>137.919423</td>\n",
       "      <td>178.381332</td>\n",
       "      <td>165.763387</td>\n",
       "      <td>161.467071</td>\n",
       "    </tr>\n",
       "    <tr>\n",
       "      <th>3</th>\n",
       "      <td>1.606282</td>\n",
       "      <td>48.003868</td>\n",
       "      <td>8.717574</td>\n",
       "      <td>160.221341</td>\n",
       "      <td>159.341936</td>\n",
       "      <td>166.737066</td>\n",
       "      <td>168.966748</td>\n",
       "      <td>163.397904</td>\n",
       "    </tr>\n",
       "  </tbody>\n",
       "</table>\n",
       "</div>"
      ],
      "text/plain": [
       "         DL user tput  L.Traffic.User.Avg (None)  DL cell tput       AW_TV  \\\n",
       "cluster                                                                      \n",
       "0            1.220146                  64.797163      8.877836  124.700548   \n",
       "1            2.119966                  27.742232      6.128886  194.354885   \n",
       "2            2.126943                  29.696033      5.448969  169.597405   \n",
       "3            1.606282                  48.003868      8.717574  160.221341   \n",
       "\n",
       "              EB_TV       EV_TV       NO_TV       WH_TV  \n",
       "cluster                                                  \n",
       "0        126.821677  127.743744  129.046675  128.423355  \n",
       "1        180.218945  213.789998  207.973344  197.076590  \n",
       "2        137.919423  178.381332  165.763387  161.467071  \n",
       "3        159.341936  166.737066  168.966748  163.397904  "
      ]
     },
     "execution_count": 981,
     "metadata": {},
     "output_type": "execute_result"
    }
   ],
   "source": [
    "model = KMeans(n_clusters=4,random_state=100) \n",
    "kmeans = model.fit(scaled)\n",
    "\n",
    "cluster_merge['cluster']=kmeans.labels_\n",
    "\n",
    "cluster_merge_stats=cluster_merge.groupby(['cluster'])['DL user tput','L.Traffic.User.Avg (None)','DL cell tput','AW_TV','EB_TV','EV_TV','NO_TV','WH_TV'].mean()\n",
    "\n",
    "cluster_merge_stats[['DL user tput','L.Traffic.User.Avg (None)','DL cell tput','AW_TV','EB_TV','EV_TV','NO_TV','WH_TV']]"
   ]
  },
  {
   "cell_type": "markdown",
   "metadata": {},
   "source": [
    "Here are the main observations in the above results:\n",
    "\n",
    "1) There are two low number of users clusters with exactly an equal throughput of around 2.12 Mbps (C1 and C2). the two cluster also have almost the same number of average connected users (27.7 to 29.7). Their average total cell throughputs are not that far off from each other either. What seems to be the differentoiator is the traffic volume oer user; C1 users have higher traffic volume and then C2 and the delta in traffic volume is not explained by the slightly higher number of connected of users. For example the number of users increases from 27.7 to 29.7 (a 7% increase) while the traffic volume drops from a high of 213 to 178 (a 16.5% drop). This means that there is more to the drop in traffic volume in C2 than simply carrying more users. C1 cells have users that are more traffic hungry than C2. Users on those cells could be looked at as high value customers in that regard\n",
    "\n",
    "2) C0 and C3 show two other clusters with higher number of users. C3 has a medium number of user and C0 has the highest number of users. The both have the same total cell throughput (around 8.7 Mbps). The drop in traffic volume per user in C0 compated to C3 seems to be in line with the increase in the number of users (~ 25%)\n",
    "\n",
    "\n",
    "The above exploratory data analysis gave us a better understanding of what we are dealing with in this data set and was a neccesary step before diving into any timeseries forecasting. The next section will go deep into the modeling process starting with problem definiton, feature selection, modeling and forecasting using different techniques"
   ]
  }
 ],
 "metadata": {
  "kernelspec": {
   "display_name": "Python 3",
   "language": "python",
   "name": "python3"
  },
  "language_info": {
   "codemirror_mode": {
    "name": "ipython",
    "version": 3
   },
   "file_extension": ".py",
   "mimetype": "text/x-python",
   "name": "python",
   "nbconvert_exporter": "python",
   "pygments_lexer": "ipython3",
   "version": "3.6.5"
  }
 },
 "nbformat": 4,
 "nbformat_minor": 2
}
